{
 "cells": [
  {
   "cell_type": "markdown",
   "id": "5f9577b5",
   "metadata": {},
   "source": [
    "# Exploração Inicial e Processamento dos dados \n",
    "\n"
   ]
  },
  {
   "cell_type": "markdown",
   "id": "f624e4cd",
   "metadata": {},
   "source": [
    "# Importação das bibliotecas\n"
   ]
  },
  {
   "cell_type": "code",
   "execution_count": 68,
   "id": "e7cbffdd",
   "metadata": {},
   "outputs": [],
   "source": [
    "import numpy as np              # Numerical computing\n",
    "import pandas as pd             # DataFrames and data analysis\n",
    "from sklearn.cluster import KMeans\n",
    "from sklearn.preprocessing import StandardScaler\n",
    "import re # Regular expressions for string manipulation\n",
    "# Data visualization\n",
    "import matplotlib.pyplot as plt # Basic plotting\n",
    "import seaborn as sns           # Statistical plots"
   ]
  },
  {
   "cell_type": "markdown",
   "id": "874490ca",
   "metadata": {},
   "source": [
    "# Carregamento dos dados\n"
   ]
  },
  {
   "cell_type": "code",
   "execution_count": 2,
   "id": "38c9905d",
   "metadata": {},
   "outputs": [
    {
     "name": "stderr",
     "output_type": "stream",
     "text": [
      "C:\\Users\\User\\AppData\\Local\\Temp\\ipykernel_8928\\359614134.py:1: DtypeWarning: Columns (26) have mixed types. Specify dtype option on import or set low_memory=False.\n",
      "  df = pd.read_csv(r'..\\data\\raw\\credit_score_data.csv')\n"
     ]
    },
    {
     "data": {
      "text/html": [
       "<div>\n",
       "<style scoped>\n",
       "    .dataframe tbody tr th:only-of-type {\n",
       "        vertical-align: middle;\n",
       "    }\n",
       "\n",
       "    .dataframe tbody tr th {\n",
       "        vertical-align: top;\n",
       "    }\n",
       "\n",
       "    .dataframe thead th {\n",
       "        text-align: right;\n",
       "    }\n",
       "</style>\n",
       "<table border=\"1\" class=\"dataframe\">\n",
       "  <thead>\n",
       "    <tr style=\"text-align: right;\">\n",
       "      <th></th>\n",
       "      <th>ID</th>\n",
       "      <th>Customer_ID</th>\n",
       "      <th>Month</th>\n",
       "      <th>Name</th>\n",
       "      <th>Age</th>\n",
       "      <th>SSN</th>\n",
       "      <th>Occupation</th>\n",
       "      <th>Annual_Income</th>\n",
       "      <th>Monthly_Inhand_Salary</th>\n",
       "      <th>Num_Bank_Accounts</th>\n",
       "      <th>...</th>\n",
       "      <th>Credit_Mix</th>\n",
       "      <th>Outstanding_Debt</th>\n",
       "      <th>Credit_Utilization_Ratio</th>\n",
       "      <th>Credit_History_Age</th>\n",
       "      <th>Payment_of_Min_Amount</th>\n",
       "      <th>Total_EMI_per_month</th>\n",
       "      <th>Amount_invested_monthly</th>\n",
       "      <th>Payment_Behaviour</th>\n",
       "      <th>Monthly_Balance</th>\n",
       "      <th>Credit_Score</th>\n",
       "    </tr>\n",
       "  </thead>\n",
       "  <tbody>\n",
       "    <tr>\n",
       "      <th>0</th>\n",
       "      <td>0x1602</td>\n",
       "      <td>CUS_0xd40</td>\n",
       "      <td>January</td>\n",
       "      <td>Aaron Maashoh</td>\n",
       "      <td>23</td>\n",
       "      <td>821-00-0265</td>\n",
       "      <td>Scientist</td>\n",
       "      <td>19114.12</td>\n",
       "      <td>1824.843333</td>\n",
       "      <td>3</td>\n",
       "      <td>...</td>\n",
       "      <td>_</td>\n",
       "      <td>809.98</td>\n",
       "      <td>26.822620</td>\n",
       "      <td>22 Years and 1 Months</td>\n",
       "      <td>No</td>\n",
       "      <td>49.574949</td>\n",
       "      <td>80.41529543900253</td>\n",
       "      <td>High_spent_Small_value_payments</td>\n",
       "      <td>312.49408867943663</td>\n",
       "      <td>Good</td>\n",
       "    </tr>\n",
       "    <tr>\n",
       "      <th>1</th>\n",
       "      <td>0x1603</td>\n",
       "      <td>CUS_0xd40</td>\n",
       "      <td>February</td>\n",
       "      <td>Aaron Maashoh</td>\n",
       "      <td>23</td>\n",
       "      <td>821-00-0265</td>\n",
       "      <td>Scientist</td>\n",
       "      <td>19114.12</td>\n",
       "      <td>NaN</td>\n",
       "      <td>3</td>\n",
       "      <td>...</td>\n",
       "      <td>Good</td>\n",
       "      <td>809.98</td>\n",
       "      <td>31.944960</td>\n",
       "      <td>NaN</td>\n",
       "      <td>No</td>\n",
       "      <td>49.574949</td>\n",
       "      <td>118.28022162236736</td>\n",
       "      <td>Low_spent_Large_value_payments</td>\n",
       "      <td>284.62916249607184</td>\n",
       "      <td>Good</td>\n",
       "    </tr>\n",
       "    <tr>\n",
       "      <th>2</th>\n",
       "      <td>0x1604</td>\n",
       "      <td>CUS_0xd40</td>\n",
       "      <td>March</td>\n",
       "      <td>Aaron Maashoh</td>\n",
       "      <td>-500</td>\n",
       "      <td>821-00-0265</td>\n",
       "      <td>Scientist</td>\n",
       "      <td>19114.12</td>\n",
       "      <td>NaN</td>\n",
       "      <td>3</td>\n",
       "      <td>...</td>\n",
       "      <td>Good</td>\n",
       "      <td>809.98</td>\n",
       "      <td>28.609352</td>\n",
       "      <td>22 Years and 3 Months</td>\n",
       "      <td>No</td>\n",
       "      <td>49.574949</td>\n",
       "      <td>81.699521264648</td>\n",
       "      <td>Low_spent_Medium_value_payments</td>\n",
       "      <td>331.2098628537912</td>\n",
       "      <td>Good</td>\n",
       "    </tr>\n",
       "    <tr>\n",
       "      <th>3</th>\n",
       "      <td>0x1605</td>\n",
       "      <td>CUS_0xd40</td>\n",
       "      <td>April</td>\n",
       "      <td>Aaron Maashoh</td>\n",
       "      <td>23</td>\n",
       "      <td>821-00-0265</td>\n",
       "      <td>Scientist</td>\n",
       "      <td>19114.12</td>\n",
       "      <td>NaN</td>\n",
       "      <td>3</td>\n",
       "      <td>...</td>\n",
       "      <td>Good</td>\n",
       "      <td>809.98</td>\n",
       "      <td>31.377862</td>\n",
       "      <td>22 Years and 4 Months</td>\n",
       "      <td>No</td>\n",
       "      <td>49.574949</td>\n",
       "      <td>199.4580743910713</td>\n",
       "      <td>Low_spent_Small_value_payments</td>\n",
       "      <td>223.45130972736786</td>\n",
       "      <td>Good</td>\n",
       "    </tr>\n",
       "    <tr>\n",
       "      <th>4</th>\n",
       "      <td>0x1606</td>\n",
       "      <td>CUS_0xd40</td>\n",
       "      <td>May</td>\n",
       "      <td>Aaron Maashoh</td>\n",
       "      <td>23</td>\n",
       "      <td>821-00-0265</td>\n",
       "      <td>Scientist</td>\n",
       "      <td>19114.12</td>\n",
       "      <td>1824.843333</td>\n",
       "      <td>3</td>\n",
       "      <td>...</td>\n",
       "      <td>Good</td>\n",
       "      <td>809.98</td>\n",
       "      <td>24.797347</td>\n",
       "      <td>22 Years and 5 Months</td>\n",
       "      <td>No</td>\n",
       "      <td>49.574949</td>\n",
       "      <td>41.420153086217326</td>\n",
       "      <td>High_spent_Medium_value_payments</td>\n",
       "      <td>341.48923103222177</td>\n",
       "      <td>Good</td>\n",
       "    </tr>\n",
       "  </tbody>\n",
       "</table>\n",
       "<p>5 rows × 28 columns</p>\n",
       "</div>"
      ],
      "text/plain": [
       "       ID Customer_ID     Month           Name   Age          SSN Occupation  \\\n",
       "0  0x1602   CUS_0xd40   January  Aaron Maashoh    23  821-00-0265  Scientist   \n",
       "1  0x1603   CUS_0xd40  February  Aaron Maashoh    23  821-00-0265  Scientist   \n",
       "2  0x1604   CUS_0xd40     March  Aaron Maashoh  -500  821-00-0265  Scientist   \n",
       "3  0x1605   CUS_0xd40     April  Aaron Maashoh    23  821-00-0265  Scientist   \n",
       "4  0x1606   CUS_0xd40       May  Aaron Maashoh    23  821-00-0265  Scientist   \n",
       "\n",
       "  Annual_Income  Monthly_Inhand_Salary  Num_Bank_Accounts  ...  Credit_Mix  \\\n",
       "0      19114.12            1824.843333                  3  ...           _   \n",
       "1      19114.12                    NaN                  3  ...        Good   \n",
       "2      19114.12                    NaN                  3  ...        Good   \n",
       "3      19114.12                    NaN                  3  ...        Good   \n",
       "4      19114.12            1824.843333                  3  ...        Good   \n",
       "\n",
       "   Outstanding_Debt Credit_Utilization_Ratio     Credit_History_Age  \\\n",
       "0            809.98                26.822620  22 Years and 1 Months   \n",
       "1            809.98                31.944960                    NaN   \n",
       "2            809.98                28.609352  22 Years and 3 Months   \n",
       "3            809.98                31.377862  22 Years and 4 Months   \n",
       "4            809.98                24.797347  22 Years and 5 Months   \n",
       "\n",
       "   Payment_of_Min_Amount Total_EMI_per_month Amount_invested_monthly  \\\n",
       "0                     No           49.574949       80.41529543900253   \n",
       "1                     No           49.574949      118.28022162236736   \n",
       "2                     No           49.574949         81.699521264648   \n",
       "3                     No           49.574949       199.4580743910713   \n",
       "4                     No           49.574949      41.420153086217326   \n",
       "\n",
       "                  Payment_Behaviour     Monthly_Balance Credit_Score  \n",
       "0   High_spent_Small_value_payments  312.49408867943663         Good  \n",
       "1    Low_spent_Large_value_payments  284.62916249607184         Good  \n",
       "2   Low_spent_Medium_value_payments   331.2098628537912         Good  \n",
       "3    Low_spent_Small_value_payments  223.45130972736786         Good  \n",
       "4  High_spent_Medium_value_payments  341.48923103222177         Good  \n",
       "\n",
       "[5 rows x 28 columns]"
      ]
     },
     "execution_count": 2,
     "metadata": {},
     "output_type": "execute_result"
    }
   ],
   "source": [
    "df = pd.read_csv(r'..\\data\\raw\\credit_score_data.csv')\n",
    "df.head()"
   ]
  },
  {
   "cell_type": "markdown",
   "id": "7b944340",
   "metadata": {},
   "source": [
    "## Análise inicial do dados\n",
    "Tamanho do data set, informações, nulos e duplicados \n"
   ]
  },
  {
   "cell_type": "code",
   "execution_count": 3,
   "id": "1f35fbfc",
   "metadata": {},
   "outputs": [
    {
     "data": {
      "text/plain": [
       "(100000, 28)"
      ]
     },
     "execution_count": 3,
     "metadata": {},
     "output_type": "execute_result"
    }
   ],
   "source": [
    "df.shape\n"
   ]
  },
  {
   "cell_type": "code",
   "execution_count": 4,
   "id": "bfee59c2",
   "metadata": {},
   "outputs": [
    {
     "name": "stdout",
     "output_type": "stream",
     "text": [
      "<class 'pandas.core.frame.DataFrame'>\n",
      "RangeIndex: 100000 entries, 0 to 99999\n",
      "Data columns (total 28 columns):\n",
      " #   Column                    Non-Null Count   Dtype  \n",
      "---  ------                    --------------   -----  \n",
      " 0   ID                        100000 non-null  object \n",
      " 1   Customer_ID               100000 non-null  object \n",
      " 2   Month                     100000 non-null  object \n",
      " 3   Name                      90015 non-null   object \n",
      " 4   Age                       100000 non-null  object \n",
      " 5   SSN                       100000 non-null  object \n",
      " 6   Occupation                100000 non-null  object \n",
      " 7   Annual_Income             100000 non-null  object \n",
      " 8   Monthly_Inhand_Salary     84998 non-null   float64\n",
      " 9   Num_Bank_Accounts         100000 non-null  int64  \n",
      " 10  Num_Credit_Card           100000 non-null  int64  \n",
      " 11  Interest_Rate             100000 non-null  int64  \n",
      " 12  Num_of_Loan               100000 non-null  object \n",
      " 13  Type_of_Loan              88592 non-null   object \n",
      " 14  Delay_from_due_date       100000 non-null  int64  \n",
      " 15  Num_of_Delayed_Payment    92998 non-null   object \n",
      " 16  Changed_Credit_Limit      100000 non-null  object \n",
      " 17  Num_Credit_Inquiries      98035 non-null   float64\n",
      " 18  Credit_Mix                100000 non-null  object \n",
      " 19  Outstanding_Debt          100000 non-null  object \n",
      " 20  Credit_Utilization_Ratio  100000 non-null  float64\n",
      " 21  Credit_History_Age        90970 non-null   object \n",
      " 22  Payment_of_Min_Amount     100000 non-null  object \n",
      " 23  Total_EMI_per_month       100000 non-null  float64\n",
      " 24  Amount_invested_monthly   95521 non-null   object \n",
      " 25  Payment_Behaviour         100000 non-null  object \n",
      " 26  Monthly_Balance           98800 non-null   object \n",
      " 27  Credit_Score              100000 non-null  object \n",
      "dtypes: float64(4), int64(4), object(20)\n",
      "memory usage: 21.4+ MB\n"
     ]
    }
   ],
   "source": [
    "df.info()"
   ]
  },
  {
   "cell_type": "code",
   "execution_count": 5,
   "id": "4387f4e2",
   "metadata": {},
   "outputs": [
    {
     "data": {
      "text/plain": [
       "Index(['ID', 'Customer_ID', 'Month', 'Name', 'Age', 'SSN', 'Occupation',\n",
       "       'Annual_Income', 'Monthly_Inhand_Salary', 'Num_Bank_Accounts',\n",
       "       'Num_Credit_Card', 'Interest_Rate', 'Num_of_Loan', 'Type_of_Loan',\n",
       "       'Delay_from_due_date', 'Num_of_Delayed_Payment', 'Changed_Credit_Limit',\n",
       "       'Num_Credit_Inquiries', 'Credit_Mix', 'Outstanding_Debt',\n",
       "       'Credit_Utilization_Ratio', 'Credit_History_Age',\n",
       "       'Payment_of_Min_Amount', 'Total_EMI_per_month',\n",
       "       'Amount_invested_monthly', 'Payment_Behaviour', 'Monthly_Balance',\n",
       "       'Credit_Score'],\n",
       "      dtype='object')"
      ]
     },
     "execution_count": 5,
     "metadata": {},
     "output_type": "execute_result"
    }
   ],
   "source": [
    "df.columns"
   ]
  },
  {
   "cell_type": "code",
   "execution_count": 6,
   "id": "6ac8be7b",
   "metadata": {},
   "outputs": [
    {
     "data": {
      "text/html": [
       "<div>\n",
       "<style scoped>\n",
       "    .dataframe tbody tr th:only-of-type {\n",
       "        vertical-align: middle;\n",
       "    }\n",
       "\n",
       "    .dataframe tbody tr th {\n",
       "        vertical-align: top;\n",
       "    }\n",
       "\n",
       "    .dataframe thead th {\n",
       "        text-align: right;\n",
       "    }\n",
       "</style>\n",
       "<table border=\"1\" class=\"dataframe\">\n",
       "  <thead>\n",
       "    <tr style=\"text-align: right;\">\n",
       "      <th></th>\n",
       "      <th>Monthly_Inhand_Salary</th>\n",
       "      <th>Num_Bank_Accounts</th>\n",
       "      <th>Num_Credit_Card</th>\n",
       "      <th>Interest_Rate</th>\n",
       "      <th>Delay_from_due_date</th>\n",
       "      <th>Num_Credit_Inquiries</th>\n",
       "      <th>Credit_Utilization_Ratio</th>\n",
       "      <th>Total_EMI_per_month</th>\n",
       "    </tr>\n",
       "  </thead>\n",
       "  <tbody>\n",
       "    <tr>\n",
       "      <th>count</th>\n",
       "      <td>84998.000000</td>\n",
       "      <td>100000.000000</td>\n",
       "      <td>100000.00000</td>\n",
       "      <td>100000.000000</td>\n",
       "      <td>100000.000000</td>\n",
       "      <td>98035.000000</td>\n",
       "      <td>100000.000000</td>\n",
       "      <td>100000.000000</td>\n",
       "    </tr>\n",
       "    <tr>\n",
       "      <th>mean</th>\n",
       "      <td>4194.170850</td>\n",
       "      <td>17.091280</td>\n",
       "      <td>22.47443</td>\n",
       "      <td>72.466040</td>\n",
       "      <td>21.068780</td>\n",
       "      <td>27.754251</td>\n",
       "      <td>32.285173</td>\n",
       "      <td>1403.118217</td>\n",
       "    </tr>\n",
       "    <tr>\n",
       "      <th>std</th>\n",
       "      <td>3183.686167</td>\n",
       "      <td>117.404834</td>\n",
       "      <td>129.05741</td>\n",
       "      <td>466.422621</td>\n",
       "      <td>14.860104</td>\n",
       "      <td>193.177339</td>\n",
       "      <td>5.116875</td>\n",
       "      <td>8306.041270</td>\n",
       "    </tr>\n",
       "    <tr>\n",
       "      <th>min</th>\n",
       "      <td>303.645417</td>\n",
       "      <td>-1.000000</td>\n",
       "      <td>0.00000</td>\n",
       "      <td>1.000000</td>\n",
       "      <td>-5.000000</td>\n",
       "      <td>0.000000</td>\n",
       "      <td>20.000000</td>\n",
       "      <td>0.000000</td>\n",
       "    </tr>\n",
       "    <tr>\n",
       "      <th>25%</th>\n",
       "      <td>1625.568229</td>\n",
       "      <td>3.000000</td>\n",
       "      <td>4.00000</td>\n",
       "      <td>8.000000</td>\n",
       "      <td>10.000000</td>\n",
       "      <td>3.000000</td>\n",
       "      <td>28.052567</td>\n",
       "      <td>30.306660</td>\n",
       "    </tr>\n",
       "    <tr>\n",
       "      <th>50%</th>\n",
       "      <td>3093.745000</td>\n",
       "      <td>6.000000</td>\n",
       "      <td>5.00000</td>\n",
       "      <td>13.000000</td>\n",
       "      <td>18.000000</td>\n",
       "      <td>6.000000</td>\n",
       "      <td>32.305784</td>\n",
       "      <td>69.249473</td>\n",
       "    </tr>\n",
       "    <tr>\n",
       "      <th>75%</th>\n",
       "      <td>5957.448333</td>\n",
       "      <td>7.000000</td>\n",
       "      <td>7.00000</td>\n",
       "      <td>20.000000</td>\n",
       "      <td>28.000000</td>\n",
       "      <td>9.000000</td>\n",
       "      <td>36.496663</td>\n",
       "      <td>161.224249</td>\n",
       "    </tr>\n",
       "    <tr>\n",
       "      <th>max</th>\n",
       "      <td>15204.633333</td>\n",
       "      <td>1798.000000</td>\n",
       "      <td>1499.00000</td>\n",
       "      <td>5797.000000</td>\n",
       "      <td>67.000000</td>\n",
       "      <td>2597.000000</td>\n",
       "      <td>50.000000</td>\n",
       "      <td>82331.000000</td>\n",
       "    </tr>\n",
       "  </tbody>\n",
       "</table>\n",
       "</div>"
      ],
      "text/plain": [
       "       Monthly_Inhand_Salary  Num_Bank_Accounts  Num_Credit_Card  \\\n",
       "count           84998.000000      100000.000000     100000.00000   \n",
       "mean             4194.170850          17.091280         22.47443   \n",
       "std              3183.686167         117.404834        129.05741   \n",
       "min               303.645417          -1.000000          0.00000   \n",
       "25%              1625.568229           3.000000          4.00000   \n",
       "50%              3093.745000           6.000000          5.00000   \n",
       "75%              5957.448333           7.000000          7.00000   \n",
       "max             15204.633333        1798.000000       1499.00000   \n",
       "\n",
       "       Interest_Rate  Delay_from_due_date  Num_Credit_Inquiries  \\\n",
       "count  100000.000000        100000.000000          98035.000000   \n",
       "mean       72.466040            21.068780             27.754251   \n",
       "std       466.422621            14.860104            193.177339   \n",
       "min         1.000000            -5.000000              0.000000   \n",
       "25%         8.000000            10.000000              3.000000   \n",
       "50%        13.000000            18.000000              6.000000   \n",
       "75%        20.000000            28.000000              9.000000   \n",
       "max      5797.000000            67.000000           2597.000000   \n",
       "\n",
       "       Credit_Utilization_Ratio  Total_EMI_per_month  \n",
       "count             100000.000000        100000.000000  \n",
       "mean                  32.285173          1403.118217  \n",
       "std                    5.116875          8306.041270  \n",
       "min                   20.000000             0.000000  \n",
       "25%                   28.052567            30.306660  \n",
       "50%                   32.305784            69.249473  \n",
       "75%                   36.496663           161.224249  \n",
       "max                   50.000000         82331.000000  "
      ]
     },
     "execution_count": 6,
     "metadata": {},
     "output_type": "execute_result"
    }
   ],
   "source": [
    "df.describe()"
   ]
  },
  {
   "cell_type": "code",
   "execution_count": 7,
   "id": "b44ef438",
   "metadata": {},
   "outputs": [
    {
     "data": {
      "text/plain": [
       "ID                              0\n",
       "Customer_ID                     0\n",
       "Month                           0\n",
       "Name                         9985\n",
       "Age                             0\n",
       "SSN                             0\n",
       "Occupation                      0\n",
       "Annual_Income                   0\n",
       "Monthly_Inhand_Salary       15002\n",
       "Num_Bank_Accounts               0\n",
       "Num_Credit_Card                 0\n",
       "Interest_Rate                   0\n",
       "Num_of_Loan                     0\n",
       "Type_of_Loan                11408\n",
       "Delay_from_due_date             0\n",
       "Num_of_Delayed_Payment       7002\n",
       "Changed_Credit_Limit            0\n",
       "Num_Credit_Inquiries         1965\n",
       "Credit_Mix                      0\n",
       "Outstanding_Debt                0\n",
       "Credit_Utilization_Ratio        0\n",
       "Credit_History_Age           9030\n",
       "Payment_of_Min_Amount           0\n",
       "Total_EMI_per_month             0\n",
       "Amount_invested_monthly      4479\n",
       "Payment_Behaviour               0\n",
       "Monthly_Balance              1200\n",
       "Credit_Score                    0\n",
       "dtype: int64"
      ]
     },
     "execution_count": 7,
     "metadata": {},
     "output_type": "execute_result"
    }
   ],
   "source": [
    "df.isnull().sum()  "
   ]
  },
  {
   "cell_type": "code",
   "execution_count": 8,
   "id": "c6a63f8c",
   "metadata": {},
   "outputs": [
    {
     "data": {
      "text/plain": [
       "np.int64(0)"
      ]
     },
     "execution_count": 8,
     "metadata": {},
     "output_type": "execute_result"
    }
   ],
   "source": [
    "df.duplicated().sum()  "
   ]
  },
  {
   "cell_type": "markdown",
   "id": "38a31847",
   "metadata": {},
   "source": [
    "# Pré Processamento \n"
   ]
  },
  {
   "cell_type": "markdown",
   "id": "e9b13af2",
   "metadata": {},
   "source": [
    "## Criação de cópia do DataFrame original"
   ]
  },
  {
   "cell_type": "code",
   "execution_count": 9,
   "id": "4399b9cd",
   "metadata": {},
   "outputs": [],
   "source": [
    "# Criando uma cópia do DataFrame original para preservar os dados brutos\n",
    "df_processado = df.copy()\n"
   ]
  },
  {
   "cell_type": "markdown",
   "id": "73f860da",
   "metadata": {},
   "source": [
    "## Renomeando as colunas para o português\n",
    "Este passo ajusta os nomes das colunas do DataFrame df_processado para facilitar a leitura e interpretação em português. A renomeação segue uma padronização em snake_case, mantendo a clareza dos significados de cada campo.\n",
    "\n",
    "\n"
   ]
  },
  {
   "cell_type": "code",
   "execution_count": 10,
   "id": "c94a69c4",
   "metadata": {},
   "outputs": [],
   "source": [
    "df_processado.rename(columns={\n",
    "    'ID': 'id',\n",
    "    'Customer_ID': 'id_cliente',\n",
    "    'Month': 'mes',\n",
    "    'Name': 'nome',\n",
    "    'Age': 'idade',\n",
    "    'SSN': 'ssn',\n",
    "    'Occupation': 'ocupacao',\n",
    "    'Annual_Income': 'renda_anual',\n",
    "    'Monthly_Inhand_Salary': 'salario_liquido_mensal',\n",
    "    'Num_Bank_Accounts': 'qtd_contas_bancarias',\n",
    "    'Num_Credit_Card': 'qtd_cartoes_credito',\n",
    "    'Interest_Rate': 'taxa_juros',\n",
    "    'Num_of_Loan': 'qtd_emprestimos',\n",
    "    'Type_of_Loan': 'tipos_emprestimos',\n",
    "    'Delay_from_due_date': 'dias_atraso_pagamento',\n",
    "    'Num_of_Delayed_Payment': 'qtd_pagamentos_atrasados',\n",
    "    'Changed_Credit_Limit': 'variacao_limite_credito',\n",
    "    'Num_Credit_Inquiries': 'qtd_consultas_credito',\n",
    "    'Credit_Mix': 'mix_credito',\n",
    "    'Outstanding_Debt': 'divida_pendente',\n",
    "    'Credit_Utilization_Ratio': 'percentual_utilizacao_credito',\n",
    "    'Credit_History_Age': 'tempo_historico_credito',\n",
    "    'Payment_of_Min_Amount': 'pagamento_valor_minimo',\n",
    "    'Total_EMI_per_month': 'total_emprestimos_mensal',\n",
    "    'Amount_invested_monthly': 'valor_investido_mensal',\n",
    "    'Payment_Behaviour': 'comportamento_pagamento',\n",
    "    'Monthly_Balance': 'saldo_mensal',\n",
    "    'Credit_Score': 'score_credito'\n",
    "}, inplace=True)\n"
   ]
  },
  {
   "cell_type": "code",
   "execution_count": 11,
   "id": "e24ccc69",
   "metadata": {},
   "outputs": [
    {
     "data": {
      "text/plain": [
       "Index(['id', 'id_cliente', 'mes', 'nome', 'idade', 'ssn', 'ocupacao',\n",
       "       'renda_anual', 'salario_liquido_mensal', 'qtd_contas_bancarias',\n",
       "       'qtd_cartoes_credito', 'taxa_juros', 'qtd_emprestimos',\n",
       "       'tipos_emprestimos', 'dias_atraso_pagamento',\n",
       "       'qtd_pagamentos_atrasados', 'variacao_limite_credito',\n",
       "       'qtd_consultas_credito', 'mix_credito', 'divida_pendente',\n",
       "       'percentual_utilizacao_credito', 'tempo_historico_credito',\n",
       "       'pagamento_valor_minimo', 'total_emprestimos_mensal',\n",
       "       'valor_investido_mensal', 'comportamento_pagamento', 'saldo_mensal',\n",
       "       'score_credito'],\n",
       "      dtype='object')"
      ]
     },
     "execution_count": 11,
     "metadata": {},
     "output_type": "execute_result"
    }
   ],
   "source": [
    "df_processado.columns"
   ]
  },
  {
   "cell_type": "markdown",
   "id": "fb4e1322",
   "metadata": {},
   "source": [
    "Dicionário de dados – Colunas do DataFrame df_processado\n",
    "| Coluna                          | Descrição                                                                                 |\n",
    "| ------------------------------- | ----------------------------------------------------------------------------------------- |\n",
    "| `id`                            | Identificador único da linha no dataset.                                                  |\n",
    "| `id_cliente`                    | Identificador único de cada cliente (pode se repetir ao longo dos meses).                 |\n",
    "| `mes`                           | Mês de referência do registro (ex.: Janeiro, Fevereiro).                                  |\n",
    "| `nome`                          | Nome do cliente (pode ser considerado irrelevante para análise preditiva).                |\n",
    "| `idade`                         | Idade do cliente. Pode conter valores inválidos (ex.: negativos ou acima de 1000).        |\n",
    "| `ssn`                           | Número de seguro social mascarado (pode conter dados corrompidos).                        |\n",
    "| `ocupacao`                      | Profissão ou ocupação atual do cliente.                                                   |\n",
    "| `renda_anual`                   | Renda anual bruta declarada pelo cliente.                                                 |\n",
    "| `salario_liquido_mensal`        | Salário líquido recebido mensalmente (renda disponível).                                  |\n",
    "| `qtd_contas_bancarias`          | Quantidade de contas bancárias que o cliente possui.                                      |\n",
    "| `qtd_cartoes_credito`           | Número de cartões de crédito ativos do cliente.                                           |\n",
    "| `taxa_juros`                    | Taxa de juros média aplicada aos cartões de crédito do cliente.                           |\n",
    "| `qtd_emprestimos`               | Quantidade de empréstimos que o cliente possui.                                           |\n",
    "| `tipos_emprestimos`             | Lista dos tipos de empréstimos contratados (ex.: Pessoal, Automóvel, Estudantil).         |\n",
    "| `dias_atraso_pagamento`         | Tempo médio (em dias) de atraso nos pagamentos do cliente.                                |\n",
    "| `qtd_pagamentos_atrasados`      | Número total de pagamentos feitos com atraso.                                             |\n",
    "| `variacao_limite_credito`       | Variação percentual no limite do cartão de crédito ao longo do tempo.                     |\n",
    "| `qtd_consultas_credito`         | Número de consultas ao histórico de crédito do cliente.                                   |\n",
    "| `mix_credito`                   | Composição do portfólio de crédito do cliente (ex.: bom, padrão, ruim).                   |\n",
    "| `divida_pendente`               | Valor total de dívida ainda não paga pelo cliente.                                        |\n",
    "| `percentual_utilizacao_credito` | Percentual do crédito disponível que está sendo utilizado.                                |\n",
    "| `tempo_historico_credito`       | Tempo de histórico de crédito em formato textual (ex.: \"15 Years and 3 Months\").          |\n",
    "| `pagamento_valor_minimo`        | Indica se o cliente costuma pagar apenas o valor mínimo das faturas (Yes/No).             |\n",
    "| `total_emprestimos_mensal`      | Soma das parcelas mensais pagas por empréstimos ativos (EMI).                             |\n",
    "| `valor_investido_mensal`        | Valor mensal que o cliente declara investir.                                              |\n",
    "| `comportamento_pagamento`       | Padrão de comportamento de pagamentos do cliente (ex.: pagamentos pequenos e frequentes). |\n",
    "| `saldo_mensal`                  | Saldo médio mensal restante após gastos e pagamentos.                                     |\n",
    "| `score_credito`                 | Score de crédito do cliente classificado em categorias: Poor, Standard ou Good.           |\n"
   ]
  },
  {
   "cell_type": "markdown",
   "id": "11a96c0c",
   "metadata": {},
   "source": [
    "## Exclusão de colunas identificadoras irrelevantes para modelagem\n",
    "Nesta etapa, removemos do DataFrame as colunas que contêm dados sensíveis ou que funcionam apenas como identificadores, não contribuindo para a previsão do score de crédito. São elas: id, id_cliente, nome e ssn."
   ]
  },
  {
   "cell_type": "code",
   "execution_count": 12,
   "id": "ace9c883",
   "metadata": {},
   "outputs": [],
   "source": [
    "df_processado.drop(columns=['id', 'id_cliente', 'nome', 'ssn'], inplace=True)"
   ]
  },
  {
   "cell_type": "code",
   "execution_count": 13,
   "id": "6f3b9297",
   "metadata": {},
   "outputs": [
    {
     "data": {
      "text/plain": [
       "Index(['mes', 'idade', 'ocupacao', 'renda_anual', 'salario_liquido_mensal',\n",
       "       'qtd_contas_bancarias', 'qtd_cartoes_credito', 'taxa_juros',\n",
       "       'qtd_emprestimos', 'tipos_emprestimos', 'dias_atraso_pagamento',\n",
       "       'qtd_pagamentos_atrasados', 'variacao_limite_credito',\n",
       "       'qtd_consultas_credito', 'mix_credito', 'divida_pendente',\n",
       "       'percentual_utilizacao_credito', 'tempo_historico_credito',\n",
       "       'pagamento_valor_minimo', 'total_emprestimos_mensal',\n",
       "       'valor_investido_mensal', 'comportamento_pagamento', 'saldo_mensal',\n",
       "       'score_credito'],\n",
       "      dtype='object')"
      ]
     },
     "execution_count": 13,
     "metadata": {},
     "output_type": "execute_result"
    }
   ],
   "source": [
    "df_processado.columns"
   ]
  },
  {
   "cell_type": "markdown",
   "id": "d92d9e7b",
   "metadata": {},
   "source": [
    "# Tratando valores nulos"
   ]
  },
  {
   "cell_type": "markdown",
   "id": "120722cb",
   "metadata": {},
   "source": [
    "Nesta etapa, analisamos a quantidade de valores nulos por coluna no DataFrame df_processado, exibindo apenas aquelas que possuem pelo menos um valor ausente. Isso nos ajuda a planejar o tratamento adequado para cada caso."
   ]
  },
  {
   "cell_type": "code",
   "execution_count": 14,
   "id": "723dacb9",
   "metadata": {},
   "outputs": [
    {
     "data": {
      "text/plain": [
       "salario_liquido_mensal      15002\n",
       "tipos_emprestimos           11408\n",
       "qtd_pagamentos_atrasados     7002\n",
       "qtd_consultas_credito        1965\n",
       "tempo_historico_credito      9030\n",
       "valor_investido_mensal       4479\n",
       "saldo_mensal                 1200\n",
       "dtype: int64"
      ]
     },
     "execution_count": 14,
     "metadata": {},
     "output_type": "execute_result"
    }
   ],
   "source": [
    "# Exibindo colunas com pelo menos um valor nulo\n",
    "df_processado.isnull().sum()[df_processado.isnull().sum() > 0]\n"
   ]
  },
  {
   "cell_type": "code",
   "execution_count": 15,
   "id": "6592c41c",
   "metadata": {},
   "outputs": [
    {
     "data": {
      "text/plain": [
       "salario_liquido_mensal      15.002\n",
       "tipos_emprestimos           11.408\n",
       "tempo_historico_credito      9.030\n",
       "qtd_pagamentos_atrasados     7.002\n",
       "valor_investido_mensal       4.479\n",
       "qtd_consultas_credito        1.965\n",
       "saldo_mensal                 1.200\n",
       "dtype: float64"
      ]
     },
     "execution_count": 15,
     "metadata": {},
     "output_type": "execute_result"
    }
   ],
   "source": [
    "# Exibindo apenas colunas com valores nulos e suas respectivas porcentagens\n",
    "(df_processado.isnull().sum() / len(df_processado) * 100).loc[lambda x: x > 0].sort_values(ascending=False)\n",
    "\n"
   ]
  },
  {
   "cell_type": "markdown",
   "id": "405f2991",
   "metadata": {},
   "source": [
    "**Conclusão inicial:**  \n",
    "As colunas `salario_liquido_mensal`, `tipos_emprestimos`, `tempo_historico_credito`, `qtd_pagamentos_atrasados`, `valor_investido_mensal`, `qtd_consultas_credito` e `saldo_mensal` apresentam valores ausentes acima de 1%, sendo recomendável analisá-las individualmente para definição da melhor estratégia de imputação ou tratamento.\n"
   ]
  },
  {
   "cell_type": "markdown",
   "id": "781bebbf",
   "metadata": {},
   "source": [
    "## Salário líquido mensal (renda anual, idade, quantidade de cartões de crédito, total de empréstimos mensal, variação do limite de crédito, dívida pendente)"
   ]
  },
  {
   "cell_type": "code",
   "execution_count": 16,
   "id": "73a7580c",
   "metadata": {},
   "outputs": [
    {
     "data": {
      "text/plain": [
       "array([1824.84333333,           nan, 3037.98666667, ..., 3097.00833333,\n",
       "       1929.90666667, 3359.41583333], shape=(13236,))"
      ]
     },
     "execution_count": 16,
     "metadata": {},
     "output_type": "execute_result"
    }
   ],
   "source": [
    "df_processado.salario_liquido_mensal.unique()"
   ]
  },
  {
   "cell_type": "markdown",
   "id": "b7ece889",
   "metadata": {},
   "source": [
    "Antes de definir a melhor estratégia de imputação, visualizamos a distribuição da variável salario_liquido_mensal com um boxplot. Isso nos ajuda a entender presença de assimetria, outliers e dispersão."
   ]
  },
  {
   "cell_type": "code",
   "execution_count": 17,
   "id": "bd963fc2",
   "metadata": {},
   "outputs": [
    {
     "data": {
      "image/png": "[encoded data removed]",
      "text/plain": [
       "<Figure size 800x400 with 1 Axes>"
      ]
     },
     "metadata": {},
     "output_type": "display_data"
    }
   ],
   "source": [
    "# Boxplot para analisar a distribuição do salário líquido mensal\n",
    "plt.figure(figsize=(8, 4))\n",
    "sns.boxplot(x=df_processado['salario_liquido_mensal'])\n",
    "plt.title('Boxplot - Salário Líquido Mensal')\n",
    "plt.xlabel('Salário Líquido Mensal')\n",
    "plt.tight_layout()\n",
    "plt.show()\n"
   ]
  },
  {
   "cell_type": "markdown",
   "id": "dc065c73",
   "metadata": {},
   "source": [
    "**Estratégia de imputação com KMeans baseada em perfis financeiros**\n",
    "Vamos utilizar o algoritmo KMeans para agrupar clientes com perfis semelhantes, e imputar os valores ausentes da coluna salario_liquido_mensal com base na média dos clusters. Para isso, selecionamos variáveis possivelmente relacionadas ao salário líquido :\n",
    "\n",
    "renda_anual\n",
    "\n",
    "idade\n",
    "\n",
    "qtd_cartoes_credito\n",
    "\n",
    "total_emprestimos_mensal\n",
    "\n",
    "variacao_limite_credito\n",
    "\n",
    "divida_pendente\n",
    "\n",
    "Antes de aplicar o KMeans, é fundamental garantir que os dados estejam limpos, consistentes e sem distorções que prejudiquem o algoritmo. Isso significa verificar se todas as variáveis numéricas estão corretamente tipadas, padronizar formatos e tratar outliers que possam influenciar a formação dos clusters. Valores extremos podem deslocar os centróides e comprometer tanto o agrupamento quanto a imputação dos salários líquidos.\n",
    "\n",
    "Como essas mesmas variáveis também serão utilizadas no modelo final de previsão do score de crédito, já vamos adiantar esse processo de tratamento, garantindo que a base esteja organizada, sem inconsistências e pronta para servir tanto ao KMeans quanto às próximas etapas do pipeline de modelagem.\n"
   ]
  },
  {
   "cell_type": "code",
   "execution_count": 18,
   "id": "7b0d0d34",
   "metadata": {},
   "outputs": [],
   "source": [
    "# Selecionando colunas para formar os perfis de clientes\n",
    "variaveis_cluster = [\n",
    "    'renda_anual',\n",
    "    'idade',\n",
    "    'qtd_cartoes_credito',\n",
    "    'total_emprestimos_mensal',\n",
    "    'variacao_limite_credito',\n",
    "    'divida_pendente'\n",
    "]"
   ]
  },
  {
   "cell_type": "code",
   "execution_count": 19,
   "id": "979ca41f",
   "metadata": {},
   "outputs": [
    {
     "data": {
      "text/html": [
       "<div>\n",
       "<style scoped>\n",
       "    .dataframe tbody tr th:only-of-type {\n",
       "        vertical-align: middle;\n",
       "    }\n",
       "\n",
       "    .dataframe tbody tr th {\n",
       "        vertical-align: top;\n",
       "    }\n",
       "\n",
       "    .dataframe thead th {\n",
       "        text-align: right;\n",
       "    }\n",
       "</style>\n",
       "<table border=\"1\" class=\"dataframe\">\n",
       "  <thead>\n",
       "    <tr style=\"text-align: right;\">\n",
       "      <th></th>\n",
       "      <th>renda_anual</th>\n",
       "      <th>idade</th>\n",
       "      <th>qtd_cartoes_credito</th>\n",
       "      <th>total_emprestimos_mensal</th>\n",
       "      <th>variacao_limite_credito</th>\n",
       "      <th>divida_pendente</th>\n",
       "    </tr>\n",
       "  </thead>\n",
       "  <tbody>\n",
       "    <tr>\n",
       "      <th>0</th>\n",
       "      <td>19114.12</td>\n",
       "      <td>23</td>\n",
       "      <td>4</td>\n",
       "      <td>49.574949</td>\n",
       "      <td>11.27</td>\n",
       "      <td>809.98</td>\n",
       "    </tr>\n",
       "    <tr>\n",
       "      <th>1</th>\n",
       "      <td>19114.12</td>\n",
       "      <td>23</td>\n",
       "      <td>4</td>\n",
       "      <td>49.574949</td>\n",
       "      <td>11.27</td>\n",
       "      <td>809.98</td>\n",
       "    </tr>\n",
       "    <tr>\n",
       "      <th>2</th>\n",
       "      <td>19114.12</td>\n",
       "      <td>-500</td>\n",
       "      <td>4</td>\n",
       "      <td>49.574949</td>\n",
       "      <td>_</td>\n",
       "      <td>809.98</td>\n",
       "    </tr>\n",
       "    <tr>\n",
       "      <th>3</th>\n",
       "      <td>19114.12</td>\n",
       "      <td>23</td>\n",
       "      <td>4</td>\n",
       "      <td>49.574949</td>\n",
       "      <td>6.27</td>\n",
       "      <td>809.98</td>\n",
       "    </tr>\n",
       "    <tr>\n",
       "      <th>4</th>\n",
       "      <td>19114.12</td>\n",
       "      <td>23</td>\n",
       "      <td>4</td>\n",
       "      <td>49.574949</td>\n",
       "      <td>11.27</td>\n",
       "      <td>809.98</td>\n",
       "    </tr>\n",
       "  </tbody>\n",
       "</table>\n",
       "</div>"
      ],
      "text/plain": [
       "  renda_anual idade  qtd_cartoes_credito  total_emprestimos_mensal  \\\n",
       "0    19114.12    23                    4                 49.574949   \n",
       "1    19114.12    23                    4                 49.574949   \n",
       "2    19114.12  -500                    4                 49.574949   \n",
       "3    19114.12    23                    4                 49.574949   \n",
       "4    19114.12    23                    4                 49.574949   \n",
       "\n",
       "  variacao_limite_credito divida_pendente  \n",
       "0                   11.27          809.98  \n",
       "1                   11.27          809.98  \n",
       "2                       _          809.98  \n",
       "3                    6.27          809.98  \n",
       "4                   11.27          809.98  "
      ]
     },
     "execution_count": 19,
     "metadata": {},
     "output_type": "execute_result"
    }
   ],
   "source": [
    "df_processado[variaveis_cluster].head()\n"
   ]
  },
  {
   "cell_type": "code",
   "execution_count": 20,
   "id": "4da3815e",
   "metadata": {},
   "outputs": [
    {
     "data": {
      "text/plain": [
       "renda_anual                  object\n",
       "idade                        object\n",
       "qtd_cartoes_credito           int64\n",
       "total_emprestimos_mensal    float64\n",
       "variacao_limite_credito      object\n",
       "divida_pendente              object\n",
       "dtype: object"
      ]
     },
     "execution_count": 20,
     "metadata": {},
     "output_type": "execute_result"
    }
   ],
   "source": [
    "df_processado[variaveis_cluster].dtypes"
   ]
  },
  {
   "cell_type": "code",
   "execution_count": 21,
   "id": "96e3669d",
   "metadata": {},
   "outputs": [
    {
     "name": "stdout",
     "output_type": "stream",
     "text": [
      "\n",
      "--- Valores inválidos detectados em: renda_anual ---\n",
      "['19114.12' '34847.84' '34847.84_' '143162.64' '30689.89' '30689.89_'\n",
      " '35547.71_' '35547.71' '73928.46' '131313.4' '10909427.0' '34081.38_'\n",
      " '34081.38' '114838.41' '114838.41_' '31370.8' '33751.27' '88640.24'\n",
      " '88640.24_' '54392.16' '54392.16_' '8701.545' '8701.545_' '25546.26'\n",
      " '25546.26_' '31993.78' '92047.08' '92047.08_' '32284.62' '97791.42']\n",
      "\n",
      "--- Valores inválidos detectados em: idade ---\n",
      "['23' '-500' '28_' '28' '34' '54' '55' '21' '31' '33' '34_' '7580' '30'\n",
      " '30_' '24' '24_' '44' '45' '40' '41' '32' '33_' '35' '35_' '36' '39' '37'\n",
      " '181' '20' '46']\n",
      "\n",
      "--- Valores inválidos detectados em: variacao_limite_credito ---\n",
      "['11.27' '_' '6.27' '9.27' '5.42' '7.42' '6.42' '7.1' '11.1' '9.1' '1.99'\n",
      " '-2.01' '-1.01' '-3.01' '2.58' '10.14' '9.14' '9.34' '15.34' '8.34'\n",
      " '11.34' '17.13' '21.13' '18.13' '8.24' '11.24' '5.76'\n",
      " '-1.2400000000000002' '1.7599999999999998' '11.0']\n",
      "\n",
      "--- Valores inválidos detectados em: divida_pendente ---\n",
      "['809.98' '605.03' '1303.01' '632.46' '943.86' '548.2' '352.16' '1704.18'\n",
      " '1377.74' '421.43' '1328.93' '1328.93_' '950.36' '179.22' '2602.69'\n",
      " '758.44' '818.22' '1296.64' '1283.37' '1283.37_' '107.41' '2430.21'\n",
      " '881.4' '1672.43' '76.23' '569.8' '3532.83' '614.6' '2686.81' '1233.1']\n"
     ]
    }
   ],
   "source": [
    "# Exibindo valores únicos não numéricos para cada coluna do tipo object usada no KMeans\n",
    "for col in ['renda_anual', 'idade', 'variacao_limite_credito', 'divida_pendente']:\n",
    "    print(f\"\\n--- Valores inválidos detectados em: {col} ---\")\n",
    "    print(df_processado[col].unique()[:30])  # Mostra apenas os 30 primeiros valores únicos\n"
   ]
  },
  {
   "cell_type": "markdown",
   "id": "ae5a9e34",
   "metadata": {},
   "source": [
    "### Renda Anual"
   ]
  },
  {
   "cell_type": "markdown",
   "id": "63431bf1",
   "metadata": {},
   "source": [
    "Limpando e convertendo a coluna renda_anual para tipo numérico"
   ]
  },
  {
   "cell_type": "code",
   "execution_count": 22,
   "id": "da18eeae",
   "metadata": {},
   "outputs": [
    {
     "name": "stdout",
     "output_type": "stream",
     "text": [
      "Valores ainda inválidos em renda_anual: []\n",
      "Tipo final de renda_anual: float64\n"
     ]
    }
   ],
   "source": [
    "# Passo 1: Remover underscores\n",
    "df_processado['renda_anual'] = df_processado['renda_anual'].str.replace('_', '', regex=False)\n",
    "\n",
    "# Passo 2: Conferir se restaram caracteres não numéricos\n",
    "invalidos_renda_anual = df_processado[\n",
    "    ~df_processado['renda_anual'].str.replace('.', '', regex=False).str.isnumeric()\n",
    "]['renda_anual'].unique()\n",
    "\n",
    "print(\"Valores ainda inválidos em renda_anual:\", invalidos_renda_anual)\n",
    "\n",
    "# Passo 3: Se não houver valores inválidos, converter para float\n",
    "if len(invalidos_renda_anual) == 0:\n",
    "    df_processado['renda_anual'] = df_processado['renda_anual'].astype(float)\n",
    "\n",
    "# Passo 4: Conferir tipo final\n",
    "print(\"Tipo final de renda_anual:\", df_processado['renda_anual'].dtype)\n"
   ]
  },
  {
   "cell_type": "markdown",
   "id": "4e97d4fa",
   "metadata": {},
   "source": [
    "Visualizamos a distribuição da variável renda_anual para identificar a presença de outliers e avaliar sua magnitude."
   ]
  },
  {
   "cell_type": "code",
   "execution_count": 23,
   "id": "13e8e2a9",
   "metadata": {},
   "outputs": [
    {
     "data": {
      "image/png": "[encoded data removed]",
      "text/plain": [
       "<Figure size 800x400 with 1 Axes>"
      ]
     },
     "metadata": {},
     "output_type": "display_data"
    }
   ],
   "source": [
    "plt.figure(figsize=(8, 4))\n",
    "sns.boxplot(x=df_processado['renda_anual'])\n",
    "plt.xscale('log')  # aplica escala logarítmica no eixo X\n",
    "plt.title('Boxplot - Renda Anual (escala log)')\n",
    "plt.xlabel('Renda Anual (log)')\n",
    "plt.tight_layout()\n",
    "plt.show()\n"
   ]
  },
  {
   "cell_type": "code",
   "execution_count": 24,
   "id": "08b0c650",
   "metadata": {},
   "outputs": [
    {
     "data": {
      "text/plain": [
       "count      100,000.00\n",
       "mean       176,415.70\n",
       "std      1,429,618.05\n",
       "min          7,005.93\n",
       "25%         19,457.50\n",
       "50%         37,578.61\n",
       "75%         72,790.92\n",
       "max     24,198,062.00\n",
       "Name: renda_anual, dtype: float64"
      ]
     },
     "execution_count": 24,
     "metadata": {},
     "output_type": "execute_result"
    }
   ],
   "source": [
    "# Exibindo estatísticas descritivas de renda_anual sem notação científica\n",
    "pd.set_option('display.float_format', '{:,.2f}'.format)\n",
    "df_processado['renda_anual'].describe()\n"
   ]
  },
  {
   "cell_type": "markdown",
   "id": "4219f05d",
   "metadata": {},
   "source": [
    "Conclusão sobre a variável renda_anual:\n",
    "Apesar de apresentar uma quantidade significativa de valores que podem ser considerados outliers pelo critério estatístico, esses valores refletem a realidade de rendas muito variadas dentro do conjunto de clientes. Não foram identificados registros absurdos ou inconsistentes, apenas clientes com rendas extremamente altas em relação à média. Portanto, não será realizada a remoção nem o ajuste desses valores."
   ]
  },
  {
   "cell_type": "markdown",
   "id": "a39e4316",
   "metadata": {},
   "source": [
    "### Idade\n"
   ]
  },
  {
   "cell_type": "markdown",
   "id": "c4e6b704",
   "metadata": {},
   "source": [
    "Limpando e convertendo a coluna idade para tipo numérico"
   ]
  },
  {
   "cell_type": "code",
   "execution_count": 25,
   "id": "fd6588c8",
   "metadata": {},
   "outputs": [
    {
     "name": "stdout",
     "output_type": "stream",
     "text": [
      "Valores ainda inválidos em idade: []\n",
      "Tipo final de idade: int64\n"
     ]
    }
   ],
   "source": [
    "# Passo 1: Remover underscores\n",
    "df_processado['idade'] = df_processado['idade'].str.replace('_', '', regex=False)\n",
    "\n",
    "# Passo 2: Conferir se ainda há valores não numéricos\n",
    "invalidos_idade = df_processado[\n",
    "    ~df_processado['idade'].str.replace('-', '', regex=False).str.isnumeric()\n",
    "]['idade'].unique()\n",
    "\n",
    "print(\"Valores ainda inválidos em idade:\", invalidos_idade)\n",
    "\n",
    "# Passo 3: Converter para inteiro se não houver valores inválidos\n",
    "if len(invalidos_idade) == 0:\n",
    "    df_processado['idade'] = df_processado['idade'].astype(int)\n",
    "\n",
    "# Passo 4: Conferir tipo final\n",
    "print(\"Tipo final de idade:\", df_processado['idade'].dtype)\n"
   ]
  },
  {
   "cell_type": "code",
   "execution_count": 26,
   "id": "0d86ee78",
   "metadata": {},
   "outputs": [
    {
     "data": {
      "image/png": "[encoded data removed]",
      "text/plain": [
       "<Figure size 800x400 with 1 Axes>"
      ]
     },
     "metadata": {},
     "output_type": "display_data"
    }
   ],
   "source": [
    "plt.figure(figsize=(8,4))\n",
    "sns.boxplot(x=df_processado['idade'])\n",
    "plt.title('Boxplot - Idade')\n",
    "plt.xlabel('Idade')\n",
    "plt.tight_layout()\n",
    "plt.show()"
   ]
  },
  {
   "cell_type": "code",
   "execution_count": 27,
   "id": "9e9fc3a9",
   "metadata": {},
   "outputs": [
    {
     "name": "stdout",
     "output_type": "stream",
     "text": [
      "count   100,000\n",
      "mean        111\n",
      "std         686\n",
      "min        -500\n",
      "25%          24\n",
      "50%          33\n",
      "75%          42\n",
      "max       8,698\n",
      "Name: idade, dtype: float64\n"
     ]
    }
   ],
   "source": [
    "pd.set_option('display.float_format', '{:,.0f}'.format)\n",
    "print(df_processado['idade'].describe())\n"
   ]
  },
  {
   "cell_type": "code",
   "execution_count": 28,
   "id": "9b0ecc17",
   "metadata": {},
   "outputs": [
    {
     "name": "stdout",
     "output_type": "stream",
     "text": [
      "Percentual abaixo de 18 anos: 6.59%\n",
      "Percentual acima de 100 anos: 1.89%\n"
     ]
    }
   ],
   "source": [
    "total_linhas = len(df_processado)\n",
    "\n",
    "abaixo_18 = (df_processado['idade'] < 18).sum()\n",
    "acima_100 = (df_processado['idade'] > 100).sum()\n",
    "\n",
    "print(f\"Percentual abaixo de 18 anos: {(abaixo_18 / total_linhas) * 100:.2f}%\")\n",
    "print(f\"Percentual acima de 100 anos: {(acima_100 / total_linhas) * 100:.2f}%\")\n"
   ]
  },
  {
   "cell_type": "markdown",
   "id": "dc94b8b9",
   "metadata": {},
   "source": [
    "Idades abaixo de 18 e acima de 100 são tratadas como inválidas. Vamos substituí-las por NaN para que sejam imputadas posteriormente pelo modelo de KMeans."
   ]
  },
  {
   "cell_type": "code",
   "execution_count": 29,
   "id": "f978cafb",
   "metadata": {},
   "outputs": [
    {
     "name": "stdout",
     "output_type": "stream",
     "text": [
      "8482 valores nulos em idade após substituição.\n"
     ]
    }
   ],
   "source": [
    "# Substituindo idades inválidas (<18 e >100) por NaN\n",
    "df_processado.loc[(df_processado['idade'] < 18) | (df_processado['idade'] > 100), 'idade'] = np.nan\n",
    "\n",
    "# Conferindo resultado\n",
    "print(df_processado['idade'].isna().sum(), \"valores nulos em idade após substituição.\")"
   ]
  },
  {
   "cell_type": "markdown",
   "id": "9e5a4dd5",
   "metadata": {},
   "source": [
    "### Variação limite de crédito"
   ]
  },
  {
   "cell_type": "markdown",
   "id": "41941405",
   "metadata": {},
   "source": [
    "Limpando e convertendo variacao_limite_credito para float usando 99999 como placeholder"
   ]
  },
  {
   "cell_type": "code",
   "execution_count": 30,
   "id": "8dcae1ec",
   "metadata": {},
   "outputs": [
    {
     "name": "stdout",
     "output_type": "stream",
     "text": [
      "Valores ainda inválidos em variacao_limite_credito: []\n",
      "Tipo final: float64\n"
     ]
    }
   ],
   "source": [
    "# Passo 1: Remover underscores e substituir por placeholder 99999\n",
    "df_processado['variacao_limite_credito'] = df_processado['variacao_limite_credito'].str.replace('_', '99999', regex=False)\n",
    "\n",
    "# Passo 2: Verificar se restam valores inválidos\n",
    "invalidos_limite = df_processado[\n",
    "    ~df_processado['variacao_limite_credito'].str.replace('-', '', regex=False).str.replace('.', '', regex=False).str.isnumeric()\n",
    "]['variacao_limite_credito'].unique()\n",
    "\n",
    "print(\"Valores ainda inválidos em variacao_limite_credito:\", invalidos_limite)\n",
    "\n",
    "# Passo 3: Converter para float somente se não restarem inválidos\n",
    "if len(invalidos_limite) == 0:\n",
    "    df_processado['variacao_limite_credito'] = df_processado['variacao_limite_credito'].astype(float)\n",
    "    \n",
    "    # Passo 4: Arredondar para 2 casas decimais\n",
    "    df_processado['variacao_limite_credito'] = df_processado['variacao_limite_credito'].round(2)\n",
    "\n",
    "# Conferindo tipo final\n",
    "print(\"Tipo final:\", df_processado['variacao_limite_credito'].dtype)\n"
   ]
  },
  {
   "cell_type": "code",
   "execution_count": 31,
   "id": "46ec7fd5",
   "metadata": {},
   "outputs": [
    {
     "name": "stdout",
     "output_type": "stream",
     "text": [
      "Total de registros com 99999: 2091\n",
      "Percentual em relação ao total: 2.09%\n"
     ]
    }
   ],
   "source": [
    "total = len(df_processado)\n",
    "placeholder_99999 = (df_processado['variacao_limite_credito'] == 99999).sum()\n",
    "\n",
    "porcentagem = (placeholder_99999 / total) * 100\n",
    "\n",
    "print(f\"Total de registros com 99999: {placeholder_99999}\")\n",
    "print(f\"Percentual em relação ao total: {porcentagem:.2f}%\")"
   ]
  },
  {
   "cell_type": "markdown",
   "id": "0f38ec27",
   "metadata": {},
   "source": [
    "Boxplot para variacao_limite_credito (removendo o placeholder 99999)"
   ]
  },
  {
   "cell_type": "code",
   "execution_count": 32,
   "id": "fd33f88d",
   "metadata": {},
   "outputs": [
    {
     "data": {
      "image/png": "[encoded data removed]",
      "text/plain": [
       "<Figure size 800x400 with 1 Axes>"
      ]
     },
     "metadata": {},
     "output_type": "display_data"
    }
   ],
   "source": [
    "plt.figure(figsize=(8, 4))\n",
    "sns.boxplot(x=df_processado[df_processado['variacao_limite_credito'] != 99999]['variacao_limite_credito'])\n",
    "plt.title('Boxplot - Variação do Limite de Crédito (sem 99999)')\n",
    "plt.xlabel('Variação do Limite de Crédito')\n",
    "plt.tight_layout()\n",
    "plt.show()\n"
   ]
  },
  {
   "cell_type": "markdown",
   "id": "35af4f4a",
   "metadata": {},
   "source": [
    "Apenas 2,09% dos registros tinham underscore e foram tratados com o placeholder 99999. Após analisar o boxplot (sem esses placeholders), observou-se que não há grande concentração de outliers extremos — os valores variam de forma plausível para uma variável de limite de crédito.\n",
    "\n",
    "Portanto, a melhor abordagem será imputar os valores de 99999 pela mediana da variável, garantindo que a distribuição original não seja distorcida e evitando a influência de possíveis valores extremos."
   ]
  },
  {
   "cell_type": "code",
   "execution_count": 33,
   "id": "9c992578",
   "metadata": {},
   "outputs": [
    {
     "name": "stdout",
     "output_type": "stream",
     "text": [
      "Placeholders restantes: 0\n",
      "Mediana usada na imputação: 9.4\n"
     ]
    },
    {
     "data": {
      "text/plain": [
       "count   100,000\n",
       "mean         10\n",
       "std           7\n",
       "min          -6\n",
       "25%           5\n",
       "50%           9\n",
       "75%          15\n",
       "max          37\n",
       "Name: variacao_limite_credito, dtype: float64"
      ]
     },
     "execution_count": 33,
     "metadata": {},
     "output_type": "execute_result"
    }
   ],
   "source": [
    "# Calculando a mediana sem considerar o placeholder 99999\n",
    "mediana_limite = df_processado.loc[df_processado['variacao_limite_credito'] != 99999, 'variacao_limite_credito'].median()\n",
    "\n",
    "# Substituindo 99999 pela mediana\n",
    "df_processado.loc[df_processado['variacao_limite_credito'] == 99999, 'variacao_limite_credito'] = mediana_limite\n",
    "\n",
    "# Conferindo se ainda existem placeholders\n",
    "placeholders_restantes = (df_processado['variacao_limite_credito'] == 99999).sum()\n",
    "print(f\"Placeholders restantes: {placeholders_restantes}\")\n",
    "print(f\"Mediana usada na imputação: {mediana_limite}\")\n",
    "df_processado['variacao_limite_credito'].describe()"
   ]
  },
  {
   "cell_type": "markdown",
   "id": "c66b896a",
   "metadata": {},
   "source": [
    "### Divida pendente"
   ]
  },
  {
   "cell_type": "markdown",
   "id": "472c20a5",
   "metadata": {},
   "source": [
    "Limpando e convertendo a coluna divida_pendente para tipo numérico\n"
   ]
  },
  {
   "cell_type": "code",
   "execution_count": 34,
   "id": "43b263d9",
   "metadata": {},
   "outputs": [
    {
     "name": "stdout",
     "output_type": "stream",
     "text": [
      "Valores ainda inválidos em divida_pendente: []\n",
      "Tipo final de divida_pendente: float64\n"
     ]
    }
   ],
   "source": [
    "# Passo 1: Remover underscores\n",
    "df_processado['divida_pendente'] = df_processado['divida_pendente'].str.replace('_', '', regex=False)\n",
    "\n",
    "# Passo 2: Conferir se restaram valores inválidos\n",
    "invalidos_divida = df_processado[\n",
    "    ~df_processado['divida_pendente'].str.replace('-', '', regex=False).str.replace('.', '', regex=False).str.isnumeric()\n",
    "]['divida_pendente'].unique()\n",
    "\n",
    "print(\"Valores ainda inválidos em divida_pendente:\", invalidos_divida)\n",
    "\n",
    "# Passo 3: Converter para float somente se não restarem inválidos\n",
    "if len(invalidos_divida) == 0:\n",
    "    df_processado['divida_pendente'] = df_processado['divida_pendente'].astype(float)\n",
    "    df_processado['divida_pendente'] = df_processado['divida_pendente'].round(2)\n",
    "\n",
    "# Conferindo tipo final\n",
    "print(\"Tipo final de divida_pendente:\", df_processado['divida_pendente'].dtype)\n"
   ]
  },
  {
   "cell_type": "markdown",
   "id": "5b2b95d5",
   "metadata": {},
   "source": [
    "Estatísticas descritivas e boxplot para divida_pendente"
   ]
  },
  {
   "cell_type": "code",
   "execution_count": 35,
   "id": "e774d2a3",
   "metadata": {},
   "outputs": [
    {
     "name": "stdout",
     "output_type": "stream",
     "text": [
      "count   100,000.00\n",
      "mean      1,426.22\n",
      "std       1,155.13\n",
      "min           0.23\n",
      "25%         566.07\n",
      "50%       1,166.15\n",
      "75%       1,945.96\n",
      "max       4,998.07\n",
      "Name: divida_pendente, dtype: float64\n"
     ]
    },
    {
     "data": {
      "image/png": "[encoded data removed]",
      "text/plain": [
       "<Figure size 800x400 with 1 Axes>"
      ]
     },
     "metadata": {},
     "output_type": "display_data"
    }
   ],
   "source": [
    "# Estatísticas descritivas\n",
    "pd.set_option('display.float_format', '{:,.2f}'.format)\n",
    "print(df_processado['divida_pendente'].describe())\n",
    "\n",
    "# Boxplot\n",
    "import matplotlib.pyplot as plt\n",
    "import seaborn as sns\n",
    "\n",
    "plt.figure(figsize=(8,4))\n",
    "sns.boxplot(x=df_processado['divida_pendente'])\n",
    "plt.title('Boxplot - Dívida Pendente')\n",
    "plt.xlabel('Dívida Pendente')\n",
    "plt.tight_layout()\n",
    "plt.show()\n"
   ]
  },
  {
   "cell_type": "markdown",
   "id": "bf0c1ad4",
   "metadata": {},
   "source": [
    "Os valores mínimos e máximos encontrados são aceitáveis para o contexto financeiro, mesmo com a presença de outliers identificados no boxplot. A faixa de variação ( 0,23 a 4.998,07) é coerente com diferentes perfis de clientes e seus níveis de endividamento. Assim, não haverá remoção ou ajuste desses valores, mantendo a integridade da distribuição original.\n",
    "\n"
   ]
  },
  {
   "cell_type": "markdown",
   "id": "1bd1a6da",
   "metadata": {},
   "source": [
    "### Quantidade de Cartões e Total de emrestimso mensal "
   ]
  },
  {
   "cell_type": "code",
   "execution_count": 36,
   "id": "75c4a3c5",
   "metadata": {},
   "outputs": [
    {
     "name": "stdout",
     "output_type": "stream",
     "text": [
      "       qtd_cartoes_credito  total_emprestimos_mensal\n",
      "count           100,000.00                100,000.00\n",
      "mean                 22.47                  1,403.12\n",
      "std                 129.06                  8,306.04\n",
      "min                   0.00                      0.00\n",
      "25%                   4.00                     30.31\n",
      "50%                   5.00                     69.25\n",
      "75%                   7.00                    161.22\n",
      "max               1,499.00                 82,331.00\n"
     ]
    },
    {
     "data": {
      "image/png": "[encoded data removed]",
      "text/plain": [
       "<Figure size 1200x500 with 2 Axes>"
      ]
     },
     "metadata": {},
     "output_type": "display_data"
    }
   ],
   "source": [
    "# Estatísticas descritivas\n",
    "pd.set_option('display.float_format', '{:,.2f}'.format)\n",
    "print(df_processado[['qtd_cartoes_credito', 'total_emprestimos_mensal']].describe())\n",
    "\n",
    "\n",
    "plt.figure(figsize=(12,5))\n",
    "\n",
    "# Boxplot para qtd_cartoes_credito\n",
    "plt.subplot(1, 2, 1)\n",
    "sns.boxplot(x=df_processado['qtd_cartoes_credito'])\n",
    "plt.title('Boxplot - Quantidade de Cartões de Crédito')\n",
    "plt.xlabel('Qtd Cartões de Crédito')\n",
    "\n",
    "# Boxplot para total_emprestimos_mensal\n",
    "plt.subplot(1, 2, 2)\n",
    "sns.boxplot(x=df_processado['total_emprestimos_mensal'])\n",
    "plt.title('Boxplot - Total de Empréstimos Mensal')\n",
    "plt.xlabel('Total Empréstimos Mensal')\n",
    "\n",
    "plt.tight_layout()\n",
    "plt.show()\n"
   ]
  },
  {
   "cell_type": "markdown",
   "id": "2283c7b9",
   "metadata": {},
   "source": [
    "Estratégia de tratamento para qtd_cartoes_credito e total_emprestimos_mensal\n",
    "A análise descritiva mostrou comportamentos distintos entre as duas variáveis:\n",
    "\n",
    "qtd_cartoes_credito:\n",
    "A mediana é de 5 cartões, mas há registros com valores extremamente altos (até 1.499 cartões), o que é irrealista. Para preservar a integridade da base, adotaremos um limite superior (cap) de 20 cartões. Todos os registros acima desse valor serão imputados com a mediana (5), garantindo consistência sem distorcer a distribuição.\n",
    "\n",
    "total_emprestimos_mensal:\n",
    "Apesar de apresentar valores elevados (máximo de R$ 82.331,00), esses números são financeiramente plausíveis, já que clientes com alto volume de crédito podem ter parcelas altas. Portanto, não faremos ajustes nem imputações nessa variável."
   ]
  },
  {
   "cell_type": "code",
   "execution_count": 37,
   "id": "7951c709",
   "metadata": {},
   "outputs": [
    {
     "name": "stdout",
     "output_type": "stream",
     "text": [
      "Valores acima de 20 após imputação: 0\n",
      "Mediana usada na imputação: 5.0\n"
     ]
    }
   ],
   "source": [
    "# Calculando a mediana de qtd_cartoes_credito\n",
    "mediana_cartoes = df_processado['qtd_cartoes_credito'].median()\n",
    "\n",
    "# Aplicando o limite superior (cap) de 20 cartões\n",
    "df_processado.loc[df_processado['qtd_cartoes_credito'] > 20, 'qtd_cartoes_credito'] = mediana_cartoes\n",
    "\n",
    "# Conferindo se ainda existem valores acima de 20\n",
    "print(\"Valores acima de 20 após imputação:\", (df_processado['qtd_cartoes_credito'] > 20).sum())\n",
    "print(f\"Mediana usada na imputação: {mediana_cartoes}\")\n"
   ]
  },
  {
   "cell_type": "markdown",
   "id": "4628a34e",
   "metadata": {},
   "source": [
    "### KMeans para imputar Idade e Salário Liquido Mensal\n"
   ]
  },
  {
   "cell_type": "markdown",
   "id": "6a5c2994",
   "metadata": {},
   "source": [
    "1️⃣ Treinar o KMeans sem usar idade (pois idade ainda tem muito NaN);\n",
    "2️⃣ Imputar a idade dos clientes com base nos clusters formados;\n",
    "3️⃣ Atualizar idade no dataset;\n",
    "4️⃣ Treinar um novo KMeans agora incluindo idade;\n",
    "5️⃣ Imputar salario_liquido_mensal com base nos clusters refinados."
   ]
  },
  {
   "cell_type": "markdown",
   "id": "e0d64f55",
   "metadata": {},
   "source": [
    "Criando o DataFrame e padronizando os dados (sem idade)"
   ]
  },
  {
   "cell_type": "code",
   "execution_count": 47,
   "id": "cfa863bf",
   "metadata": {},
   "outputs": [],
   "source": [
    "# Variáveis sem idade\n",
    "variaveis_sem_idade = [\n",
    "    'renda_anual',\n",
    "    'qtd_cartoes_credito',\n",
    "    'total_emprestimos_mensal',\n",
    "    'variacao_limite_credito',\n",
    "    'divida_pendente'\n",
    "]\n",
    "\n",
    "# Criar DataFrame somente com essas variáveis\n",
    "df_kmeans_idade = df_processado[variaveis_sem_idade + ['idade']].copy()\n",
    "\n",
    "# Padronizar dados\n",
    "scaler_idade = StandardScaler()\n",
    "X_idade_scaled = scaler_idade.fit_transform(df_kmeans_idade[variaveis_sem_idade])"
   ]
  },
  {
   "cell_type": "markdown",
   "id": "ae18f76b",
   "metadata": {},
   "source": [
    "Determinando o número ideal de clusters (método do cotovelo – sem idade)"
   ]
  },
  {
   "cell_type": "code",
   "execution_count": 49,
   "id": "f769128f",
   "metadata": {},
   "outputs": [
    {
     "data": {
      "image/png": "[encoded data removed]",
      "text/plain": [
       "<Figure size 800x400 with 1 Axes>"
      ]
     },
     "metadata": {},
     "output_type": "display_data"
    }
   ],
   "source": [
    "inercias = []\n",
    "k_values = range(2, 11)  # vamos testar de 2 a 10 clusters\n",
    "\n",
    "for k in k_values:\n",
    "    kmeans = KMeans(n_clusters=k, random_state=42, n_init=10)\n",
    "    kmeans.fit(X_idade_scaled)\n",
    "    inercias.append(kmeans.inertia_)\n",
    "\n",
    "# Plot do método do cotovelo\n",
    "plt.figure(figsize=(8, 4))\n",
    "plt.plot(k_values, inercias, marker='o')\n",
    "plt.title('Método do Cotovelo - KMeans sem Idade')\n",
    "plt.xlabel('Número de Clusters (k)')\n",
    "plt.ylabel('Inércia')\n",
    "plt.xticks(k_values)\n",
    "plt.tight_layout()\n",
    "plt.show()\n"
   ]
  },
  {
   "cell_type": "markdown",
   "id": "3467e552",
   "metadata": {},
   "source": [
    "Treinando o KMeans e atribuindo os clusters (sem idade)"
   ]
  },
  {
   "cell_type": "code",
   "execution_count": 50,
   "id": "534e3a57",
   "metadata": {},
   "outputs": [
    {
     "name": "stdout",
     "output_type": "stream",
     "text": [
      "cluster_idade\n",
      "0    45220\n",
      "1    37205\n",
      "3    14848\n",
      "4     2038\n",
      "2      689\n",
      "Name: count, dtype: int64\n"
     ]
    }
   ],
   "source": [
    "# Treinar KMeans com 5 clusters\n",
    "kmeans_idade = KMeans(n_clusters=5, random_state=42, n_init=10)\n",
    "\n",
    "# Ajustar o modelo aos dados padronizados\n",
    "df_kmeans_idade['cluster_idade'] = kmeans_idade.fit_predict(X_idade_scaled)\n",
    "\n",
    "# Conferir a distribuição dos clusters\n",
    "print(df_kmeans_idade['cluster_idade'].value_counts())\n"
   ]
  },
  {
   "cell_type": "markdown",
   "id": "c6e6038a",
   "metadata": {},
   "source": [
    "Calculando a mediana de idade por cluster e imputando no DataFrame"
   ]
  },
  {
   "cell_type": "code",
   "execution_count": 51,
   "id": "771d2ccb",
   "metadata": {},
   "outputs": [
    {
     "name": "stdout",
     "output_type": "stream",
     "text": [
      "Idades nulas após imputação: 0\n"
     ]
    }
   ],
   "source": [
    "# Criar cópia do DataFrame original para imputação\n",
    "df_processado_kmeans1 = df_processado.copy()\n",
    "\n",
    "# Calcular a mediana de idade para cada cluster\n",
    "mediana_idade_cluster = df_kmeans_idade.groupby('cluster_idade')['idade'].median()\n",
    "\n",
    "# Iterar sobre os clusters e imputar as idades faltantes com a mediana de cada cluster\n",
    "for cluster in mediana_idade_cluster.index:\n",
    "    idade_mediana = mediana_idade_cluster.loc[cluster]\n",
    "    df_processado_kmeans1.loc[\n",
    "        (df_processado_kmeans1['idade'].isna()) &\n",
    "        (df_kmeans_idade['cluster_idade'] == cluster),\n",
    "        'idade'\n",
    "    ] = idade_mediana\n",
    "\n",
    "# Conferindo se ainda existem idades nulas após a imputação\n",
    "print(\"Idades nulas após imputação:\", df_processado_kmeans1['idade'].isna().sum())\n"
   ]
  },
  {
   "cell_type": "markdown",
   "id": "dd96261e",
   "metadata": {},
   "source": [
    "Criar DataFrame e padronizar (agora incluindo idade)"
   ]
  },
  {
   "cell_type": "code",
   "execution_count": 52,
   "id": "cef0b871",
   "metadata": {},
   "outputs": [
    {
     "name": "stdout",
     "output_type": "stream",
     "text": [
      "Shape dos dados padronizados (com idade): (100000, 6)\n"
     ]
    }
   ],
   "source": [
    "# Variáveis agora incluem idade\n",
    "variaveis_com_idade = [\n",
    "    'renda_anual',\n",
    "    'idade',\n",
    "    'qtd_cartoes_credito',\n",
    "    'total_emprestimos_mensal',\n",
    "    'variacao_limite_credito',\n",
    "    'divida_pendente'\n",
    "]\n",
    "\n",
    "# Criar DataFrame para o novo KMeans\n",
    "df_kmeans_salario = df_processado_kmeans1[variaveis_com_idade + ['salario_liquido_mensal']].copy()\n",
    "\n",
    "# Padronizar dados\n",
    "scaler_salario = StandardScaler()\n",
    "X_salario_scaled = scaler_salario.fit_transform(df_kmeans_salario[variaveis_com_idade])\n",
    "\n",
    "print(\"Shape dos dados padronizados (com idade):\", X_salario_scaled.shape)\n"
   ]
  },
  {
   "cell_type": "markdown",
   "id": "a33f4204",
   "metadata": {},
   "source": [
    "Treinando o KMeans com idade incluída (5 clusters)"
   ]
  },
  {
   "cell_type": "code",
   "execution_count": 53,
   "id": "7b4e48b7",
   "metadata": {},
   "outputs": [
    {
     "name": "stdout",
     "output_type": "stream",
     "text": [
      "cluster_salario\n",
      "2    43140\n",
      "0    31360\n",
      "1    22784\n",
      "3     2027\n",
      "4      689\n",
      "Name: count, dtype: int64\n"
     ]
    }
   ],
   "source": [
    "# Treinar KMeans com 5 clusters usando as variáveis que agora incluem idade\n",
    "kmeans_salario = KMeans(n_clusters=5, random_state=42, n_init=10)\n",
    "\n",
    "# Ajustar o modelo e prever os clusters\n",
    "df_kmeans_salario['cluster_salario'] = kmeans_salario.fit_predict(X_salario_scaled)\n",
    "\n",
    "# Conferir a distribuição dos clusters\n",
    "print(df_kmeans_salario['cluster_salario'].value_counts())"
   ]
  },
  {
   "cell_type": "markdown",
   "id": "1e63dc6e",
   "metadata": {},
   "source": [
    "Calculando a mediana do salário por cluster e imputando no DataFrame"
   ]
  },
  {
   "cell_type": "code",
   "execution_count": 54,
   "id": "1abee0a2",
   "metadata": {},
   "outputs": [
    {
     "name": "stdout",
     "output_type": "stream",
     "text": [
      "Salário líquido mensal nulo após imputação: 0\n"
     ]
    }
   ],
   "source": [
    "# Criar cópia do DataFrame com idade já imputada\n",
    "df_processado_kmeans2 = df_processado_kmeans1.copy()\n",
    "\n",
    "# Calcular a mediana de salario_liquido_mensal para cada cluster\n",
    "mediana_salario_cluster = df_kmeans_salario.groupby('cluster_salario')['salario_liquido_mensal'].median()\n",
    "\n",
    "# Iterar sobre os clusters e imputar os salários faltantes com a mediana de cada cluster\n",
    "for cluster in mediana_salario_cluster.index:\n",
    "    salario_mediana = mediana_salario_cluster.loc[cluster]\n",
    "    df_processado_kmeans2.loc[\n",
    "        (df_processado_kmeans2['salario_liquido_mensal'].isna()) &\n",
    "        (df_kmeans_salario['cluster_salario'] == cluster),\n",
    "        'salario_liquido_mensal'\n",
    "    ] = salario_mediana\n",
    "\n",
    "# Conferindo se ainda existem salários nulos após a imputação\n",
    "print(\"Salário líquido mensal nulo após imputação:\", df_processado_kmeans2['salario_liquido_mensal'].isna().sum())\n"
   ]
  },
  {
   "cell_type": "code",
   "execution_count": 55,
   "id": "848e2058",
   "metadata": {},
   "outputs": [
    {
     "name": "stdout",
     "output_type": "stream",
     "text": [
      "Idades nulas no df_processado: 0\n",
      "Salário líquido mensal nulo no df_processado: 0\n"
     ]
    }
   ],
   "source": [
    "# Atualizando df_processado com os valores imputados de idade e salario_liquido_mensal\n",
    "df_processado.update(df_processado_kmeans2[['idade', 'salario_liquido_mensal']])\n",
    "\n",
    "# Conferindo se restaram valores nulos\n",
    "print(\"Idades nulas no df_processado:\", df_processado['idade'].isna().sum())\n",
    "print(\"Salário líquido mensal nulo no df_processado:\", df_processado['salario_liquido_mensal'].isna().sum())\n"
   ]
  },
  {
   "cell_type": "markdown",
   "id": "bb1f311c",
   "metadata": {},
   "source": [
    "## Tipos de Empréstimos "
   ]
  },
  {
   "cell_type": "code",
   "execution_count": 59,
   "id": "4a8bf787",
   "metadata": {},
   "outputs": [
    {
     "name": "stdout",
     "output_type": "stream",
     "text": [
      "['Auto Loan, Credit-Builder Loan, Personal Loan, and Home Equity Loan'\n",
      " 'Credit-Builder Loan' 'Auto Loan, Auto Loan, and Not Specified' ...\n",
      " 'Home Equity Loan, Auto Loan, Auto Loan, and Auto Loan'\n",
      " 'Payday Loan, Student Loan, Mortgage Loan, and Not Specified'\n",
      " 'Personal Loan, Auto Loan, Mortgage Loan, Student Loan, and Student Loan']\n"
     ]
    }
   ],
   "source": [
    "print(df_processado['tipos_emprestimos'].unique())"
   ]
  },
  {
   "cell_type": "code",
   "execution_count": 61,
   "id": "65600a58",
   "metadata": {},
   "outputs": [
    {
     "name": "stdout",
     "output_type": "stream",
     "text": [
      "Quantidade de valores únicos em tipos_emprestimos: 6260\n"
     ]
    }
   ],
   "source": [
    "# Contando valores únicos\n",
    "qtd_unicos = df_processado['tipos_emprestimos'].nunique()\n",
    "\n",
    "print(f\"Quantidade de valores únicos em tipos_emprestimos: {qtd_unicos}\")\n"
   ]
  },
  {
   "cell_type": "code",
   "execution_count": 62,
   "id": "c8935004",
   "metadata": {},
   "outputs": [
    {
     "data": {
      "text/plain": [
       "tipos_emprestimos\n",
       "Not Specified                               1408\n",
       "Credit-Builder Loan                         1280\n",
       "Personal Loan                               1272\n",
       "Debt Consolidation Loan                     1264\n",
       "Student Loan                                1240\n",
       "Payday Loan                                 1200\n",
       "Mortgage Loan                               1176\n",
       "Auto Loan                                   1152\n",
       "Home Equity Loan                            1136\n",
       "Personal Loan, and Student Loan              320\n",
       "Not Specified, and Payday Loan               272\n",
       "Mortgage Loan, and Home Equity Loan          264\n",
       "Student Loan, and Payday Loan                256\n",
       "Credit-Builder Loan, and Not Specified       248\n",
       "Student Loan, and Credit-Builder Loan        248\n",
       "Payday Loan, and Debt Consolidation Loan     240\n",
       "Payday Loan, and Auto Loan                   240\n",
       "Credit-Builder Loan, and Mortgage Loan       232\n",
       "Payday Loan, and Personal Loan               232\n",
       "Personal Loan, and Credit-Builder Loan       232\n",
       "Name: count, dtype: int64"
      ]
     },
     "execution_count": 62,
     "metadata": {},
     "output_type": "execute_result"
    }
   ],
   "source": [
    "# Listar as 20 combinações mais comuns de tipos de empréstimos\n",
    "df_processado['tipos_emprestimos'].value_counts().iloc[:20]\n"
   ]
  },
  {
   "cell_type": "markdown",
   "id": "555b8ab7",
   "metadata": {},
   "source": [
    "Plano de tratamento para a coluna:\n",
    "\n",
    "Se a célula contiver vírgula, indicando mais de um tipo de empréstimo, a classificação será “Two or More Types of Loan”.\n",
    "\n",
    "Se o valor for nulo (NaN), será preenchido como “Not Specified”.\n",
    "\n",
    "Se houver apenas um tipo de empréstimo, como por exemplo “Auto Loan”, o nome do empréstimo será mantido exatamente como está."
   ]
  },
  {
   "cell_type": "code",
   "execution_count": 63,
   "id": "5ad3463d",
   "metadata": {},
   "outputs": [
    {
     "data": {
      "text/plain": [
       "tipos_emprestimos_simplificado\n",
       "Two or More Types of Loan    77464\n",
       "Not Specified                12816\n",
       "Credit-Builder Loan           1280\n",
       "Personal Loan                 1272\n",
       "Debt Consolidation Loan       1264\n",
       "Student Loan                  1240\n",
       "Payday Loan                   1200\n",
       "Mortgage Loan                 1176\n",
       "Auto Loan                     1152\n",
       "Home Equity Loan              1136\n",
       "Name: count, dtype: int64"
      ]
     },
     "execution_count": 63,
     "metadata": {},
     "output_type": "execute_result"
    }
   ],
   "source": [
    "# Criar uma cópia da coluna para não sobrescrever de imediato\n",
    "df_processado['tipos_emprestimos_simplificado'] = df_processado['tipos_emprestimos']\n",
    "\n",
    "# Substituir os nulos por 'Not Specified'\n",
    "df_processado['tipos_emprestimos_simplificado'] = df_processado['tipos_emprestimos_simplificado'].fillna('Not Specified')\n",
    "\n",
    "# Se houver vírgula, significa mais de um empréstimo\n",
    "df_processado.loc[df_processado['tipos_emprestimos_simplificado'].str.contains(','), 'tipos_emprestimos_simplificado'] = 'Two or More Types of Loan'\n",
    "\n",
    "# Conferir distribuição final\n",
    "df_processado['tipos_emprestimos_simplificado'].value_counts()\n"
   ]
  },
  {
   "cell_type": "code",
   "execution_count": 64,
   "id": "4853cc83",
   "metadata": {},
   "outputs": [],
   "source": [
    "# Removendo a coluna original para manter apenas a versão tratada\n",
    "df_processado.drop(columns=['tipos_emprestimos'], inplace=True)\n",
    "\n",
    "# Renomeando a coluna simplificada para voltar ao nome original\n",
    "df_processado.rename(columns={'tipos_emprestimos_simplificado': 'tipos_emprestimos'}, inplace=True)"
   ]
  },
  {
   "cell_type": "markdown",
   "id": "900c7860",
   "metadata": {},
   "source": [
    "## Tempo Histórico Crédito"
   ]
  },
  {
   "cell_type": "code",
   "execution_count": 66,
   "id": "3dd104e4",
   "metadata": {},
   "outputs": [
    {
     "name": "stdout",
     "output_type": "stream",
     "text": [
      "Quantidade de valores únicos em tempo_historico_credito: 404\n",
      "['22 Years and 1 Months' nan '22 Years and 3 Months'\n",
      " '22 Years and 4 Months' '22 Years and 5 Months' '22 Years and 6 Months'\n",
      " '22 Years and 7 Months' '26 Years and 7 Months' '26 Years and 8 Months'\n",
      " '26 Years and 9 Months' '26 Years and 10 Months' '26 Years and 11 Months'\n",
      " '27 Years and 0 Months' '27 Years and 1 Months' '27 Years and 2 Months'\n",
      " '17 Years and 9 Months' '17 Years and 10 Months' '17 Years and 11 Months'\n",
      " '18 Years and 1 Months' '18 Years and 2 Months']\n"
     ]
    }
   ],
   "source": [
    "# Contar quantos valores únicos existem\n",
    "qtd_unicos_tempo = df_processado['tempo_historico_credito'].nunique()\n",
    "\n",
    "print(f\"Quantidade de valores únicos em tempo_historico_credito: {qtd_unicos_tempo}\")\n",
    "\n",
    "# Exibir os 20 primeiros valores únicos para entender o formato\n",
    "valores_unicos = df_processado['tempo_historico_credito'].unique()[:20]\n",
    "print(valores_unicos)\n"
   ]
  },
  {
   "cell_type": "markdown",
   "id": "5afbf593",
   "metadata": {},
   "source": [
    " Transformar o tempo de histórico de crédito em meses numéricos"
   ]
  },
  {
   "cell_type": "code",
   "execution_count": 69,
   "id": "1d3943ba",
   "metadata": {},
   "outputs": [
    {
     "name": "stdout",
     "output_type": "stream",
     "text": [
      "  tempo_historico_credito  tempo_historico_credito_meses\n",
      "0   22 Years and 1 Months                         265.00\n",
      "1                     NaN                            NaN\n",
      "2   22 Years and 3 Months                         267.00\n",
      "3   22 Years and 4 Months                         268.00\n",
      "4   22 Years and 5 Months                         269.00\n",
      "5   22 Years and 6 Months                         270.00\n",
      "6   22 Years and 7 Months                         271.00\n",
      "7                     NaN                            NaN\n",
      "8   26 Years and 7 Months                         319.00\n",
      "9   26 Years and 8 Months                         320.00\n"
     ]
    }
   ],
   "source": [
    "\n",
    "# Função para converter o tempo de histórico em meses\n",
    "def convert_to_months(value):\n",
    "    if isinstance(value, str):\n",
    "        match = re.search(r'(\\d+)\\s+Years?.*?(\\d+)\\s+Months?', value)\n",
    "        if match:\n",
    "            years = int(match.group(1))\n",
    "            months = int(match.group(2))\n",
    "            return years * 12 + months\n",
    "    return np.nan  # retorna NaN para valores inválidos ou ausentes\n",
    "\n",
    "# Aplicar a função na coluna tempo_historico_credito\n",
    "df_processado['tempo_historico_credito_meses'] = df_processado['tempo_historico_credito'].apply(convert_to_months)\n",
    "\n",
    "# Conferir os primeiros valores convertidos\n",
    "print(df_processado[['tempo_historico_credito', 'tempo_historico_credito_meses']].head(10))\n"
   ]
  },
  {
   "cell_type": "markdown",
   "id": "17a52f7b",
   "metadata": {},
   "source": [
    " Imputando valores nulos de tempo_historico_credito_meses com a mediana"
   ]
  },
  {
   "cell_type": "code",
   "execution_count": 71,
   "id": "31dc1f70",
   "metadata": {},
   "outputs": [
    {
     "name": "stdout",
     "output_type": "stream",
     "text": [
      "Valores nulos restantes: 0\n",
      "Mediana usada na imputação: 219.0\n"
     ]
    }
   ],
   "source": [
    "# Calcular a mediana\n",
    "mediana_tempo = df_processado['tempo_historico_credito_meses'].median()\n",
    "\n",
    "# Substituir os valores nulos pela mediana (sem usar inplace)\n",
    "df_processado['tempo_historico_credito_meses'] = df_processado['tempo_historico_credito_meses'].fillna(mediana_tempo)\n",
    "\n",
    "# Conferir se ainda existem valores nulos\n",
    "print(\"Valores nulos restantes:\", df_processado['tempo_historico_credito_meses'].isna().sum())\n",
    "print(f\"Mediana usada na imputação: {mediana_tempo}\")\n"
   ]
  },
  {
   "cell_type": "markdown",
   "id": "df6659af",
   "metadata": {},
   "source": [
    " Remover a original e deixar a versão com “_meses”"
   ]
  },
  {
   "cell_type": "code",
   "execution_count": null,
   "id": "e1f54313",
   "metadata": {},
   "outputs": [
    {
     "ename": "KeyError",
     "evalue": "\"['tempo_historico_credito'] not found in axis\"",
     "output_type": "error",
     "traceback": [
      "\u001b[31m---------------------------------------------------------------------------\u001b[39m",
      "\u001b[31mKeyError\u001b[39m                                  Traceback (most recent call last)",
      "\u001b[36mCell\u001b[39m\u001b[36m \u001b[39m\u001b[32mIn[77]\u001b[39m\u001b[32m, line 2\u001b[39m\n\u001b[32m      1\u001b[39m \u001b[38;5;66;03m# Remover a coluna original em texto, mantendo apenas a versão em meses\u001b[39;00m\n\u001b[32m----> \u001b[39m\u001b[32m2\u001b[39m \u001b[43mdf_processado\u001b[49m\u001b[43m.\u001b[49m\u001b[43mdrop\u001b[49m\u001b[43m(\u001b[49m\u001b[43mcolumns\u001b[49m\u001b[43m=\u001b[49m\u001b[43m[\u001b[49m\u001b[33;43m'\u001b[39;49m\u001b[33;43mtempo_historico_credito\u001b[39;49m\u001b[33;43m'\u001b[39;49m\u001b[43m]\u001b[49m\u001b[43m,\u001b[49m\u001b[43m \u001b[49m\u001b[43minplace\u001b[49m\u001b[43m=\u001b[49m\u001b[38;5;28;43;01mTrue\u001b[39;49;00m\u001b[43m)\u001b[49m\n\u001b[32m      4\u001b[39m \u001b[38;5;66;03m# Conferindo se a coluna foi removida e a versão em meses está presente\u001b[39;00m\n\u001b[32m      5\u001b[39m df_processado.tempo_historico_credito_meses.head(\u001b[32m3\u001b[39m)\n",
      "\u001b[36mFile \u001b[39m\u001b[32mc:\\Users\\User\\Documents\\portfolio\\quantum-finance-credit-score\\.venv\\Lib\\site-packages\\pandas\\core\\frame.py:5581\u001b[39m, in \u001b[36mDataFrame.drop\u001b[39m\u001b[34m(self, labels, axis, index, columns, level, inplace, errors)\u001b[39m\n\u001b[32m   5433\u001b[39m \u001b[38;5;28;01mdef\u001b[39;00m\u001b[38;5;250m \u001b[39m\u001b[34mdrop\u001b[39m(\n\u001b[32m   5434\u001b[39m     \u001b[38;5;28mself\u001b[39m,\n\u001b[32m   5435\u001b[39m     labels: IndexLabel | \u001b[38;5;28;01mNone\u001b[39;00m = \u001b[38;5;28;01mNone\u001b[39;00m,\n\u001b[32m   (...)\u001b[39m\u001b[32m   5442\u001b[39m     errors: IgnoreRaise = \u001b[33m\"\u001b[39m\u001b[33mraise\u001b[39m\u001b[33m\"\u001b[39m,\n\u001b[32m   5443\u001b[39m ) -> DataFrame | \u001b[38;5;28;01mNone\u001b[39;00m:\n\u001b[32m   5444\u001b[39m \u001b[38;5;250m    \u001b[39m\u001b[33;03m\"\"\"\u001b[39;00m\n\u001b[32m   5445\u001b[39m \u001b[33;03m    Drop specified labels from rows or columns.\u001b[39;00m\n\u001b[32m   5446\u001b[39m \n\u001b[32m   (...)\u001b[39m\u001b[32m   5579\u001b[39m \u001b[33;03m            weight  1.0     0.8\u001b[39;00m\n\u001b[32m   5580\u001b[39m \u001b[33;03m    \"\"\"\u001b[39;00m\n\u001b[32m-> \u001b[39m\u001b[32m5581\u001b[39m     \u001b[38;5;28;01mreturn\u001b[39;00m \u001b[38;5;28;43msuper\u001b[39;49m\u001b[43m(\u001b[49m\u001b[43m)\u001b[49m\u001b[43m.\u001b[49m\u001b[43mdrop\u001b[49m\u001b[43m(\u001b[49m\n\u001b[32m   5582\u001b[39m \u001b[43m        \u001b[49m\u001b[43mlabels\u001b[49m\u001b[43m=\u001b[49m\u001b[43mlabels\u001b[49m\u001b[43m,\u001b[49m\n\u001b[32m   5583\u001b[39m \u001b[43m        \u001b[49m\u001b[43maxis\u001b[49m\u001b[43m=\u001b[49m\u001b[43maxis\u001b[49m\u001b[43m,\u001b[49m\n\u001b[32m   5584\u001b[39m \u001b[43m        \u001b[49m\u001b[43mindex\u001b[49m\u001b[43m=\u001b[49m\u001b[43mindex\u001b[49m\u001b[43m,\u001b[49m\n\u001b[32m   5585\u001b[39m \u001b[43m        \u001b[49m\u001b[43mcolumns\u001b[49m\u001b[43m=\u001b[49m\u001b[43mcolumns\u001b[49m\u001b[43m,\u001b[49m\n\u001b[32m   5586\u001b[39m \u001b[43m        \u001b[49m\u001b[43mlevel\u001b[49m\u001b[43m=\u001b[49m\u001b[43mlevel\u001b[49m\u001b[43m,\u001b[49m\n\u001b[32m   5587\u001b[39m \u001b[43m        \u001b[49m\u001b[43minplace\u001b[49m\u001b[43m=\u001b[49m\u001b[43minplace\u001b[49m\u001b[43m,\u001b[49m\n\u001b[32m   5588\u001b[39m \u001b[43m        \u001b[49m\u001b[43merrors\u001b[49m\u001b[43m=\u001b[49m\u001b[43merrors\u001b[49m\u001b[43m,\u001b[49m\n\u001b[32m   5589\u001b[39m \u001b[43m    \u001b[49m\u001b[43m)\u001b[49m\n",
      "\u001b[36mFile \u001b[39m\u001b[32mc:\\Users\\User\\Documents\\portfolio\\quantum-finance-credit-score\\.venv\\Lib\\site-packages\\pandas\\core\\generic.py:4788\u001b[39m, in \u001b[36mNDFrame.drop\u001b[39m\u001b[34m(self, labels, axis, index, columns, level, inplace, errors)\u001b[39m\n\u001b[32m   4786\u001b[39m \u001b[38;5;28;01mfor\u001b[39;00m axis, labels \u001b[38;5;129;01min\u001b[39;00m axes.items():\n\u001b[32m   4787\u001b[39m     \u001b[38;5;28;01mif\u001b[39;00m labels \u001b[38;5;129;01mis\u001b[39;00m \u001b[38;5;129;01mnot\u001b[39;00m \u001b[38;5;28;01mNone\u001b[39;00m:\n\u001b[32m-> \u001b[39m\u001b[32m4788\u001b[39m         obj = \u001b[43mobj\u001b[49m\u001b[43m.\u001b[49m\u001b[43m_drop_axis\u001b[49m\u001b[43m(\u001b[49m\u001b[43mlabels\u001b[49m\u001b[43m,\u001b[49m\u001b[43m \u001b[49m\u001b[43maxis\u001b[49m\u001b[43m,\u001b[49m\u001b[43m \u001b[49m\u001b[43mlevel\u001b[49m\u001b[43m=\u001b[49m\u001b[43mlevel\u001b[49m\u001b[43m,\u001b[49m\u001b[43m \u001b[49m\u001b[43merrors\u001b[49m\u001b[43m=\u001b[49m\u001b[43merrors\u001b[49m\u001b[43m)\u001b[49m\n\u001b[32m   4790\u001b[39m \u001b[38;5;28;01mif\u001b[39;00m inplace:\n\u001b[32m   4791\u001b[39m     \u001b[38;5;28mself\u001b[39m._update_inplace(obj)\n",
      "\u001b[36mFile \u001b[39m\u001b[32mc:\\Users\\User\\Documents\\portfolio\\quantum-finance-credit-score\\.venv\\Lib\\site-packages\\pandas\\core\\generic.py:4830\u001b[39m, in \u001b[36mNDFrame._drop_axis\u001b[39m\u001b[34m(self, labels, axis, level, errors, only_slice)\u001b[39m\n\u001b[32m   4828\u001b[39m         new_axis = axis.drop(labels, level=level, errors=errors)\n\u001b[32m   4829\u001b[39m     \u001b[38;5;28;01melse\u001b[39;00m:\n\u001b[32m-> \u001b[39m\u001b[32m4830\u001b[39m         new_axis = \u001b[43maxis\u001b[49m\u001b[43m.\u001b[49m\u001b[43mdrop\u001b[49m\u001b[43m(\u001b[49m\u001b[43mlabels\u001b[49m\u001b[43m,\u001b[49m\u001b[43m \u001b[49m\u001b[43merrors\u001b[49m\u001b[43m=\u001b[49m\u001b[43merrors\u001b[49m\u001b[43m)\u001b[49m\n\u001b[32m   4831\u001b[39m     indexer = axis.get_indexer(new_axis)\n\u001b[32m   4833\u001b[39m \u001b[38;5;66;03m# Case for non-unique axis\u001b[39;00m\n\u001b[32m   4834\u001b[39m \u001b[38;5;28;01melse\u001b[39;00m:\n",
      "\u001b[36mFile \u001b[39m\u001b[32mc:\\Users\\User\\Documents\\portfolio\\quantum-finance-credit-score\\.venv\\Lib\\site-packages\\pandas\\core\\indexes\\base.py:7070\u001b[39m, in \u001b[36mIndex.drop\u001b[39m\u001b[34m(self, labels, errors)\u001b[39m\n\u001b[32m   7068\u001b[39m \u001b[38;5;28;01mif\u001b[39;00m mask.any():\n\u001b[32m   7069\u001b[39m     \u001b[38;5;28;01mif\u001b[39;00m errors != \u001b[33m\"\u001b[39m\u001b[33mignore\u001b[39m\u001b[33m\"\u001b[39m:\n\u001b[32m-> \u001b[39m\u001b[32m7070\u001b[39m         \u001b[38;5;28;01mraise\u001b[39;00m \u001b[38;5;167;01mKeyError\u001b[39;00m(\u001b[33mf\u001b[39m\u001b[33m\"\u001b[39m\u001b[38;5;132;01m{\u001b[39;00mlabels[mask].tolist()\u001b[38;5;132;01m}\u001b[39;00m\u001b[33m not found in axis\u001b[39m\u001b[33m\"\u001b[39m)\n\u001b[32m   7071\u001b[39m     indexer = indexer[~mask]\n\u001b[32m   7072\u001b[39m \u001b[38;5;28;01mreturn\u001b[39;00m \u001b[38;5;28mself\u001b[39m.delete(indexer)\n",
      "\u001b[31mKeyError\u001b[39m: \"['tempo_historico_credito'] not found in axis\""
     ]
    }
   ],
   "source": [
    "# Remover a coluna original em texto, mantendo apenas a versão em meses\n",
    "df_processado.drop(columns=['tempo_historico_credito'], inplace=True)\n",
    "\n",
    "\n"
   ]
  },
  {
   "cell_type": "code",
   "execution_count": 78,
   "id": "4a383aef",
   "metadata": {},
   "outputs": [
    {
     "data": {
      "text/plain": [
       "0   265.00\n",
       "1   219.00\n",
       "2   267.00\n",
       "Name: tempo_historico_credito_meses, dtype: float64"
      ]
     },
     "execution_count": 78,
     "metadata": {},
     "output_type": "execute_result"
    }
   ],
   "source": [
    "# Conferindo se a coluna foi removida e a versão em meses está presente\n",
    "df_processado.tempo_historico_credito_meses.head(3)"
   ]
  },
  {
   "cell_type": "code",
   "execution_count": 79,
   "id": "6d58c35f",
   "metadata": {},
   "outputs": [
    {
     "name": "stdout",
     "output_type": "stream",
     "text": [
      "int64\n"
     ]
    }
   ],
   "source": [
    "# Converter a coluna para inteiro\n",
    "df_processado['tempo_historico_credito_meses'] = df_processado['tempo_historico_credito_meses'].astype(int)\n",
    "\n",
    "# Conferir o novo tipo\n",
    "print(df_processado['tempo_historico_credito_meses'].dtype)"
   ]
  },
  {
   "cell_type": "markdown",
   "id": "bf8b9d8f",
   "metadata": {},
   "source": [
    "## Valor Investido Mensal"
   ]
  },
  {
   "cell_type": "code",
   "execution_count": 80,
   "id": "aaeece5d",
   "metadata": {},
   "outputs": [
    {
     "data": {
      "text/plain": [
       "0     80.41529543900253\n",
       "1    118.28022162236736\n",
       "2       81.699521264648\n",
       "3     199.4580743910713\n",
       "4    41.420153086217326\n",
       "5    62.430172331195294\n",
       "6     178.3440674122349\n",
       "7    24.785216509052056\n",
       "8      104.291825168246\n",
       "9     40.39123782853101\n",
       "Name: valor_investido_mensal, dtype: object"
      ]
     },
     "execution_count": 80,
     "metadata": {},
     "output_type": "execute_result"
    }
   ],
   "source": [
    "# Visualizando os primeiros valores da coluna 'valor_investido_mensal'\n",
    "df_processado['valor_investido_mensal'].head(10)\n"
   ]
  },
  {
   "cell_type": "code",
   "execution_count": 81,
   "id": "6becde8c",
   "metadata": {},
   "outputs": [
    {
     "data": {
      "text/plain": [
       "array(['80.41529543900253', '118.28022162236736', '81.699521264648',\n",
       "       '199.4580743910713', '41.420153086217326', '62.430172331195294',\n",
       "       '178.3440674122349', '24.785216509052056', '104.291825168246',\n",
       "       '40.39123782853101', '58.51597569589465', '99.30622796053305',\n",
       "       '130.11542024292334', '43.477190144355745', '70.10177420755677',\n",
       "       '218.90434353388733', '168.413702679309', '232.86038375993544',\n",
       "       '__10000__', '825.2162699393922', '430.9475278803298',\n",
       "       '257.80809942568976', '263.17416316163934', '81.22885871073616',\n",
       "       '124.88181990234848', '83.40650880252501', '272.3340373956682',\n",
       "       '84.95284817115969', '71.28367488286933', '125.61725053231268'],\n",
       "      dtype=object)"
      ]
     },
     "execution_count": 81,
     "metadata": {},
     "output_type": "execute_result"
    }
   ],
   "source": [
    "# Mostrando os 30 primeiros valores únicos da coluna 'valor_investido_mensal'\n",
    "df_processado['valor_investido_mensal'].unique()[:30]\n"
   ]
  },
  {
   "cell_type": "markdown",
   "id": "8ab2b0ab",
   "metadata": {},
   "source": [
    "Limpando valor_investido_mensal com placeholder 999999 e conversão direta para float"
   ]
  },
  {
   "cell_type": "code",
   "execution_count": 82,
   "id": "62658783",
   "metadata": {},
   "outputs": [
    {
     "name": "stdout",
     "output_type": "stream",
     "text": [
      "<class 'pandas.core.series.Series'>\n",
      "RangeIndex: 100000 entries, 0 to 99999\n",
      "Series name: valor_investido_mensal\n",
      "Non-Null Count   Dtype  \n",
      "--------------   -----  \n",
      "100000 non-null  float64\n",
      "dtypes: float64(1)\n",
      "memory usage: 781.4 KB\n"
     ]
    },
    {
     "data": {
      "text/plain": [
       "0    80.42\n",
       "1   118.28\n",
       "2    81.70\n",
       "3   199.46\n",
       "4    41.42\n",
       "5    62.43\n",
       "6   178.34\n",
       "7    24.79\n",
       "8   104.29\n",
       "9    40.39\n",
       "Name: valor_investido_mensal, dtype: float64"
      ]
     },
     "execution_count": 82,
     "metadata": {},
     "output_type": "execute_result"
    }
   ],
   "source": [
    "# 1. Remover underscores do início e do fim\n",
    "df_processado['valor_investido_mensal'] = df_processado['valor_investido_mensal'].str.replace(r'^_+|_+$', '', regex=True)\n",
    "\n",
    "# 2. Substituir nulos pelo placeholder 999999\n",
    "df_processado['valor_investido_mensal'] = df_processado['valor_investido_mensal'].fillna('999999')\n",
    "\n",
    "# 3. Converter para float diretamente\n",
    "df_processado['valor_investido_mensal'] = df_processado['valor_investido_mensal'].astype(float)\n",
    "\n",
    "# 4. Conferir se deu certo\n",
    "df_processado['valor_investido_mensal'].info()\n",
    "df_processado['valor_investido_mensal'].head(10)\n"
   ]
  },
  {
   "cell_type": "markdown",
   "id": "35815402",
   "metadata": {},
   "source": [
    "Estamos utilizando os clusters do KMeans porque eles representam grupos de clientes com perfis financeiros semelhantes, baseados em variáveis como renda, idade, dívidas e limites de crédito. Assim, ao imputar os valores ausentes de valor_investido_mensal pela mediana de cada cluster, garantimos que os valores preenchidos sejam mais coerentes com o perfil de cada cliente do que se usássemos apenas uma mediana global."
   ]
  },
  {
   "cell_type": "code",
   "execution_count": 84,
   "id": "478be79a",
   "metadata": {},
   "outputs": [
    {
     "name": "stdout",
     "output_type": "stream",
     "text": [
      "Colunas disponíveis: ['mes', 'idade', 'ocupacao', 'renda_anual', 'salario_liquido_mensal', 'qtd_contas_bancarias', 'qtd_cartoes_credito', 'taxa_juros', 'qtd_emprestimos', 'dias_atraso_pagamento', 'qtd_pagamentos_atrasados', 'variacao_limite_credito', 'qtd_consultas_credito', 'mix_credito', 'divida_pendente', 'percentual_utilizacao_credito', 'pagamento_valor_minimo', 'total_emprestimos_mensal', 'valor_investido_mensal', 'comportamento_pagamento', 'saldo_mensal', 'score_credito', 'tipos_emprestimos', 'tempo_historico_credito_meses', 'cluster_salario']\n",
      "Total de valores 999999 em valor_investido_mensal: 4479\n"
     ]
    }
   ],
   "source": [
    "# Criar DataFrame de imputação a partir do df_processado\n",
    "df_para_imputacao_valor_investido_mensal = df_processado.copy()\n",
    "\n",
    "# Adicionar a coluna de cluster já criada no KMeans com idade\n",
    "df_para_imputacao_valor_investido_mensal['cluster_salario'] = df_kmeans_salario['cluster_salario']\n",
    "\n",
    "# Garantir que a coluna valor_investido_mensal esteja presente\n",
    "print(\"Colunas disponíveis:\", df_para_imputacao_valor_investido_mensal.columns.tolist())\n",
    "print(\"Total de valores 999999 em valor_investido_mensal:\", (df_para_imputacao_valor_investido_mensal['valor_investido_mensal'] == 999999).sum())\n"
   ]
  },
  {
   "cell_type": "code",
   "execution_count": 85,
   "id": "f7cd5012",
   "metadata": {},
   "outputs": [
    {
     "name": "stdout",
     "output_type": "stream",
     "text": [
      "Placeholders restantes: 0\n"
     ]
    }
   ],
   "source": [
    "# Calcular a mediana do valor investido mensal por cluster (ignorando o placeholder 999999)\n",
    "mediana_investimento_cluster = df_para_imputacao_valor_investido_mensal.loc[\n",
    "    df_para_imputacao_valor_investido_mensal['valor_investido_mensal'] != 999999\n",
    "].groupby('cluster_salario')['valor_investido_mensal'].median()\n",
    "\n",
    "# Criar uma cópia do df_processado para registrar a imputação final\n",
    "df_processado_kmeans3 = df_processado.copy()\n",
    "\n",
    "# Substituir 999999 pela mediana do cluster\n",
    "for cluster in mediana_investimento_cluster.index:\n",
    "    investimento_mediana = mediana_investimento_cluster.loc[cluster]\n",
    "    df_processado_kmeans3.loc[\n",
    "        (df_para_imputacao_valor_investido_mensal['cluster_salario'] == cluster) &\n",
    "        (df_processado_kmeans3['valor_investido_mensal'] == 999999),\n",
    "        'valor_investido_mensal'\n",
    "    ] = investimento_mediana\n",
    "\n",
    "# Conferir se ainda existe placeholder\n",
    "placeholders_restantes = (df_processado_kmeans3['valor_investido_mensal'] == 999999).sum()\n",
    "print(f\"Placeholders restantes: {placeholders_restantes}\")\n"
   ]
  },
  {
   "cell_type": "markdown",
   "id": "bcfd6837",
   "metadata": {},
   "source": [
    "Atualizando valor_investido_mensal no DataFrame principal"
   ]
  },
  {
   "cell_type": "code",
   "execution_count": 86,
   "id": "d31f620b",
   "metadata": {},
   "outputs": [
    {
     "name": "stdout",
     "output_type": "stream",
     "text": [
      "Valores nulos após atualização: 0\n",
      "Maior valor da coluna: 10000.0\n",
      "Menor valor da coluna: 0.0\n"
     ]
    },
    {
     "data": {
      "text/html": [
       "<div>\n",
       "<style scoped>\n",
       "    .dataframe tbody tr th:only-of-type {\n",
       "        vertical-align: middle;\n",
       "    }\n",
       "\n",
       "    .dataframe tbody tr th {\n",
       "        vertical-align: top;\n",
       "    }\n",
       "\n",
       "    .dataframe thead th {\n",
       "        text-align: right;\n",
       "    }\n",
       "</style>\n",
       "<table border=\"1\" class=\"dataframe\">\n",
       "  <thead>\n",
       "    <tr style=\"text-align: right;\">\n",
       "      <th></th>\n",
       "      <th>valor_investido_mensal</th>\n",
       "    </tr>\n",
       "  </thead>\n",
       "  <tbody>\n",
       "    <tr>\n",
       "      <th>0</th>\n",
       "      <td>80.42</td>\n",
       "    </tr>\n",
       "    <tr>\n",
       "      <th>1</th>\n",
       "      <td>118.28</td>\n",
       "    </tr>\n",
       "    <tr>\n",
       "      <th>2</th>\n",
       "      <td>81.70</td>\n",
       "    </tr>\n",
       "    <tr>\n",
       "      <th>3</th>\n",
       "      <td>199.46</td>\n",
       "    </tr>\n",
       "    <tr>\n",
       "      <th>4</th>\n",
       "      <td>41.42</td>\n",
       "    </tr>\n",
       "    <tr>\n",
       "      <th>5</th>\n",
       "      <td>62.43</td>\n",
       "    </tr>\n",
       "    <tr>\n",
       "      <th>6</th>\n",
       "      <td>178.34</td>\n",
       "    </tr>\n",
       "    <tr>\n",
       "      <th>7</th>\n",
       "      <td>24.79</td>\n",
       "    </tr>\n",
       "    <tr>\n",
       "      <th>8</th>\n",
       "      <td>104.29</td>\n",
       "    </tr>\n",
       "    <tr>\n",
       "      <th>9</th>\n",
       "      <td>40.39</td>\n",
       "    </tr>\n",
       "  </tbody>\n",
       "</table>\n",
       "</div>"
      ],
      "text/plain": [
       "   valor_investido_mensal\n",
       "0                   80.42\n",
       "1                  118.28\n",
       "2                   81.70\n",
       "3                  199.46\n",
       "4                   41.42\n",
       "5                   62.43\n",
       "6                  178.34\n",
       "7                   24.79\n",
       "8                  104.29\n",
       "9                   40.39"
      ]
     },
     "execution_count": 86,
     "metadata": {},
     "output_type": "execute_result"
    }
   ],
   "source": [
    "# Atualizando a coluna valor_investido_mensal no df_processado\n",
    "df_processado['valor_investido_mensal'] = df_processado_kmeans3['valor_investido_mensal']\n",
    "\n",
    "# Conferindo se a atualização deu certo\n",
    "print(\"Valores nulos após atualização:\", df_processado['valor_investido_mensal'].isna().sum())\n",
    "print(\"Maior valor da coluna:\", df_processado['valor_investido_mensal'].max())\n",
    "print(\"Menor valor da coluna:\", df_processado['valor_investido_mensal'].min())\n",
    "\n",
    "# Visualizando as 10 primeiras linhas para validar\n",
    "df_processado[['valor_investido_mensal']].head(10)\n"
   ]
  },
  {
   "cell_type": "markdown",
   "id": "eec8da5b",
   "metadata": {},
   "source": [
    "## Quantidade consultas mensal "
   ]
  },
  {
   "cell_type": "code",
   "execution_count": 87,
   "id": "2224507d",
   "metadata": {},
   "outputs": [
    {
     "data": {
      "text/plain": [
       "0   4.00\n",
       "1   4.00\n",
       "2   4.00\n",
       "3   4.00\n",
       "4   4.00\n",
       "5   4.00\n",
       "6   4.00\n",
       "7   4.00\n",
       "8   2.00\n",
       "9   2.00\n",
       "Name: qtd_consultas_credito, dtype: float64"
      ]
     },
     "execution_count": 87,
     "metadata": {},
     "output_type": "execute_result"
    }
   ],
   "source": [
    "df_processado.qtd_consultas_credito.head(10) "
   ]
  },
  {
   "cell_type": "code",
   "execution_count": 91,
   "id": "3b9da746",
   "metadata": {},
   "outputs": [
    {
     "data": {
      "text/plain": [
       "array([4.000e+00, 2.000e+00, 3.000e+00,       nan, 5.000e+00, 9.000e+00,\n",
       "       8.000e+00, 7.000e+00, 6.000e+00, 0.000e+00, 1.000e+00, 1.000e+01,\n",
       "       1.050e+03, 1.100e+01, 1.200e+01, 1.044e+03, 1.700e+01, 1.936e+03,\n",
       "       1.300e+01, 5.680e+02, 1.618e+03, 5.250e+02, 1.400e+01, 1.251e+03,\n",
       "       1.600e+01, 1.500e+01, 7.600e+01, 2.850e+02, 1.190e+02, 6.510e+02])"
      ]
     },
     "execution_count": 91,
     "metadata": {},
     "output_type": "execute_result"
    }
   ],
   "source": [
    "df_processado.qtd_consultas_credito.unique()[:30]  # Exibir os 30 primeiros valores únicos"
   ]
  },
  {
   "cell_type": "code",
   "execution_count": 89,
   "id": "809f6975",
   "metadata": {},
   "outputs": [
    {
     "name": "stdout",
     "output_type": "stream",
     "text": [
      "Valor mínimo: 0.0\n",
      "Valor máximo: 2597.0\n"
     ]
    },
    {
     "data": {
      "image/png": "[encoded data removed]",
      "text/plain": [
       "<Figure size 800x400 with 1 Axes>"
      ]
     },
     "metadata": {},
     "output_type": "display_data"
    }
   ],
   "source": [
    "# 1. Verificando valores mínimo e máximo\n",
    "min_valor = df_processado['qtd_consultas_credito'].min()\n",
    "max_valor = df_processado['qtd_consultas_credito'].max()\n",
    "\n",
    "print(f\"Valor mínimo: {min_valor}\")\n",
    "print(f\"Valor máximo: {max_valor}\")\n",
    "\n",
    "# 2. Criando boxplot para visualizar distribuição\n",
    "plt.figure(figsize=(8,4))\n",
    "plt.boxplot(df_processado['qtd_consultas_credito'], vert=False)\n",
    "plt.title('Boxplot - Quantidade de Consultas de Crédito')\n",
    "plt.xlabel('Quantidade de Consultas')\n",
    "plt.show()\n"
   ]
  },
  {
   "cell_type": "code",
   "execution_count": 90,
   "id": "b1a7f7dc",
   "metadata": {},
   "outputs": [
    {
     "data": {
      "image/png": "[encoded data removed]",
      "text/plain": [
       "<Figure size 800x400 with 1 Axes>"
      ]
     },
     "metadata": {},
     "output_type": "display_data"
    },
    {
     "data": {
      "image/png": "[encoded data removed]",
      "text/plain": [
       "<Figure size 800x400 with 1 Axes>"
      ]
     },
     "metadata": {},
     "output_type": "display_data"
    }
   ],
   "source": [
    "# Novo boxplot limitando o eixo X para ver melhor a distribuição\n",
    "plt.figure(figsize=(8,4))\n",
    "plt.boxplot(df_processado['qtd_consultas_credito'], vert=False)\n",
    "plt.xlim(0, 50)  # limite para não distorcer a visualização\n",
    "plt.title('Boxplot - Quantidade de Consultas de Crédito (até 50)')\n",
    "plt.xlabel('Quantidade de Consultas')\n",
    "plt.show()\n",
    "\n",
    "# Histograma para entender a distribuição completa\n",
    "plt.figure(figsize=(8,4))\n",
    "plt.hist(df_processado['qtd_consultas_credito'], bins=50, edgecolor='black')\n",
    "plt.title('Histograma - Quantidade de Consultas de Crédito')\n",
    "plt.xlabel('Quantidade de Consultas')\n",
    "plt.ylabel('Frequência')\n",
    "plt.xlim(0, 200)  # zoom para ver melhor a área mais densa\n",
    "plt.show()\n"
   ]
  },
  {
   "cell_type": "markdown",
   "id": "9d12e955",
   "metadata": {},
   "source": [
    "A coluna qtd_consultas_credito tem a maioria dos valores baixos (0–20), mas também aparecem valores absurdamente altos como 1050, 1044, 1936, 1618, etc.\n",
    "\n",
    "Isso explica porque o boxplot ficou “em branco”: os outliers puxam o gráfico e esmagam os valores normais (0 a 10)."
   ]
  },
  {
   "cell_type": "markdown",
   "id": "141818ec",
   "metadata": {},
   "source": [
    "1 Identificar quantos valores são muito altos (ex.: acima de 50 consultas).\n",
    "2 Verificar a mediana dos valores normais para possível imputação.\n",
    "3 Decidir se substituímos valores absurdos pela mediana (ou máximo aceitável).\n",
    "\n"
   ]
  },
  {
   "cell_type": "code",
   "execution_count": 92,
   "id": "4f430376",
   "metadata": {},
   "outputs": [
    {
     "name": "stdout",
     "output_type": "stream",
     "text": [
      "Total de registros acima de 50: 1634\n",
      "Valores únicos acima de 50:\n",
      "[np.float64(52.0), np.float64(53.0), np.float64(54.0), np.float64(57.0), np.float64(59.0), np.float64(60.0), np.float64(61.0), np.float64(63.0), np.float64(64.0), np.float64(66.0), np.float64(67.0), np.float64(70.0), np.float64(71.0), np.float64(74.0), np.float64(76.0), np.float64(78.0), np.float64(83.0), np.float64(86.0), np.float64(87.0), np.float64(89.0), np.float64(93.0), np.float64(101.0), np.float64(103.0), np.float64(107.0), np.float64(112.0), np.float64(113.0), np.float64(114.0), np.float64(115.0), np.float64(116.0), np.float64(118.0), np.float64(119.0), np.float64(122.0), np.float64(125.0), np.float64(129.0), np.float64(131.0), np.float64(133.0), np.float64(134.0), np.float64(135.0), np.float64(137.0), np.float64(145.0), np.float64(150.0), np.float64(151.0), np.float64(152.0), np.float64(153.0), np.float64(154.0), np.float64(158.0), np.float64(159.0), np.float64(160.0), np.float64(163.0), np.float64(164.0), np.float64(168.0), np.float64(169.0), np.float64(171.0), np.float64(174.0), np.float64(177.0), np.float64(185.0), np.float64(186.0), np.float64(189.0), np.float64(190.0), np.float64(192.0), np.float64(193.0), np.float64(197.0), np.float64(198.0), np.float64(199.0), np.float64(202.0), np.float64(203.0), np.float64(205.0), np.float64(206.0), np.float64(207.0), np.float64(208.0), np.float64(209.0), np.float64(212.0), np.float64(215.0), np.float64(221.0), np.float64(223.0), np.float64(225.0), np.float64(227.0), np.float64(229.0), np.float64(232.0), np.float64(233.0), np.float64(234.0), np.float64(235.0), np.float64(237.0), np.float64(241.0), np.float64(243.0), np.float64(245.0), np.float64(247.0), np.float64(248.0), np.float64(251.0), np.float64(252.0), np.float64(253.0), np.float64(256.0), np.float64(257.0), np.float64(259.0), np.float64(260.0), np.float64(262.0), np.float64(263.0), np.float64(264.0), np.float64(265.0), np.float64(266.0), np.float64(267.0), np.float64(268.0), np.float64(272.0), np.float64(273.0), np.float64(274.0), np.float64(276.0), np.float64(278.0), np.float64(285.0), np.float64(287.0), np.float64(289.0), np.float64(292.0), np.float64(295.0), np.float64(297.0), np.float64(298.0), np.float64(299.0), np.float64(300.0), np.float64(301.0), np.float64(303.0), np.float64(304.0), np.float64(308.0), np.float64(309.0), np.float64(310.0), np.float64(315.0), np.float64(316.0), np.float64(318.0), np.float64(321.0), np.float64(325.0), np.float64(326.0), np.float64(327.0), np.float64(328.0), np.float64(333.0), np.float64(336.0), np.float64(337.0), np.float64(342.0), np.float64(343.0), np.float64(344.0), np.float64(349.0), np.float64(350.0), np.float64(354.0), np.float64(357.0), np.float64(360.0), np.float64(361.0), np.float64(362.0), np.float64(363.0), np.float64(364.0), np.float64(366.0), np.float64(371.0), np.float64(373.0), np.float64(376.0), np.float64(378.0), np.float64(380.0), np.float64(384.0), np.float64(385.0), np.float64(391.0), np.float64(393.0), np.float64(395.0), np.float64(397.0), np.float64(398.0), np.float64(399.0), np.float64(400.0), np.float64(408.0), np.float64(409.0), np.float64(412.0), np.float64(418.0), np.float64(419.0), np.float64(421.0), np.float64(422.0), np.float64(424.0), np.float64(426.0), np.float64(427.0), np.float64(439.0), np.float64(440.0), np.float64(443.0), np.float64(445.0), np.float64(446.0), np.float64(448.0), np.float64(449.0), np.float64(450.0), np.float64(455.0), np.float64(457.0), np.float64(458.0), np.float64(460.0), np.float64(462.0), np.float64(463.0), np.float64(464.0), np.float64(466.0), np.float64(468.0), np.float64(469.0), np.float64(470.0), np.float64(471.0), np.float64(473.0), np.float64(474.0), np.float64(477.0), np.float64(481.0), np.float64(484.0), np.float64(485.0), np.float64(486.0), np.float64(487.0), np.float64(488.0), np.float64(492.0), np.float64(493.0), np.float64(496.0), np.float64(501.0), np.float64(513.0), np.float64(514.0), np.float64(515.0), np.float64(516.0), np.float64(519.0), np.float64(521.0), np.float64(522.0), np.float64(524.0), np.float64(525.0), np.float64(528.0), np.float64(529.0), np.float64(530.0), np.float64(533.0), np.float64(536.0), np.float64(538.0), np.float64(540.0), np.float64(541.0), np.float64(542.0), np.float64(546.0), np.float64(547.0), np.float64(553.0), np.float64(556.0), np.float64(559.0), np.float64(560.0), np.float64(562.0), np.float64(563.0), np.float64(566.0), np.float64(568.0), np.float64(571.0), np.float64(574.0), np.float64(575.0), np.float64(576.0), np.float64(581.0), np.float64(583.0), np.float64(584.0), np.float64(585.0), np.float64(586.0), np.float64(589.0), np.float64(594.0), np.float64(596.0), np.float64(597.0), np.float64(599.0), np.float64(601.0), np.float64(602.0), np.float64(603.0), np.float64(605.0), np.float64(608.0), np.float64(609.0), np.float64(611.0), np.float64(612.0), np.float64(615.0), np.float64(620.0), np.float64(621.0), np.float64(623.0), np.float64(626.0), np.float64(627.0), np.float64(628.0), np.float64(630.0), np.float64(632.0), np.float64(634.0), np.float64(635.0), np.float64(637.0), np.float64(640.0), np.float64(641.0), np.float64(642.0), np.float64(643.0), np.float64(644.0), np.float64(645.0), np.float64(649.0), np.float64(650.0), np.float64(651.0), np.float64(654.0), np.float64(655.0), np.float64(657.0), np.float64(658.0), np.float64(661.0), np.float64(662.0), np.float64(670.0), np.float64(675.0), np.float64(678.0), np.float64(679.0), np.float64(682.0), np.float64(685.0), np.float64(686.0), np.float64(692.0), np.float64(693.0), np.float64(697.0), np.float64(699.0), np.float64(709.0), np.float64(710.0), np.float64(711.0), np.float64(713.0), np.float64(715.0), np.float64(716.0), np.float64(718.0), np.float64(719.0), np.float64(720.0), np.float64(725.0), np.float64(726.0), np.float64(727.0), np.float64(728.0), np.float64(732.0), np.float64(733.0), np.float64(735.0), np.float64(736.0), np.float64(737.0), np.float64(739.0), np.float64(743.0), np.float64(744.0), np.float64(747.0), np.float64(748.0), np.float64(753.0), np.float64(754.0), np.float64(755.0), np.float64(757.0), np.float64(758.0), np.float64(761.0), np.float64(762.0), np.float64(764.0), np.float64(769.0), np.float64(770.0), np.float64(772.0), np.float64(776.0), np.float64(777.0), np.float64(782.0), np.float64(783.0), np.float64(784.0), np.float64(790.0), np.float64(792.0), np.float64(793.0), np.float64(794.0), np.float64(795.0), np.float64(796.0), np.float64(797.0), np.float64(798.0), np.float64(803.0), np.float64(806.0), np.float64(807.0), np.float64(808.0), np.float64(809.0), np.float64(811.0), np.float64(815.0), np.float64(816.0), np.float64(817.0), np.float64(821.0), np.float64(822.0), np.float64(824.0), np.float64(826.0), np.float64(829.0), np.float64(831.0), np.float64(837.0), np.float64(838.0), np.float64(840.0), np.float64(846.0), np.float64(848.0), np.float64(850.0), np.float64(853.0), np.float64(854.0), np.float64(856.0), np.float64(858.0), np.float64(861.0), np.float64(862.0), np.float64(865.0), np.float64(867.0), np.float64(869.0), np.float64(871.0), np.float64(876.0), np.float64(877.0), np.float64(881.0), np.float64(883.0), np.float64(884.0), np.float64(887.0), np.float64(889.0), np.float64(890.0), np.float64(891.0), np.float64(893.0), np.float64(895.0), np.float64(900.0), np.float64(902.0), np.float64(905.0), np.float64(908.0), np.float64(909.0), np.float64(910.0), np.float64(914.0), np.float64(915.0), np.float64(917.0), np.float64(919.0), np.float64(920.0), np.float64(921.0), np.float64(923.0), np.float64(924.0), np.float64(925.0), np.float64(927.0), np.float64(928.0), np.float64(929.0), np.float64(934.0), np.float64(939.0), np.float64(945.0), np.float64(946.0), np.float64(947.0), np.float64(949.0), np.float64(951.0), np.float64(955.0), np.float64(957.0), np.float64(959.0), np.float64(963.0), np.float64(966.0), np.float64(967.0), np.float64(969.0), np.float64(975.0), np.float64(976.0), np.float64(977.0), np.float64(979.0), np.float64(980.0), np.float64(982.0), np.float64(984.0), np.float64(987.0), np.float64(991.0), np.float64(992.0), np.float64(993.0), np.float64(995.0), np.float64(996.0), np.float64(999.0), np.float64(1000.0), np.float64(1001.0), np.float64(1004.0), np.float64(1005.0), np.float64(1007.0), np.float64(1008.0), np.float64(1009.0), np.float64(1011.0), np.float64(1012.0), np.float64(1013.0), np.float64(1014.0), np.float64(1015.0), np.float64(1017.0), np.float64(1018.0), np.float64(1019.0), np.float64(1023.0), np.float64(1024.0), np.float64(1025.0), np.float64(1028.0), np.float64(1029.0), np.float64(1032.0), np.float64(1033.0), np.float64(1037.0), np.float64(1038.0), np.float64(1039.0), np.float64(1041.0), np.float64(1042.0), np.float64(1044.0), np.float64(1046.0), np.float64(1049.0), np.float64(1050.0), np.float64(1053.0), np.float64(1054.0), np.float64(1057.0), np.float64(1058.0), np.float64(1060.0), np.float64(1063.0), np.float64(1066.0), np.float64(1067.0), np.float64(1068.0), np.float64(1072.0), np.float64(1073.0), np.float64(1078.0), np.float64(1084.0), np.float64(1085.0), np.float64(1086.0), np.float64(1089.0), np.float64(1090.0), np.float64(1097.0), np.float64(1099.0), np.float64(1103.0), np.float64(1104.0), np.float64(1112.0), np.float64(1113.0), np.float64(1114.0), np.float64(1117.0), np.float64(1119.0), np.float64(1122.0), np.float64(1123.0), np.float64(1126.0), np.float64(1127.0), np.float64(1128.0), np.float64(1129.0), np.float64(1132.0), np.float64(1133.0), np.float64(1136.0), np.float64(1137.0), np.float64(1138.0), np.float64(1139.0), np.float64(1145.0), np.float64(1146.0), np.float64(1147.0), np.float64(1150.0), np.float64(1151.0), np.float64(1153.0), np.float64(1154.0), np.float64(1155.0), np.float64(1156.0), np.float64(1157.0), np.float64(1158.0), np.float64(1159.0), np.float64(1163.0), np.float64(1165.0), np.float64(1166.0), np.float64(1167.0), np.float64(1168.0), np.float64(1169.0), np.float64(1172.0), np.float64(1173.0), np.float64(1175.0), np.float64(1178.0), np.float64(1179.0), np.float64(1180.0), np.float64(1181.0), np.float64(1182.0), np.float64(1183.0), np.float64(1187.0), np.float64(1188.0), np.float64(1189.0), np.float64(1191.0), np.float64(1192.0), np.float64(1194.0), np.float64(1196.0), np.float64(1197.0), np.float64(1198.0), np.float64(1201.0), np.float64(1202.0), np.float64(1203.0), np.float64(1204.0), np.float64(1205.0), np.float64(1206.0), np.float64(1207.0), np.float64(1213.0), np.float64(1216.0), np.float64(1217.0), np.float64(1220.0), np.float64(1221.0), np.float64(1223.0), np.float64(1224.0), np.float64(1226.0), np.float64(1227.0), np.float64(1230.0), np.float64(1232.0), np.float64(1233.0), np.float64(1234.0), np.float64(1236.0), np.float64(1238.0), np.float64(1240.0), np.float64(1241.0), np.float64(1243.0), np.float64(1244.0), np.float64(1245.0), np.float64(1246.0), np.float64(1247.0), np.float64(1251.0), np.float64(1252.0), np.float64(1253.0), np.float64(1255.0), np.float64(1258.0), np.float64(1261.0), np.float64(1262.0), np.float64(1263.0), np.float64(1265.0), np.float64(1266.0), np.float64(1269.0), np.float64(1271.0), np.float64(1274.0), np.float64(1275.0), np.float64(1278.0), np.float64(1279.0), np.float64(1282.0), np.float64(1283.0), np.float64(1286.0), np.float64(1287.0), np.float64(1288.0), np.float64(1291.0), np.float64(1294.0), np.float64(1297.0), np.float64(1299.0), np.float64(1302.0), np.float64(1303.0), np.float64(1307.0), np.float64(1308.0), np.float64(1309.0), np.float64(1310.0), np.float64(1311.0), np.float64(1312.0), np.float64(1313.0), np.float64(1314.0), np.float64(1315.0), np.float64(1316.0), np.float64(1318.0), np.float64(1319.0), np.float64(1324.0), np.float64(1327.0), np.float64(1329.0), np.float64(1331.0), np.float64(1332.0), np.float64(1333.0), np.float64(1334.0), np.float64(1335.0), np.float64(1337.0), np.float64(1338.0), np.float64(1339.0), np.float64(1340.0), np.float64(1343.0), np.float64(1344.0), np.float64(1345.0), np.float64(1346.0), np.float64(1347.0), np.float64(1348.0), np.float64(1351.0), np.float64(1352.0), np.float64(1355.0), np.float64(1361.0), np.float64(1362.0), np.float64(1366.0), np.float64(1368.0), np.float64(1369.0), np.float64(1370.0), np.float64(1371.0), np.float64(1372.0), np.float64(1375.0), np.float64(1377.0), np.float64(1379.0), np.float64(1380.0), np.float64(1381.0), np.float64(1383.0), np.float64(1385.0), np.float64(1386.0), np.float64(1387.0), np.float64(1388.0), np.float64(1389.0), np.float64(1390.0), np.float64(1391.0), np.float64(1393.0), np.float64(1395.0), np.float64(1396.0), np.float64(1399.0), np.float64(1402.0), np.float64(1404.0), np.float64(1408.0), np.float64(1410.0), np.float64(1411.0), np.float64(1412.0), np.float64(1415.0), np.float64(1417.0), np.float64(1418.0), np.float64(1419.0), np.float64(1420.0), np.float64(1423.0), np.float64(1424.0), np.float64(1425.0), np.float64(1427.0), np.float64(1428.0), np.float64(1429.0), np.float64(1430.0), np.float64(1432.0), np.float64(1433.0), np.float64(1436.0), np.float64(1437.0), np.float64(1439.0), np.float64(1440.0), np.float64(1442.0), np.float64(1447.0), np.float64(1450.0), np.float64(1451.0), np.float64(1453.0), np.float64(1456.0), np.float64(1459.0), np.float64(1460.0), np.float64(1464.0), np.float64(1465.0), np.float64(1468.0), np.float64(1469.0), np.float64(1472.0), np.float64(1475.0), np.float64(1479.0), np.float64(1480.0), np.float64(1481.0), np.float64(1483.0), np.float64(1485.0), np.float64(1487.0), np.float64(1490.0), np.float64(1493.0), np.float64(1494.0), np.float64(1496.0), np.float64(1497.0), np.float64(1498.0), np.float64(1500.0), np.float64(1502.0), np.float64(1506.0), np.float64(1511.0), np.float64(1512.0), np.float64(1513.0), np.float64(1515.0), np.float64(1517.0), np.float64(1521.0), np.float64(1523.0), np.float64(1525.0), np.float64(1527.0), np.float64(1529.0), np.float64(1530.0), np.float64(1531.0), np.float64(1534.0), np.float64(1535.0), np.float64(1540.0), np.float64(1541.0), np.float64(1543.0), np.float64(1545.0), np.float64(1547.0), np.float64(1548.0), np.float64(1549.0), np.float64(1554.0), np.float64(1555.0), np.float64(1560.0), np.float64(1561.0), np.float64(1562.0), np.float64(1565.0), np.float64(1566.0), np.float64(1568.0), np.float64(1572.0), np.float64(1573.0), np.float64(1575.0), np.float64(1577.0), np.float64(1579.0), np.float64(1580.0), np.float64(1581.0), np.float64(1582.0), np.float64(1584.0), np.float64(1588.0), np.float64(1594.0), np.float64(1598.0), np.float64(1599.0), np.float64(1601.0), np.float64(1603.0), np.float64(1604.0), np.float64(1605.0), np.float64(1607.0), np.float64(1608.0), np.float64(1609.0), np.float64(1615.0), np.float64(1616.0), np.float64(1618.0), np.float64(1619.0), np.float64(1622.0), np.float64(1626.0), np.float64(1632.0), np.float64(1633.0), np.float64(1634.0), np.float64(1638.0), np.float64(1639.0), np.float64(1640.0), np.float64(1641.0), np.float64(1647.0), np.float64(1649.0), np.float64(1650.0), np.float64(1654.0), np.float64(1656.0), np.float64(1657.0), np.float64(1659.0), np.float64(1661.0), np.float64(1662.0), np.float64(1664.0), np.float64(1668.0), np.float64(1672.0), np.float64(1673.0), np.float64(1675.0), np.float64(1677.0), np.float64(1680.0), np.float64(1682.0), np.float64(1683.0), np.float64(1685.0), np.float64(1688.0), np.float64(1689.0), np.float64(1690.0), np.float64(1693.0), np.float64(1695.0), np.float64(1697.0), np.float64(1702.0), np.float64(1707.0), np.float64(1709.0), np.float64(1710.0), np.float64(1713.0), np.float64(1721.0), np.float64(1725.0), np.float64(1726.0), np.float64(1727.0), np.float64(1729.0), np.float64(1732.0), np.float64(1734.0), np.float64(1736.0), np.float64(1740.0), np.float64(1741.0), np.float64(1743.0), np.float64(1744.0), np.float64(1748.0), np.float64(1750.0), np.float64(1751.0), np.float64(1753.0), np.float64(1754.0), np.float64(1758.0), np.float64(1760.0), np.float64(1761.0), np.float64(1762.0), np.float64(1766.0), np.float64(1768.0), np.float64(1771.0), np.float64(1772.0), np.float64(1775.0), np.float64(1776.0), np.float64(1779.0), np.float64(1782.0), np.float64(1786.0), np.float64(1787.0), np.float64(1788.0), np.float64(1791.0), np.float64(1793.0), np.float64(1795.0), np.float64(1796.0), np.float64(1801.0), np.float64(1803.0), np.float64(1804.0), np.float64(1805.0), np.float64(1807.0), np.float64(1808.0), np.float64(1809.0), np.float64(1815.0), np.float64(1816.0), np.float64(1817.0), np.float64(1820.0), np.float64(1825.0), np.float64(1826.0), np.float64(1827.0), np.float64(1829.0), np.float64(1830.0), np.float64(1833.0), np.float64(1834.0), np.float64(1836.0), np.float64(1839.0), np.float64(1841.0), np.float64(1842.0), np.float64(1843.0), np.float64(1845.0), np.float64(1854.0), np.float64(1855.0), np.float64(1862.0), np.float64(1864.0), np.float64(1866.0), np.float64(1867.0), np.float64(1868.0), np.float64(1870.0), np.float64(1871.0), np.float64(1872.0), np.float64(1873.0), np.float64(1876.0), np.float64(1879.0), np.float64(1880.0), np.float64(1881.0), np.float64(1888.0), np.float64(1889.0), np.float64(1890.0), np.float64(1893.0), np.float64(1895.0), np.float64(1899.0), np.float64(1902.0), np.float64(1903.0), np.float64(1905.0), np.float64(1906.0), np.float64(1907.0), np.float64(1908.0), np.float64(1909.0), np.float64(1914.0), np.float64(1918.0), np.float64(1920.0), np.float64(1921.0), np.float64(1922.0), np.float64(1926.0), np.float64(1931.0), np.float64(1936.0), np.float64(1938.0), np.float64(1940.0), np.float64(1941.0), np.float64(1942.0), np.float64(1950.0), np.float64(1951.0), np.float64(1952.0), np.float64(1953.0), np.float64(1954.0), np.float64(1955.0), np.float64(1958.0), np.float64(1960.0), np.float64(1963.0), np.float64(1965.0), np.float64(1967.0), np.float64(1970.0), np.float64(1975.0), np.float64(1985.0), np.float64(1986.0), np.float64(1988.0), np.float64(1989.0), np.float64(1991.0), np.float64(1992.0), np.float64(1993.0), np.float64(1998.0), np.float64(1999.0), np.float64(2001.0), np.float64(2003.0), np.float64(2006.0), np.float64(2008.0), np.float64(2012.0), np.float64(2015.0), np.float64(2017.0), np.float64(2018.0), np.float64(2019.0), np.float64(2021.0), np.float64(2022.0), np.float64(2025.0), np.float64(2027.0), np.float64(2031.0), np.float64(2036.0), np.float64(2039.0), np.float64(2041.0), np.float64(2042.0), np.float64(2043.0), np.float64(2047.0), np.float64(2049.0), np.float64(2055.0), np.float64(2056.0), np.float64(2058.0), np.float64(2059.0), np.float64(2060.0), np.float64(2061.0), np.float64(2063.0), np.float64(2065.0), np.float64(2069.0), np.float64(2072.0), np.float64(2074.0), np.float64(2078.0), np.float64(2079.0), np.float64(2081.0), np.float64(2082.0), np.float64(2083.0), np.float64(2085.0), np.float64(2087.0), np.float64(2089.0), np.float64(2091.0), np.float64(2098.0), np.float64(2104.0), np.float64(2106.0), np.float64(2107.0), np.float64(2112.0), np.float64(2114.0), np.float64(2116.0), np.float64(2118.0), np.float64(2120.0), np.float64(2124.0), np.float64(2127.0), np.float64(2128.0), np.float64(2131.0), np.float64(2134.0), np.float64(2135.0), np.float64(2136.0), np.float64(2138.0), np.float64(2141.0), np.float64(2144.0), np.float64(2147.0), np.float64(2150.0), np.float64(2151.0), np.float64(2152.0), np.float64(2153.0), np.float64(2154.0), np.float64(2155.0), np.float64(2157.0), np.float64(2158.0), np.float64(2161.0), np.float64(2162.0), np.float64(2164.0), np.float64(2165.0), np.float64(2167.0), np.float64(2169.0), np.float64(2170.0), np.float64(2171.0), np.float64(2174.0), np.float64(2178.0), np.float64(2179.0), np.float64(2181.0), np.float64(2182.0), np.float64(2183.0), np.float64(2184.0), np.float64(2185.0), np.float64(2186.0), np.float64(2187.0), np.float64(2189.0), np.float64(2190.0), np.float64(2191.0), np.float64(2192.0), np.float64(2194.0), np.float64(2195.0), np.float64(2196.0), np.float64(2199.0), np.float64(2200.0), np.float64(2201.0), np.float64(2202.0), np.float64(2203.0), np.float64(2207.0), np.float64(2208.0), np.float64(2209.0), np.float64(2211.0), np.float64(2212.0), np.float64(2213.0), np.float64(2219.0), np.float64(2221.0), np.float64(2225.0), np.float64(2227.0), np.float64(2228.0), np.float64(2230.0), np.float64(2231.0), np.float64(2235.0), np.float64(2237.0), np.float64(2238.0), np.float64(2239.0), np.float64(2240.0), np.float64(2241.0), np.float64(2243.0), np.float64(2244.0), np.float64(2245.0), np.float64(2246.0), np.float64(2250.0), np.float64(2253.0), np.float64(2254.0), np.float64(2256.0), np.float64(2260.0), np.float64(2261.0), np.float64(2262.0), np.float64(2264.0), np.float64(2265.0), np.float64(2266.0), np.float64(2270.0), np.float64(2271.0), np.float64(2274.0), np.float64(2275.0), np.float64(2276.0), np.float64(2279.0), np.float64(2284.0), np.float64(2285.0), np.float64(2286.0), np.float64(2290.0), np.float64(2292.0), np.float64(2293.0), np.float64(2294.0), np.float64(2297.0), np.float64(2301.0), np.float64(2302.0), np.float64(2304.0), np.float64(2307.0), np.float64(2308.0), np.float64(2310.0), np.float64(2313.0), np.float64(2315.0), np.float64(2317.0), np.float64(2321.0), np.float64(2322.0), np.float64(2323.0), np.float64(2324.0), np.float64(2326.0), np.float64(2328.0), np.float64(2331.0), np.float64(2332.0), np.float64(2333.0), np.float64(2334.0), np.float64(2338.0), np.float64(2340.0), np.float64(2341.0), np.float64(2342.0), np.float64(2344.0), np.float64(2346.0), np.float64(2348.0), np.float64(2349.0), np.float64(2351.0), np.float64(2352.0), np.float64(2356.0), np.float64(2357.0), np.float64(2358.0), np.float64(2362.0), np.float64(2363.0), np.float64(2366.0), np.float64(2367.0), np.float64(2368.0), np.float64(2369.0), np.float64(2370.0), np.float64(2372.0), np.float64(2373.0), np.float64(2374.0), np.float64(2376.0), np.float64(2377.0), np.float64(2381.0), np.float64(2386.0), np.float64(2387.0), np.float64(2389.0), np.float64(2390.0), np.float64(2392.0), np.float64(2395.0), np.float64(2397.0), np.float64(2399.0), np.float64(2402.0), np.float64(2405.0), np.float64(2406.0), np.float64(2407.0), np.float64(2411.0), np.float64(2418.0), np.float64(2420.0), np.float64(2422.0), np.float64(2423.0), np.float64(2426.0), np.float64(2429.0), np.float64(2431.0), np.float64(2433.0), np.float64(2434.0), np.float64(2435.0), np.float64(2436.0), np.float64(2439.0), np.float64(2441.0), np.float64(2444.0), np.float64(2445.0), np.float64(2446.0), np.float64(2448.0), np.float64(2449.0), np.float64(2452.0), np.float64(2453.0), np.float64(2455.0), np.float64(2457.0), np.float64(2458.0), np.float64(2460.0), np.float64(2461.0), np.float64(2464.0), np.float64(2469.0), np.float64(2473.0), np.float64(2475.0), np.float64(2476.0), np.float64(2480.0), np.float64(2483.0), np.float64(2484.0), np.float64(2492.0), np.float64(2494.0), np.float64(2495.0), np.float64(2498.0), np.float64(2502.0), np.float64(2505.0), np.float64(2506.0), np.float64(2511.0), np.float64(2514.0), np.float64(2515.0), np.float64(2518.0), np.float64(2521.0), np.float64(2522.0), np.float64(2523.0), np.float64(2524.0), np.float64(2529.0), np.float64(2531.0), np.float64(2536.0), np.float64(2537.0), np.float64(2539.0), np.float64(2540.0), np.float64(2541.0), np.float64(2542.0), np.float64(2544.0), np.float64(2547.0), np.float64(2548.0), np.float64(2550.0), np.float64(2551.0), np.float64(2553.0), np.float64(2554.0), np.float64(2563.0), np.float64(2564.0), np.float64(2565.0), np.float64(2568.0), np.float64(2572.0), np.float64(2573.0), np.float64(2580.0), np.float64(2583.0), np.float64(2586.0), np.float64(2587.0), np.float64(2588.0), np.float64(2589.0), np.float64(2592.0), np.float64(2594.0), np.float64(2597.0)]\n",
      "Mediana dos valores até 50: 5.0\n",
      "Máximo dos valores até 50: 49.0\n"
     ]
    }
   ],
   "source": [
    "# 1. Contar quantos valores estão acima de 50 (possíveis erros)\n",
    "valores_acima_50 = df_processado[df_processado['qtd_consultas_credito'] > 50]\n",
    "\n",
    "print(f\"Total de registros acima de 50: {valores_acima_50.shape[0]}\")\n",
    "print(\"Valores únicos acima de 50:\")\n",
    "print(sorted(valores_acima_50['qtd_consultas_credito'].unique()))\n",
    "\n",
    "# 2. Calcular estatísticas básicas para os valores 'normais' (até 50)\n",
    "mediana_normal = df_processado.loc[df_processado['qtd_consultas_credito'] <= 50, 'qtd_consultas_credito'].median()\n",
    "max_normal = df_processado.loc[df_processado['qtd_consultas_credito'] <= 50, 'qtd_consultas_credito'].max()\n",
    "\n",
    "print(f\"Mediana dos valores até 50: {mediana_normal}\")\n",
    "print(f\"Máximo dos valores até 50: {max_normal}\")\n"
   ]
  },
  {
   "cell_type": "markdown",
   "id": "b5918021",
   "metadata": {},
   "source": [
    "Tratando outliers e imputando qtd_consultas_credito\n",
    "O que será feito\n",
    "Transformar todos os valores acima de 50 em NaN.\n",
    "\n",
    "Calcular a mediana considerando apenas os valores até 50.\n",
    "\n",
    "Imputar todos os NaN com essa mediana.\n",
    "\n",
    "Verificar o resultado após o tratamento."
   ]
  },
  {
   "cell_type": "code",
   "execution_count": 93,
   "id": "ad63820d",
   "metadata": {},
   "outputs": [
    {
     "name": "stdout",
     "output_type": "stream",
     "text": [
      "Mediana calculada (até 50): 5.0\n",
      "Valores nulos após imputação: 0\n",
      "Valores únicos após tratamento: [np.float64(0.0), np.float64(1.0), np.float64(2.0), np.float64(3.0), np.float64(4.0), np.float64(5.0), np.float64(6.0), np.float64(7.0), np.float64(8.0), np.float64(9.0), np.float64(10.0), np.float64(11.0), np.float64(12.0), np.float64(13.0), np.float64(14.0), np.float64(15.0), np.float64(16.0), np.float64(17.0), np.float64(26.0), np.float64(29.0)]\n",
      "Maior valor após tratamento: 49.0\n"
     ]
    }
   ],
   "source": [
    "# Substituir valores absurdos (acima de 50) por NaN\n",
    "df_processado.loc[df_processado['qtd_consultas_credito'] > 50, 'qtd_consultas_credito'] = np.nan\n",
    "\n",
    "# Calcular a mediana apenas com os valores ≤ 50\n",
    "mediana_qtd_consultas = df_processado.loc[df_processado['qtd_consultas_credito'] <= 50, 'qtd_consultas_credito'].median()\n",
    "print(\"Mediana calculada (até 50):\", mediana_qtd_consultas)\n",
    "\n",
    "# Imputar todos os NaN pela mediana\n",
    "df_processado['qtd_consultas_credito'] = df_processado['qtd_consultas_credito'].fillna(mediana_qtd_consultas)\n",
    "\n",
    "# Conferir o resultado final\n",
    "print(\"Valores nulos após imputação:\", df_processado['qtd_consultas_credito'].isna().sum())\n",
    "print(\"Valores únicos após tratamento:\", sorted(df_processado['qtd_consultas_credito'].unique())[:20])\n",
    "print(\"Maior valor após tratamento:\", df_processado['qtd_consultas_credito'].max())"
   ]
  },
  {
   "cell_type": "markdown",
   "id": "a45e541f",
   "metadata": {},
   "source": [
    "## p"
   ]
  }
 ],
 "metadata": {
  "kernelspec": {
   "display_name": ".venv (3.11.3)",
   "language": "python",
   "name": "python3"
  },
  "language_info": {
   "codemirror_mode": {
    "name": "ipython",
    "version": 3
   },
   "file_extension": ".py",
   "mimetype": "text/x-python",
   "name": "python",
   "nbconvert_exporter": "python",
   "pygments_lexer": "ipython3",
   "version": "3.11.3"
  }
 },
 "nbformat": 4,
 "nbformat_minor": 5
}
