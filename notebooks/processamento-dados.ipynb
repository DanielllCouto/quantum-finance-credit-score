{
 "cells": [
  {
   "cell_type": "markdown",
   "id": "5f9577b5",
   "metadata": {},
   "source": [
    "# Exploração Inicial e Processamento dos dados \n",
    "\n"
   ]
  },
  {
   "cell_type": "markdown",
   "id": "f624e4cd",
   "metadata": {},
   "source": [
    "# Importação das bibliotecas\n"
   ]
  },
  {
   "cell_type": "code",
   "execution_count": 100,
   "id": "e7cbffdd",
   "metadata": {},
   "outputs": [],
   "source": [
    "import numpy as np              # Numerical computing\n",
    "import pandas as pd             # DataFrames and data analysis\n",
    "from sklearn.cluster import KMeans\n",
    "from sklearn.preprocessing import StandardScaler\n",
    "import re # Regular expressions for string manipulation\n",
    "# Data visualization\n",
    "import matplotlib.pyplot as plt # Basic plotting\n",
    "import seaborn as sns           # Statistical plots"
   ]
  },
  {
   "cell_type": "markdown",
   "id": "874490ca",
   "metadata": {},
   "source": [
    "# Carregamento dos dados\n"
   ]
  },
  {
   "cell_type": "code",
   "execution_count": 101,
   "id": "38c9905d",
   "metadata": {},
   "outputs": [
    {
     "name": "stderr",
     "output_type": "stream",
     "text": [
      "C:\\Users\\User\\AppData\\Local\\Temp\\ipykernel_18076\\359614134.py:1: DtypeWarning: Columns (26) have mixed types. Specify dtype option on import or set low_memory=False.\n",
      "  df = pd.read_csv(r'..\\data\\raw\\credit_score_data.csv')\n"
     ]
    },
    {
     "data": {
      "text/html": [
       "<div>\n",
       "<style scoped>\n",
       "    .dataframe tbody tr th:only-of-type {\n",
       "        vertical-align: middle;\n",
       "    }\n",
       "\n",
       "    .dataframe tbody tr th {\n",
       "        vertical-align: top;\n",
       "    }\n",
       "\n",
       "    .dataframe thead th {\n",
       "        text-align: right;\n",
       "    }\n",
       "</style>\n",
       "<table border=\"1\" class=\"dataframe\">\n",
       "  <thead>\n",
       "    <tr style=\"text-align: right;\">\n",
       "      <th></th>\n",
       "      <th>ID</th>\n",
       "      <th>Customer_ID</th>\n",
       "      <th>Month</th>\n",
       "      <th>Name</th>\n",
       "      <th>Age</th>\n",
       "      <th>SSN</th>\n",
       "      <th>Occupation</th>\n",
       "      <th>Annual_Income</th>\n",
       "      <th>Monthly_Inhand_Salary</th>\n",
       "      <th>Num_Bank_Accounts</th>\n",
       "      <th>...</th>\n",
       "      <th>Credit_Mix</th>\n",
       "      <th>Outstanding_Debt</th>\n",
       "      <th>Credit_Utilization_Ratio</th>\n",
       "      <th>Credit_History_Age</th>\n",
       "      <th>Payment_of_Min_Amount</th>\n",
       "      <th>Total_EMI_per_month</th>\n",
       "      <th>Amount_invested_monthly</th>\n",
       "      <th>Payment_Behaviour</th>\n",
       "      <th>Monthly_Balance</th>\n",
       "      <th>Credit_Score</th>\n",
       "    </tr>\n",
       "  </thead>\n",
       "  <tbody>\n",
       "    <tr>\n",
       "      <th>0</th>\n",
       "      <td>0x1602</td>\n",
       "      <td>CUS_0xd40</td>\n",
       "      <td>January</td>\n",
       "      <td>Aaron Maashoh</td>\n",
       "      <td>23</td>\n",
       "      <td>821-00-0265</td>\n",
       "      <td>Scientist</td>\n",
       "      <td>19114.12</td>\n",
       "      <td>1,824.84</td>\n",
       "      <td>3</td>\n",
       "      <td>...</td>\n",
       "      <td>_</td>\n",
       "      <td>809.98</td>\n",
       "      <td>26.82</td>\n",
       "      <td>22 Years and 1 Months</td>\n",
       "      <td>No</td>\n",
       "      <td>49.57</td>\n",
       "      <td>80.41529543900253</td>\n",
       "      <td>High_spent_Small_value_payments</td>\n",
       "      <td>312.49408867943663</td>\n",
       "      <td>Good</td>\n",
       "    </tr>\n",
       "    <tr>\n",
       "      <th>1</th>\n",
       "      <td>0x1603</td>\n",
       "      <td>CUS_0xd40</td>\n",
       "      <td>February</td>\n",
       "      <td>Aaron Maashoh</td>\n",
       "      <td>23</td>\n",
       "      <td>821-00-0265</td>\n",
       "      <td>Scientist</td>\n",
       "      <td>19114.12</td>\n",
       "      <td>NaN</td>\n",
       "      <td>3</td>\n",
       "      <td>...</td>\n",
       "      <td>Good</td>\n",
       "      <td>809.98</td>\n",
       "      <td>31.94</td>\n",
       "      <td>NaN</td>\n",
       "      <td>No</td>\n",
       "      <td>49.57</td>\n",
       "      <td>118.28022162236736</td>\n",
       "      <td>Low_spent_Large_value_payments</td>\n",
       "      <td>284.62916249607184</td>\n",
       "      <td>Good</td>\n",
       "    </tr>\n",
       "    <tr>\n",
       "      <th>2</th>\n",
       "      <td>0x1604</td>\n",
       "      <td>CUS_0xd40</td>\n",
       "      <td>March</td>\n",
       "      <td>Aaron Maashoh</td>\n",
       "      <td>-500</td>\n",
       "      <td>821-00-0265</td>\n",
       "      <td>Scientist</td>\n",
       "      <td>19114.12</td>\n",
       "      <td>NaN</td>\n",
       "      <td>3</td>\n",
       "      <td>...</td>\n",
       "      <td>Good</td>\n",
       "      <td>809.98</td>\n",
       "      <td>28.61</td>\n",
       "      <td>22 Years and 3 Months</td>\n",
       "      <td>No</td>\n",
       "      <td>49.57</td>\n",
       "      <td>81.699521264648</td>\n",
       "      <td>Low_spent_Medium_value_payments</td>\n",
       "      <td>331.2098628537912</td>\n",
       "      <td>Good</td>\n",
       "    </tr>\n",
       "    <tr>\n",
       "      <th>3</th>\n",
       "      <td>0x1605</td>\n",
       "      <td>CUS_0xd40</td>\n",
       "      <td>April</td>\n",
       "      <td>Aaron Maashoh</td>\n",
       "      <td>23</td>\n",
       "      <td>821-00-0265</td>\n",
       "      <td>Scientist</td>\n",
       "      <td>19114.12</td>\n",
       "      <td>NaN</td>\n",
       "      <td>3</td>\n",
       "      <td>...</td>\n",
       "      <td>Good</td>\n",
       "      <td>809.98</td>\n",
       "      <td>31.38</td>\n",
       "      <td>22 Years and 4 Months</td>\n",
       "      <td>No</td>\n",
       "      <td>49.57</td>\n",
       "      <td>199.4580743910713</td>\n",
       "      <td>Low_spent_Small_value_payments</td>\n",
       "      <td>223.45130972736786</td>\n",
       "      <td>Good</td>\n",
       "    </tr>\n",
       "    <tr>\n",
       "      <th>4</th>\n",
       "      <td>0x1606</td>\n",
       "      <td>CUS_0xd40</td>\n",
       "      <td>May</td>\n",
       "      <td>Aaron Maashoh</td>\n",
       "      <td>23</td>\n",
       "      <td>821-00-0265</td>\n",
       "      <td>Scientist</td>\n",
       "      <td>19114.12</td>\n",
       "      <td>1,824.84</td>\n",
       "      <td>3</td>\n",
       "      <td>...</td>\n",
       "      <td>Good</td>\n",
       "      <td>809.98</td>\n",
       "      <td>24.80</td>\n",
       "      <td>22 Years and 5 Months</td>\n",
       "      <td>No</td>\n",
       "      <td>49.57</td>\n",
       "      <td>41.420153086217326</td>\n",
       "      <td>High_spent_Medium_value_payments</td>\n",
       "      <td>341.48923103222177</td>\n",
       "      <td>Good</td>\n",
       "    </tr>\n",
       "  </tbody>\n",
       "</table>\n",
       "<p>5 rows × 28 columns</p>\n",
       "</div>"
      ],
      "text/plain": [
       "       ID Customer_ID     Month           Name   Age          SSN Occupation  \\\n",
       "0  0x1602   CUS_0xd40   January  Aaron Maashoh    23  821-00-0265  Scientist   \n",
       "1  0x1603   CUS_0xd40  February  Aaron Maashoh    23  821-00-0265  Scientist   \n",
       "2  0x1604   CUS_0xd40     March  Aaron Maashoh  -500  821-00-0265  Scientist   \n",
       "3  0x1605   CUS_0xd40     April  Aaron Maashoh    23  821-00-0265  Scientist   \n",
       "4  0x1606   CUS_0xd40       May  Aaron Maashoh    23  821-00-0265  Scientist   \n",
       "\n",
       "  Annual_Income  Monthly_Inhand_Salary  Num_Bank_Accounts  ...  Credit_Mix  \\\n",
       "0      19114.12               1,824.84                  3  ...           _   \n",
       "1      19114.12                    NaN                  3  ...        Good   \n",
       "2      19114.12                    NaN                  3  ...        Good   \n",
       "3      19114.12                    NaN                  3  ...        Good   \n",
       "4      19114.12               1,824.84                  3  ...        Good   \n",
       "\n",
       "   Outstanding_Debt Credit_Utilization_Ratio     Credit_History_Age  \\\n",
       "0            809.98                    26.82  22 Years and 1 Months   \n",
       "1            809.98                    31.94                    NaN   \n",
       "2            809.98                    28.61  22 Years and 3 Months   \n",
       "3            809.98                    31.38  22 Years and 4 Months   \n",
       "4            809.98                    24.80  22 Years and 5 Months   \n",
       "\n",
       "   Payment_of_Min_Amount Total_EMI_per_month Amount_invested_monthly  \\\n",
       "0                     No               49.57       80.41529543900253   \n",
       "1                     No               49.57      118.28022162236736   \n",
       "2                     No               49.57         81.699521264648   \n",
       "3                     No               49.57       199.4580743910713   \n",
       "4                     No               49.57      41.420153086217326   \n",
       "\n",
       "                  Payment_Behaviour     Monthly_Balance Credit_Score  \n",
       "0   High_spent_Small_value_payments  312.49408867943663         Good  \n",
       "1    Low_spent_Large_value_payments  284.62916249607184         Good  \n",
       "2   Low_spent_Medium_value_payments   331.2098628537912         Good  \n",
       "3    Low_spent_Small_value_payments  223.45130972736786         Good  \n",
       "4  High_spent_Medium_value_payments  341.48923103222177         Good  \n",
       "\n",
       "[5 rows x 28 columns]"
      ]
     },
     "execution_count": 101,
     "metadata": {},
     "output_type": "execute_result"
    }
   ],
   "source": [
    "df = pd.read_csv(r'..\\data\\raw\\credit_score_data.csv')\n",
    "df.head()"
   ]
  },
  {
   "cell_type": "markdown",
   "id": "7b944340",
   "metadata": {},
   "source": [
    "## Análise inicial do dados\n",
    "Tamanho do data set, informações, nulos e duplicados \n"
   ]
  },
  {
   "cell_type": "code",
   "execution_count": 102,
   "id": "1f35fbfc",
   "metadata": {},
   "outputs": [
    {
     "data": {
      "text/plain": [
       "(100000, 28)"
      ]
     },
     "execution_count": 102,
     "metadata": {},
     "output_type": "execute_result"
    }
   ],
   "source": [
    "df.shape\n"
   ]
  },
  {
   "cell_type": "code",
   "execution_count": 103,
   "id": "bfee59c2",
   "metadata": {},
   "outputs": [
    {
     "name": "stdout",
     "output_type": "stream",
     "text": [
      "<class 'pandas.core.frame.DataFrame'>\n",
      "RangeIndex: 100000 entries, 0 to 99999\n",
      "Data columns (total 28 columns):\n",
      " #   Column                    Non-Null Count   Dtype  \n",
      "---  ------                    --------------   -----  \n",
      " 0   ID                        100000 non-null  object \n",
      " 1   Customer_ID               100000 non-null  object \n",
      " 2   Month                     100000 non-null  object \n",
      " 3   Name                      90015 non-null   object \n",
      " 4   Age                       100000 non-null  object \n",
      " 5   SSN                       100000 non-null  object \n",
      " 6   Occupation                100000 non-null  object \n",
      " 7   Annual_Income             100000 non-null  object \n",
      " 8   Monthly_Inhand_Salary     84998 non-null   float64\n",
      " 9   Num_Bank_Accounts         100000 non-null  int64  \n",
      " 10  Num_Credit_Card           100000 non-null  int64  \n",
      " 11  Interest_Rate             100000 non-null  int64  \n",
      " 12  Num_of_Loan               100000 non-null  object \n",
      " 13  Type_of_Loan              88592 non-null   object \n",
      " 14  Delay_from_due_date       100000 non-null  int64  \n",
      " 15  Num_of_Delayed_Payment    92998 non-null   object \n",
      " 16  Changed_Credit_Limit      100000 non-null  object \n",
      " 17  Num_Credit_Inquiries      98035 non-null   float64\n",
      " 18  Credit_Mix                100000 non-null  object \n",
      " 19  Outstanding_Debt          100000 non-null  object \n",
      " 20  Credit_Utilization_Ratio  100000 non-null  float64\n",
      " 21  Credit_History_Age        90970 non-null   object \n",
      " 22  Payment_of_Min_Amount     100000 non-null  object \n",
      " 23  Total_EMI_per_month       100000 non-null  float64\n",
      " 24  Amount_invested_monthly   95521 non-null   object \n",
      " 25  Payment_Behaviour         100000 non-null  object \n",
      " 26  Monthly_Balance           98800 non-null   object \n",
      " 27  Credit_Score              100000 non-null  object \n",
      "dtypes: float64(4), int64(4), object(20)\n",
      "memory usage: 21.4+ MB\n"
     ]
    }
   ],
   "source": [
    "df.info()"
   ]
  },
  {
   "cell_type": "code",
   "execution_count": 104,
   "id": "4387f4e2",
   "metadata": {},
   "outputs": [
    {
     "data": {
      "text/plain": [
       "Index(['ID', 'Customer_ID', 'Month', 'Name', 'Age', 'SSN', 'Occupation',\n",
       "       'Annual_Income', 'Monthly_Inhand_Salary', 'Num_Bank_Accounts',\n",
       "       'Num_Credit_Card', 'Interest_Rate', 'Num_of_Loan', 'Type_of_Loan',\n",
       "       'Delay_from_due_date', 'Num_of_Delayed_Payment', 'Changed_Credit_Limit',\n",
       "       'Num_Credit_Inquiries', 'Credit_Mix', 'Outstanding_Debt',\n",
       "       'Credit_Utilization_Ratio', 'Credit_History_Age',\n",
       "       'Payment_of_Min_Amount', 'Total_EMI_per_month',\n",
       "       'Amount_invested_monthly', 'Payment_Behaviour', 'Monthly_Balance',\n",
       "       'Credit_Score'],\n",
       "      dtype='object')"
      ]
     },
     "execution_count": 104,
     "metadata": {},
     "output_type": "execute_result"
    }
   ],
   "source": [
    "df.columns"
   ]
  },
  {
   "cell_type": "code",
   "execution_count": 105,
   "id": "6ac8be7b",
   "metadata": {},
   "outputs": [
    {
     "data": {
      "text/html": [
       "<div>\n",
       "<style scoped>\n",
       "    .dataframe tbody tr th:only-of-type {\n",
       "        vertical-align: middle;\n",
       "    }\n",
       "\n",
       "    .dataframe tbody tr th {\n",
       "        vertical-align: top;\n",
       "    }\n",
       "\n",
       "    .dataframe thead th {\n",
       "        text-align: right;\n",
       "    }\n",
       "</style>\n",
       "<table border=\"1\" class=\"dataframe\">\n",
       "  <thead>\n",
       "    <tr style=\"text-align: right;\">\n",
       "      <th></th>\n",
       "      <th>Monthly_Inhand_Salary</th>\n",
       "      <th>Num_Bank_Accounts</th>\n",
       "      <th>Num_Credit_Card</th>\n",
       "      <th>Interest_Rate</th>\n",
       "      <th>Delay_from_due_date</th>\n",
       "      <th>Num_Credit_Inquiries</th>\n",
       "      <th>Credit_Utilization_Ratio</th>\n",
       "      <th>Total_EMI_per_month</th>\n",
       "    </tr>\n",
       "  </thead>\n",
       "  <tbody>\n",
       "    <tr>\n",
       "      <th>count</th>\n",
       "      <td>84,998.00</td>\n",
       "      <td>100,000.00</td>\n",
       "      <td>100,000.00</td>\n",
       "      <td>100,000.00</td>\n",
       "      <td>100,000.00</td>\n",
       "      <td>98,035.00</td>\n",
       "      <td>100,000.00</td>\n",
       "      <td>100,000.00</td>\n",
       "    </tr>\n",
       "    <tr>\n",
       "      <th>mean</th>\n",
       "      <td>4,194.17</td>\n",
       "      <td>17.09</td>\n",
       "      <td>22.47</td>\n",
       "      <td>72.47</td>\n",
       "      <td>21.07</td>\n",
       "      <td>27.75</td>\n",
       "      <td>32.29</td>\n",
       "      <td>1,403.12</td>\n",
       "    </tr>\n",
       "    <tr>\n",
       "      <th>std</th>\n",
       "      <td>3,183.69</td>\n",
       "      <td>117.40</td>\n",
       "      <td>129.06</td>\n",
       "      <td>466.42</td>\n",
       "      <td>14.86</td>\n",
       "      <td>193.18</td>\n",
       "      <td>5.12</td>\n",
       "      <td>8,306.04</td>\n",
       "    </tr>\n",
       "    <tr>\n",
       "      <th>min</th>\n",
       "      <td>303.65</td>\n",
       "      <td>-1.00</td>\n",
       "      <td>0.00</td>\n",
       "      <td>1.00</td>\n",
       "      <td>-5.00</td>\n",
       "      <td>0.00</td>\n",
       "      <td>20.00</td>\n",
       "      <td>0.00</td>\n",
       "    </tr>\n",
       "    <tr>\n",
       "      <th>25%</th>\n",
       "      <td>1,625.57</td>\n",
       "      <td>3.00</td>\n",
       "      <td>4.00</td>\n",
       "      <td>8.00</td>\n",
       "      <td>10.00</td>\n",
       "      <td>3.00</td>\n",
       "      <td>28.05</td>\n",
       "      <td>30.31</td>\n",
       "    </tr>\n",
       "    <tr>\n",
       "      <th>50%</th>\n",
       "      <td>3,093.75</td>\n",
       "      <td>6.00</td>\n",
       "      <td>5.00</td>\n",
       "      <td>13.00</td>\n",
       "      <td>18.00</td>\n",
       "      <td>6.00</td>\n",
       "      <td>32.31</td>\n",
       "      <td>69.25</td>\n",
       "    </tr>\n",
       "    <tr>\n",
       "      <th>75%</th>\n",
       "      <td>5,957.45</td>\n",
       "      <td>7.00</td>\n",
       "      <td>7.00</td>\n",
       "      <td>20.00</td>\n",
       "      <td>28.00</td>\n",
       "      <td>9.00</td>\n",
       "      <td>36.50</td>\n",
       "      <td>161.22</td>\n",
       "    </tr>\n",
       "    <tr>\n",
       "      <th>max</th>\n",
       "      <td>15,204.63</td>\n",
       "      <td>1,798.00</td>\n",
       "      <td>1,499.00</td>\n",
       "      <td>5,797.00</td>\n",
       "      <td>67.00</td>\n",
       "      <td>2,597.00</td>\n",
       "      <td>50.00</td>\n",
       "      <td>82,331.00</td>\n",
       "    </tr>\n",
       "  </tbody>\n",
       "</table>\n",
       "</div>"
      ],
      "text/plain": [
       "       Monthly_Inhand_Salary  Num_Bank_Accounts  Num_Credit_Card  \\\n",
       "count              84,998.00         100,000.00       100,000.00   \n",
       "mean                4,194.17              17.09            22.47   \n",
       "std                 3,183.69             117.40           129.06   \n",
       "min                   303.65              -1.00             0.00   \n",
       "25%                 1,625.57               3.00             4.00   \n",
       "50%                 3,093.75               6.00             5.00   \n",
       "75%                 5,957.45               7.00             7.00   \n",
       "max                15,204.63           1,798.00         1,499.00   \n",
       "\n",
       "       Interest_Rate  Delay_from_due_date  Num_Credit_Inquiries  \\\n",
       "count     100,000.00           100,000.00             98,035.00   \n",
       "mean           72.47                21.07                 27.75   \n",
       "std           466.42                14.86                193.18   \n",
       "min             1.00                -5.00                  0.00   \n",
       "25%             8.00                10.00                  3.00   \n",
       "50%            13.00                18.00                  6.00   \n",
       "75%            20.00                28.00                  9.00   \n",
       "max         5,797.00                67.00              2,597.00   \n",
       "\n",
       "       Credit_Utilization_Ratio  Total_EMI_per_month  \n",
       "count                100,000.00           100,000.00  \n",
       "mean                      32.29             1,403.12  \n",
       "std                        5.12             8,306.04  \n",
       "min                       20.00                 0.00  \n",
       "25%                       28.05                30.31  \n",
       "50%                       32.31                69.25  \n",
       "75%                       36.50               161.22  \n",
       "max                       50.00            82,331.00  "
      ]
     },
     "execution_count": 105,
     "metadata": {},
     "output_type": "execute_result"
    }
   ],
   "source": [
    "df.describe()"
   ]
  },
  {
   "cell_type": "code",
   "execution_count": 106,
   "id": "b44ef438",
   "metadata": {},
   "outputs": [
    {
     "data": {
      "text/plain": [
       "ID                              0\n",
       "Customer_ID                     0\n",
       "Month                           0\n",
       "Name                         9985\n",
       "Age                             0\n",
       "SSN                             0\n",
       "Occupation                      0\n",
       "Annual_Income                   0\n",
       "Monthly_Inhand_Salary       15002\n",
       "Num_Bank_Accounts               0\n",
       "Num_Credit_Card                 0\n",
       "Interest_Rate                   0\n",
       "Num_of_Loan                     0\n",
       "Type_of_Loan                11408\n",
       "Delay_from_due_date             0\n",
       "Num_of_Delayed_Payment       7002\n",
       "Changed_Credit_Limit            0\n",
       "Num_Credit_Inquiries         1965\n",
       "Credit_Mix                      0\n",
       "Outstanding_Debt                0\n",
       "Credit_Utilization_Ratio        0\n",
       "Credit_History_Age           9030\n",
       "Payment_of_Min_Amount           0\n",
       "Total_EMI_per_month             0\n",
       "Amount_invested_monthly      4479\n",
       "Payment_Behaviour               0\n",
       "Monthly_Balance              1200\n",
       "Credit_Score                    0\n",
       "dtype: int64"
      ]
     },
     "execution_count": 106,
     "metadata": {},
     "output_type": "execute_result"
    }
   ],
   "source": [
    "df.isnull().sum()  "
   ]
  },
  {
   "cell_type": "code",
   "execution_count": 107,
   "id": "c6a63f8c",
   "metadata": {},
   "outputs": [
    {
     "data": {
      "text/plain": [
       "np.int64(0)"
      ]
     },
     "execution_count": 107,
     "metadata": {},
     "output_type": "execute_result"
    }
   ],
   "source": [
    "df.duplicated().sum()  "
   ]
  },
  {
   "cell_type": "markdown",
   "id": "38a31847",
   "metadata": {},
   "source": [
    "# Pré Processamento \n"
   ]
  },
  {
   "cell_type": "markdown",
   "id": "e9b13af2",
   "metadata": {},
   "source": [
    "## Criação de cópia do DataFrame original"
   ]
  },
  {
   "cell_type": "code",
   "execution_count": 108,
   "id": "4399b9cd",
   "metadata": {},
   "outputs": [],
   "source": [
    "# Criando uma cópia do DataFrame original para preservar os dados brutos\n",
    "df_processado = df.copy()\n"
   ]
  },
  {
   "cell_type": "markdown",
   "id": "73f860da",
   "metadata": {},
   "source": [
    "## Renomeando as colunas para o português\n",
    "Este passo ajusta os nomes das colunas do DataFrame df_processado para facilitar a leitura e interpretação em português. A renomeação segue uma padronização em snake_case, mantendo a clareza dos significados de cada campo.\n",
    "\n",
    "\n"
   ]
  },
  {
   "cell_type": "code",
   "execution_count": 109,
   "id": "c94a69c4",
   "metadata": {},
   "outputs": [],
   "source": [
    "df_processado.rename(columns={\n",
    "    'ID': 'id',\n",
    "    'Customer_ID': 'id_cliente',\n",
    "    'Month': 'mes',\n",
    "    'Name': 'nome',\n",
    "    'Age': 'idade',\n",
    "    'SSN': 'ssn',\n",
    "    'Occupation': 'ocupacao',\n",
    "    'Annual_Income': 'renda_anual',\n",
    "    'Monthly_Inhand_Salary': 'salario_liquido_mensal',\n",
    "    'Num_Bank_Accounts': 'qtd_contas_bancarias',\n",
    "    'Num_Credit_Card': 'qtd_cartoes_credito',\n",
    "    'Interest_Rate': 'taxa_juros',\n",
    "    'Num_of_Loan': 'qtd_emprestimos',\n",
    "    'Type_of_Loan': 'tipos_emprestimos',\n",
    "    'Delay_from_due_date': 'dias_atraso_pagamento',\n",
    "    'Num_of_Delayed_Payment': 'qtd_pagamentos_atrasados',\n",
    "    'Changed_Credit_Limit': 'variacao_limite_credito',\n",
    "    'Num_Credit_Inquiries': 'qtd_consultas_credito',\n",
    "    'Credit_Mix': 'mix_credito',\n",
    "    'Outstanding_Debt': 'divida_pendente',\n",
    "    'Credit_Utilization_Ratio': 'percentual_utilizacao_credito',\n",
    "    'Credit_History_Age': 'tempo_historico_credito',\n",
    "    'Payment_of_Min_Amount': 'pagamento_valor_minimo',\n",
    "    'Total_EMI_per_month': 'total_emprestimos_mensal',\n",
    "    'Amount_invested_monthly': 'valor_investido_mensal',\n",
    "    'Payment_Behaviour': 'comportamento_pagamento',\n",
    "    'Monthly_Balance': 'saldo_mensal',\n",
    "    'Credit_Score': 'score_credito'\n",
    "}, inplace=True)\n"
   ]
  },
  {
   "cell_type": "code",
   "execution_count": 110,
   "id": "e24ccc69",
   "metadata": {},
   "outputs": [
    {
     "data": {
      "text/plain": [
       "Index(['id', 'id_cliente', 'mes', 'nome', 'idade', 'ssn', 'ocupacao',\n",
       "       'renda_anual', 'salario_liquido_mensal', 'qtd_contas_bancarias',\n",
       "       'qtd_cartoes_credito', 'taxa_juros', 'qtd_emprestimos',\n",
       "       'tipos_emprestimos', 'dias_atraso_pagamento',\n",
       "       'qtd_pagamentos_atrasados', 'variacao_limite_credito',\n",
       "       'qtd_consultas_credito', 'mix_credito', 'divida_pendente',\n",
       "       'percentual_utilizacao_credito', 'tempo_historico_credito',\n",
       "       'pagamento_valor_minimo', 'total_emprestimos_mensal',\n",
       "       'valor_investido_mensal', 'comportamento_pagamento', 'saldo_mensal',\n",
       "       'score_credito'],\n",
       "      dtype='object')"
      ]
     },
     "execution_count": 110,
     "metadata": {},
     "output_type": "execute_result"
    }
   ],
   "source": [
    "df_processado.columns"
   ]
  },
  {
   "cell_type": "markdown",
   "id": "fb4e1322",
   "metadata": {},
   "source": [
    "Dicionário de dados – Colunas do DataFrame df_processado\n",
    "| Coluna                          | Descrição                                                                                 |\n",
    "| ------------------------------- | ----------------------------------------------------------------------------------------- |\n",
    "| `id`                            | Identificador único da linha no dataset.                                                  |\n",
    "| `id_cliente`                    | Identificador único de cada cliente (pode se repetir ao longo dos meses).                 |\n",
    "| `mes`                           | Mês de referência do registro (ex.: Janeiro, Fevereiro).                                  |\n",
    "| `nome`                          | Nome do cliente (pode ser considerado irrelevante para análise preditiva).                |\n",
    "| `idade`                         | Idade do cliente. Pode conter valores inválidos (ex.: negativos ou acima de 1000).        |\n",
    "| `ssn`                           | Número de seguro social mascarado (pode conter dados corrompidos).                        |\n",
    "| `ocupacao`                      | Profissão ou ocupação atual do cliente.                                                   |\n",
    "| `renda_anual`                   | Renda anual bruta declarada pelo cliente.                                                 |\n",
    "| `salario_liquido_mensal`        | Salário líquido recebido mensalmente (renda disponível).                                  |\n",
    "| `qtd_contas_bancarias`          | Quantidade de contas bancárias que o cliente possui.                                      |\n",
    "| `qtd_cartoes_credito`           | Número de cartões de crédito ativos do cliente.                                           |\n",
    "| `taxa_juros`                    | Taxa de juros média aplicada aos cartões de crédito do cliente.                           |\n",
    "| `qtd_emprestimos`               | Quantidade de empréstimos que o cliente possui.                                           |\n",
    "| `tipos_emprestimos`             | Lista dos tipos de empréstimos contratados (ex.: Pessoal, Automóvel, Estudantil).         |\n",
    "| `dias_atraso_pagamento`         | Tempo médio (em dias) de atraso nos pagamentos do cliente.                                |\n",
    "| `qtd_pagamentos_atrasados`      | Número total de pagamentos feitos com atraso.                                             |\n",
    "| `variacao_limite_credito`       | Variação percentual no limite do cartão de crédito ao longo do tempo.                     |\n",
    "| `qtd_consultas_credito`         | Número de consultas ao histórico de crédito do cliente.                                   |\n",
    "| `mix_credito`                   | Composição do portfólio de crédito do cliente (ex.: bom, padrão, ruim).                   |\n",
    "| `divida_pendente`               | Valor total de dívida ainda não paga pelo cliente.                                        |\n",
    "| `percentual_utilizacao_credito` | Percentual do crédito disponível que está sendo utilizado.                                |\n",
    "| `tempo_historico_credito`       | Tempo de histórico de crédito em formato textual (ex.: \"15 Years and 3 Months\").          |\n",
    "| `pagamento_valor_minimo`        | Indica se o cliente costuma pagar apenas o valor mínimo das faturas (Yes/No).             |\n",
    "| `total_emprestimos_mensal`      | Soma das parcelas mensais pagas por empréstimos ativos (EMI).                             |\n",
    "| `valor_investido_mensal`        | Valor mensal que o cliente declara investir.                                              |\n",
    "| `comportamento_pagamento`       | Padrão de comportamento de pagamentos do cliente (ex.: pagamentos pequenos e frequentes). |\n",
    "| `saldo_mensal`                  | Saldo médio mensal restante após gastos e pagamentos.                                     |\n",
    "| `score_credito`                 | Score de crédito do cliente classificado em categorias: Poor, Standard ou Good.           |\n"
   ]
  },
  {
   "cell_type": "markdown",
   "id": "11a96c0c",
   "metadata": {},
   "source": [
    "## Exclusão de colunas identificadoras irrelevantes para modelagem\n",
    "Nesta etapa, removemos do DataFrame as colunas que contêm dados sensíveis ou que funcionam apenas como identificadores, não contribuindo para a previsão do score de crédito. São elas: id, id_cliente, nome e ssn."
   ]
  },
  {
   "cell_type": "code",
   "execution_count": 111,
   "id": "ace9c883",
   "metadata": {},
   "outputs": [],
   "source": [
    "df_processado.drop(columns=['id', 'id_cliente', 'nome', 'ssn'], inplace=True)"
   ]
  },
  {
   "cell_type": "code",
   "execution_count": 112,
   "id": "6f3b9297",
   "metadata": {},
   "outputs": [
    {
     "data": {
      "text/plain": [
       "Index(['mes', 'idade', 'ocupacao', 'renda_anual', 'salario_liquido_mensal',\n",
       "       'qtd_contas_bancarias', 'qtd_cartoes_credito', 'taxa_juros',\n",
       "       'qtd_emprestimos', 'tipos_emprestimos', 'dias_atraso_pagamento',\n",
       "       'qtd_pagamentos_atrasados', 'variacao_limite_credito',\n",
       "       'qtd_consultas_credito', 'mix_credito', 'divida_pendente',\n",
       "       'percentual_utilizacao_credito', 'tempo_historico_credito',\n",
       "       'pagamento_valor_minimo', 'total_emprestimos_mensal',\n",
       "       'valor_investido_mensal', 'comportamento_pagamento', 'saldo_mensal',\n",
       "       'score_credito'],\n",
       "      dtype='object')"
      ]
     },
     "execution_count": 112,
     "metadata": {},
     "output_type": "execute_result"
    }
   ],
   "source": [
    "df_processado.columns"
   ]
  },
  {
   "cell_type": "markdown",
   "id": "d92d9e7b",
   "metadata": {},
   "source": [
    "# Tratando valores nulos"
   ]
  },
  {
   "cell_type": "markdown",
   "id": "120722cb",
   "metadata": {},
   "source": [
    "Nesta etapa, analisamos a quantidade de valores nulos por coluna no DataFrame df_processado, exibindo apenas aquelas que possuem pelo menos um valor ausente. Isso nos ajuda a planejar o tratamento adequado para cada caso."
   ]
  },
  {
   "cell_type": "code",
   "execution_count": 113,
   "id": "723dacb9",
   "metadata": {},
   "outputs": [
    {
     "data": {
      "text/plain": [
       "salario_liquido_mensal      15002\n",
       "tipos_emprestimos           11408\n",
       "qtd_pagamentos_atrasados     7002\n",
       "qtd_consultas_credito        1965\n",
       "tempo_historico_credito      9030\n",
       "valor_investido_mensal       4479\n",
       "saldo_mensal                 1200\n",
       "dtype: int64"
      ]
     },
     "execution_count": 113,
     "metadata": {},
     "output_type": "execute_result"
    }
   ],
   "source": [
    "# Exibindo colunas com pelo menos um valor nulo\n",
    "df_processado.isnull().sum()[df_processado.isnull().sum() > 0]\n"
   ]
  },
  {
   "cell_type": "code",
   "execution_count": 114,
   "id": "6592c41c",
   "metadata": {},
   "outputs": [
    {
     "data": {
      "text/plain": [
       "salario_liquido_mensal     15.00\n",
       "tipos_emprestimos          11.41\n",
       "tempo_historico_credito     9.03\n",
       "qtd_pagamentos_atrasados    7.00\n",
       "valor_investido_mensal      4.48\n",
       "qtd_consultas_credito       1.97\n",
       "saldo_mensal                1.20\n",
       "dtype: float64"
      ]
     },
     "execution_count": 114,
     "metadata": {},
     "output_type": "execute_result"
    }
   ],
   "source": [
    "# Exibindo apenas colunas com valores nulos e suas respectivas porcentagens\n",
    "(df_processado.isnull().sum() / len(df_processado) * 100).loc[lambda x: x > 0].sort_values(ascending=False)\n",
    "\n"
   ]
  },
  {
   "cell_type": "markdown",
   "id": "405f2991",
   "metadata": {},
   "source": [
    "**Conclusão inicial:**  \n",
    "As colunas `salario_liquido_mensal`, `tipos_emprestimos`, `tempo_historico_credito`, `qtd_pagamentos_atrasados`, `valor_investido_mensal`, `qtd_consultas_credito` e `saldo_mensal` apresentam valores ausentes acima de 1%, sendo recomendável analisá-las individualmente para definição da melhor estratégia de imputação ou tratamento.\n"
   ]
  },
  {
   "cell_type": "markdown",
   "id": "781bebbf",
   "metadata": {},
   "source": [
    "## Salário líquido mensal (renda anual, idade, quantidade de cartões de crédito, total de empréstimos mensal, variação do limite de crédito, dívida pendente)"
   ]
  },
  {
   "cell_type": "code",
   "execution_count": 115,
   "id": "73a7580c",
   "metadata": {},
   "outputs": [
    {
     "data": {
      "text/plain": [
       "array([1824.84333333,           nan, 3037.98666667, ..., 3097.00833333,\n",
       "       1929.90666667, 3359.41583333], shape=(13236,))"
      ]
     },
     "execution_count": 115,
     "metadata": {},
     "output_type": "execute_result"
    }
   ],
   "source": [
    "df_processado.salario_liquido_mensal.unique()"
   ]
  },
  {
   "cell_type": "markdown",
   "id": "b7ece889",
   "metadata": {},
   "source": [
    "Antes de definir a melhor estratégia de imputação, visualizamos a distribuição da variável salario_liquido_mensal com um boxplot. Isso nos ajuda a entender presença de assimetria, outliers e dispersão."
   ]
  },
  {
   "cell_type": "code",
   "execution_count": 116,
   "id": "bd963fc2",
   "metadata": {},
   "outputs": [
    {
     "data": {
      "image/png": "[encoded data removed]",
      "text/plain": [
       "<Figure size 800x400 with 1 Axes>"
      ]
     },
     "metadata": {},
     "output_type": "display_data"
    }
   ],
   "source": [
    "# Boxplot para analisar a distribuição do salário líquido mensal\n",
    "plt.figure(figsize=(8, 4))\n",
    "sns.boxplot(x=df_processado['salario_liquido_mensal'])\n",
    "plt.title('Boxplot - Salário Líquido Mensal')\n",
    "plt.xlabel('Salário Líquido Mensal')\n",
    "plt.tight_layout()\n",
    "plt.show()\n"
   ]
  },
  {
   "cell_type": "markdown",
   "id": "dc065c73",
   "metadata": {},
   "source": [
    "**Estratégia de imputação com KMeans baseada em perfis financeiros**\n",
    "Vamos utilizar o algoritmo KMeans para agrupar clientes com perfis semelhantes, e imputar os valores ausentes da coluna salario_liquido_mensal com base na média dos clusters. Para isso, selecionamos variáveis possivelmente relacionadas ao salário líquido :\n",
    "\n",
    "renda_anual\n",
    "\n",
    "idade\n",
    "\n",
    "qtd_cartoes_credito\n",
    "\n",
    "total_emprestimos_mensal\n",
    "\n",
    "variacao_limite_credito\n",
    "\n",
    "divida_pendente\n",
    "\n",
    "Antes de aplicar o KMeans, é fundamental garantir que os dados estejam limpos, consistentes e sem distorções que prejudiquem o algoritmo. Isso significa verificar se todas as variáveis numéricas estão corretamente tipadas, padronizar formatos e tratar outliers que possam influenciar a formação dos clusters. Valores extremos podem deslocar os centróides e comprometer tanto o agrupamento quanto a imputação dos salários líquidos.\n",
    "\n",
    "Como essas mesmas variáveis também serão utilizadas no modelo final de previsão do score de crédito, já vamos adiantar esse processo de tratamento, garantindo que a base esteja organizada, sem inconsistências e pronta para servir tanto ao KMeans quanto às próximas etapas do pipeline de modelagem.\n"
   ]
  },
  {
   "cell_type": "code",
   "execution_count": 117,
   "id": "7b0d0d34",
   "metadata": {},
   "outputs": [],
   "source": [
    "# Selecionando colunas para formar os perfis de clientes\n",
    "variaveis_cluster = [\n",
    "    'renda_anual',\n",
    "    'idade',\n",
    "    'qtd_cartoes_credito',\n",
    "    'total_emprestimos_mensal',\n",
    "    'variacao_limite_credito',\n",
    "    'divida_pendente'\n",
    "]"
   ]
  },
  {
   "cell_type": "code",
   "execution_count": 118,
   "id": "979ca41f",
   "metadata": {},
   "outputs": [
    {
     "data": {
      "text/html": [
       "<div>\n",
       "<style scoped>\n",
       "    .dataframe tbody tr th:only-of-type {\n",
       "        vertical-align: middle;\n",
       "    }\n",
       "\n",
       "    .dataframe tbody tr th {\n",
       "        vertical-align: top;\n",
       "    }\n",
       "\n",
       "    .dataframe thead th {\n",
       "        text-align: right;\n",
       "    }\n",
       "</style>\n",
       "<table border=\"1\" class=\"dataframe\">\n",
       "  <thead>\n",
       "    <tr style=\"text-align: right;\">\n",
       "      <th></th>\n",
       "      <th>renda_anual</th>\n",
       "      <th>idade</th>\n",
       "      <th>qtd_cartoes_credito</th>\n",
       "      <th>total_emprestimos_mensal</th>\n",
       "      <th>variacao_limite_credito</th>\n",
       "      <th>divida_pendente</th>\n",
       "    </tr>\n",
       "  </thead>\n",
       "  <tbody>\n",
       "    <tr>\n",
       "      <th>0</th>\n",
       "      <td>19114.12</td>\n",
       "      <td>23</td>\n",
       "      <td>4</td>\n",
       "      <td>49.57</td>\n",
       "      <td>11.27</td>\n",
       "      <td>809.98</td>\n",
       "    </tr>\n",
       "    <tr>\n",
       "      <th>1</th>\n",
       "      <td>19114.12</td>\n",
       "      <td>23</td>\n",
       "      <td>4</td>\n",
       "      <td>49.57</td>\n",
       "      <td>11.27</td>\n",
       "      <td>809.98</td>\n",
       "    </tr>\n",
       "    <tr>\n",
       "      <th>2</th>\n",
       "      <td>19114.12</td>\n",
       "      <td>-500</td>\n",
       "      <td>4</td>\n",
       "      <td>49.57</td>\n",
       "      <td>_</td>\n",
       "      <td>809.98</td>\n",
       "    </tr>\n",
       "    <tr>\n",
       "      <th>3</th>\n",
       "      <td>19114.12</td>\n",
       "      <td>23</td>\n",
       "      <td>4</td>\n",
       "      <td>49.57</td>\n",
       "      <td>6.27</td>\n",
       "      <td>809.98</td>\n",
       "    </tr>\n",
       "    <tr>\n",
       "      <th>4</th>\n",
       "      <td>19114.12</td>\n",
       "      <td>23</td>\n",
       "      <td>4</td>\n",
       "      <td>49.57</td>\n",
       "      <td>11.27</td>\n",
       "      <td>809.98</td>\n",
       "    </tr>\n",
       "  </tbody>\n",
       "</table>\n",
       "</div>"
      ],
      "text/plain": [
       "  renda_anual idade  qtd_cartoes_credito  total_emprestimos_mensal  \\\n",
       "0    19114.12    23                    4                     49.57   \n",
       "1    19114.12    23                    4                     49.57   \n",
       "2    19114.12  -500                    4                     49.57   \n",
       "3    19114.12    23                    4                     49.57   \n",
       "4    19114.12    23                    4                     49.57   \n",
       "\n",
       "  variacao_limite_credito divida_pendente  \n",
       "0                   11.27          809.98  \n",
       "1                   11.27          809.98  \n",
       "2                       _          809.98  \n",
       "3                    6.27          809.98  \n",
       "4                   11.27          809.98  "
      ]
     },
     "execution_count": 118,
     "metadata": {},
     "output_type": "execute_result"
    }
   ],
   "source": [
    "df_processado[variaveis_cluster].head()\n"
   ]
  },
  {
   "cell_type": "code",
   "execution_count": 119,
   "id": "4da3815e",
   "metadata": {},
   "outputs": [
    {
     "data": {
      "text/plain": [
       "renda_anual                  object\n",
       "idade                        object\n",
       "qtd_cartoes_credito           int64\n",
       "total_emprestimos_mensal    float64\n",
       "variacao_limite_credito      object\n",
       "divida_pendente              object\n",
       "dtype: object"
      ]
     },
     "execution_count": 119,
     "metadata": {},
     "output_type": "execute_result"
    }
   ],
   "source": [
    "df_processado[variaveis_cluster].dtypes"
   ]
  },
  {
   "cell_type": "code",
   "execution_count": 120,
   "id": "96e3669d",
   "metadata": {},
   "outputs": [
    {
     "name": "stdout",
     "output_type": "stream",
     "text": [
      "\n",
      "--- Valores inválidos detectados em: renda_anual ---\n",
      "['19114.12' '34847.84' '34847.84_' '143162.64' '30689.89' '30689.89_'\n",
      " '35547.71_' '35547.71' '73928.46' '131313.4' '10909427.0' '34081.38_'\n",
      " '34081.38' '114838.41' '114838.41_' '31370.8' '33751.27' '88640.24'\n",
      " '88640.24_' '54392.16' '54392.16_' '8701.545' '8701.545_' '25546.26'\n",
      " '25546.26_' '31993.78' '92047.08' '92047.08_' '32284.62' '97791.42']\n",
      "\n",
      "--- Valores inválidos detectados em: idade ---\n",
      "['23' '-500' '28_' '28' '34' '54' '55' '21' '31' '33' '34_' '7580' '30'\n",
      " '30_' '24' '24_' '44' '45' '40' '41' '32' '33_' '35' '35_' '36' '39' '37'\n",
      " '181' '20' '46']\n",
      "\n",
      "--- Valores inválidos detectados em: variacao_limite_credito ---\n",
      "['11.27' '_' '6.27' '9.27' '5.42' '7.42' '6.42' '7.1' '11.1' '9.1' '1.99'\n",
      " '-2.01' '-1.01' '-3.01' '2.58' '10.14' '9.14' '9.34' '15.34' '8.34'\n",
      " '11.34' '17.13' '21.13' '18.13' '8.24' '11.24' '5.76'\n",
      " '-1.2400000000000002' '1.7599999999999998' '11.0']\n",
      "\n",
      "--- Valores inválidos detectados em: divida_pendente ---\n",
      "['809.98' '605.03' '1303.01' '632.46' '943.86' '548.2' '352.16' '1704.18'\n",
      " '1377.74' '421.43' '1328.93' '1328.93_' '950.36' '179.22' '2602.69'\n",
      " '758.44' '818.22' '1296.64' '1283.37' '1283.37_' '107.41' '2430.21'\n",
      " '881.4' '1672.43' '76.23' '569.8' '3532.83' '614.6' '2686.81' '1233.1']\n"
     ]
    }
   ],
   "source": [
    "# Exibindo valores únicos não numéricos para cada coluna do tipo object usada no KMeans\n",
    "for col in ['renda_anual', 'idade', 'variacao_limite_credito', 'divida_pendente']:\n",
    "    print(f\"\\n--- Valores inválidos detectados em: {col} ---\")\n",
    "    print(df_processado[col].unique()[:30])  # Mostra apenas os 30 primeiros valores únicos\n"
   ]
  },
  {
   "cell_type": "markdown",
   "id": "ae5a9e34",
   "metadata": {},
   "source": [
    "### Renda Anual"
   ]
  },
  {
   "cell_type": "markdown",
   "id": "63431bf1",
   "metadata": {},
   "source": [
    "Limpando e convertendo a coluna renda_anual para tipo numérico"
   ]
  },
  {
   "cell_type": "code",
   "execution_count": 121,
   "id": "da18eeae",
   "metadata": {},
   "outputs": [
    {
     "name": "stdout",
     "output_type": "stream",
     "text": [
      "Valores ainda inválidos em renda_anual: []\n",
      "Tipo final de renda_anual: float64\n"
     ]
    }
   ],
   "source": [
    "# Passo 1: Remover underscores\n",
    "df_processado['renda_anual'] = df_processado['renda_anual'].str.replace('_', '', regex=False)\n",
    "\n",
    "# Passo 2: Conferir se restaram caracteres não numéricos\n",
    "invalidos_renda_anual = df_processado[\n",
    "    ~df_processado['renda_anual'].str.replace('.', '', regex=False).str.isnumeric()\n",
    "]['renda_anual'].unique()\n",
    "\n",
    "print(\"Valores ainda inválidos em renda_anual:\", invalidos_renda_anual)\n",
    "\n",
    "# Passo 3: Se não houver valores inválidos, converter para float\n",
    "if len(invalidos_renda_anual) == 0:\n",
    "    df_processado['renda_anual'] = df_processado['renda_anual'].astype(float)\n",
    "\n",
    "# Passo 4: Conferir tipo final\n",
    "print(\"Tipo final de renda_anual:\", df_processado['renda_anual'].dtype)\n"
   ]
  },
  {
   "cell_type": "markdown",
   "id": "4e97d4fa",
   "metadata": {},
   "source": [
    "Visualizamos a distribuição da variável renda_anual para identificar a presença de outliers e avaliar sua magnitude."
   ]
  },
  {
   "cell_type": "code",
   "execution_count": 122,
   "id": "13e8e2a9",
   "metadata": {},
   "outputs": [
    {
     "data": {
      "image/png": "[encoded data removed]",
      "text/plain": [
       "<Figure size 800x400 with 1 Axes>"
      ]
     },
     "metadata": {},
     "output_type": "display_data"
    }
   ],
   "source": [
    "plt.figure(figsize=(8, 4))\n",
    "sns.boxplot(x=df_processado['renda_anual'])\n",
    "plt.xscale('log')  # aplica escala logarítmica no eixo X\n",
    "plt.title('Boxplot - Renda Anual (escala log)')\n",
    "plt.xlabel('Renda Anual (log)')\n",
    "plt.tight_layout()\n",
    "plt.show()\n"
   ]
  },
  {
   "cell_type": "code",
   "execution_count": 123,
   "id": "08b0c650",
   "metadata": {},
   "outputs": [
    {
     "data": {
      "text/plain": [
       "count      100,000.00\n",
       "mean       176,415.70\n",
       "std      1,429,618.05\n",
       "min          7,005.93\n",
       "25%         19,457.50\n",
       "50%         37,578.61\n",
       "75%         72,790.92\n",
       "max     24,198,062.00\n",
       "Name: renda_anual, dtype: float64"
      ]
     },
     "execution_count": 123,
     "metadata": {},
     "output_type": "execute_result"
    }
   ],
   "source": [
    "# Exibindo estatísticas descritivas de renda_anual sem notação científica\n",
    "pd.set_option('display.float_format', '{:,.2f}'.format)\n",
    "df_processado['renda_anual'].describe()\n"
   ]
  },
  {
   "cell_type": "markdown",
   "id": "4219f05d",
   "metadata": {},
   "source": [
    "Conclusão sobre a variável renda_anual:\n",
    "Apesar de apresentar uma quantidade significativa de valores que podem ser considerados outliers pelo critério estatístico, esses valores refletem a realidade de rendas muito variadas dentro do conjunto de clientes. Não foram identificados registros absurdos ou inconsistentes, apenas clientes com rendas extremamente altas em relação à média. Portanto, não será realizada a remoção nem o ajuste desses valores."
   ]
  },
  {
   "cell_type": "markdown",
   "id": "a39e4316",
   "metadata": {},
   "source": [
    "### Idade\n"
   ]
  },
  {
   "cell_type": "markdown",
   "id": "c4e6b704",
   "metadata": {},
   "source": [
    "Limpando e convertendo a coluna idade para tipo numérico"
   ]
  },
  {
   "cell_type": "code",
   "execution_count": 124,
   "id": "fd6588c8",
   "metadata": {},
   "outputs": [
    {
     "name": "stdout",
     "output_type": "stream",
     "text": [
      "Valores ainda inválidos em idade: []\n",
      "Tipo final de idade: int64\n"
     ]
    }
   ],
   "source": [
    "# Passo 1: Remover underscores\n",
    "df_processado['idade'] = df_processado['idade'].str.replace('_', '', regex=False)\n",
    "\n",
    "# Passo 2: Conferir se ainda há valores não numéricos\n",
    "invalidos_idade = df_processado[\n",
    "    ~df_processado['idade'].str.replace('-', '', regex=False).str.isnumeric()\n",
    "]['idade'].unique()\n",
    "\n",
    "print(\"Valores ainda inválidos em idade:\", invalidos_idade)\n",
    "\n",
    "# Passo 3: Converter para inteiro se não houver valores inválidos\n",
    "if len(invalidos_idade) == 0:\n",
    "    df_processado['idade'] = df_processado['idade'].astype(int)\n",
    "\n",
    "# Passo 4: Conferir tipo final\n",
    "print(\"Tipo final de idade:\", df_processado['idade'].dtype)\n"
   ]
  },
  {
   "cell_type": "code",
   "execution_count": 125,
   "id": "0d86ee78",
   "metadata": {},
   "outputs": [
    {
     "data": {
      "image/png": "[encoded data removed]",
      "text/plain": [
       "<Figure size 800x400 with 1 Axes>"
      ]
     },
     "metadata": {},
     "output_type": "display_data"
    }
   ],
   "source": [
    "plt.figure(figsize=(8,4))\n",
    "sns.boxplot(x=df_processado['idade'])\n",
    "plt.title('Boxplot - Idade')\n",
    "plt.xlabel('Idade')\n",
    "plt.tight_layout()\n",
    "plt.show()"
   ]
  },
  {
   "cell_type": "code",
   "execution_count": 126,
   "id": "9e9fc3a9",
   "metadata": {},
   "outputs": [
    {
     "name": "stdout",
     "output_type": "stream",
     "text": [
      "count   100,000\n",
      "mean        111\n",
      "std         686\n",
      "min        -500\n",
      "25%          24\n",
      "50%          33\n",
      "75%          42\n",
      "max       8,698\n",
      "Name: idade, dtype: float64\n"
     ]
    }
   ],
   "source": [
    "pd.set_option('display.float_format', '{:,.0f}'.format)\n",
    "print(df_processado['idade'].describe())\n"
   ]
  },
  {
   "cell_type": "code",
   "execution_count": 127,
   "id": "9b0ecc17",
   "metadata": {},
   "outputs": [
    {
     "name": "stdout",
     "output_type": "stream",
     "text": [
      "Percentual abaixo de 18 anos: 6.59%\n",
      "Percentual acima de 100 anos: 1.89%\n"
     ]
    }
   ],
   "source": [
    "total_linhas = len(df_processado)\n",
    "\n",
    "abaixo_18 = (df_processado['idade'] < 18).sum()\n",
    "acima_100 = (df_processado['idade'] > 100).sum()\n",
    "\n",
    "print(f\"Percentual abaixo de 18 anos: {(abaixo_18 / total_linhas) * 100:.2f}%\")\n",
    "print(f\"Percentual acima de 100 anos: {(acima_100 / total_linhas) * 100:.2f}%\")\n"
   ]
  },
  {
   "cell_type": "markdown",
   "id": "dc94b8b9",
   "metadata": {},
   "source": [
    "Idades abaixo de 18 e acima de 100 são tratadas como inválidas. Vamos substituí-las por NaN para que sejam imputadas posteriormente pelo modelo de KMeans."
   ]
  },
  {
   "cell_type": "code",
   "execution_count": 128,
   "id": "f978cafb",
   "metadata": {},
   "outputs": [
    {
     "name": "stdout",
     "output_type": "stream",
     "text": [
      "8482 valores nulos em idade após substituição.\n"
     ]
    }
   ],
   "source": [
    "# Substituindo idades inválidas (<18 e >100) por NaN\n",
    "df_processado.loc[(df_processado['idade'] < 18) | (df_processado['idade'] > 100), 'idade'] = np.nan\n",
    "\n",
    "# Conferindo resultado\n",
    "print(df_processado['idade'].isna().sum(), \"valores nulos em idade após substituição.\")"
   ]
  },
  {
   "cell_type": "markdown",
   "id": "9e5a4dd5",
   "metadata": {},
   "source": [
    "### Variação limite de crédito"
   ]
  },
  {
   "cell_type": "markdown",
   "id": "41941405",
   "metadata": {},
   "source": [
    "Limpando e convertendo variacao_limite_credito para float usando 99999 como placeholder"
   ]
  },
  {
   "cell_type": "code",
   "execution_count": 129,
   "id": "8dcae1ec",
   "metadata": {},
   "outputs": [
    {
     "name": "stdout",
     "output_type": "stream",
     "text": [
      "Valores ainda inválidos em variacao_limite_credito: []\n",
      "Tipo final: float64\n"
     ]
    }
   ],
   "source": [
    "# Passo 1: Remover underscores e substituir por placeholder 99999\n",
    "df_processado['variacao_limite_credito'] = df_processado['variacao_limite_credito'].str.replace('_', '99999', regex=False)\n",
    "\n",
    "# Passo 2: Verificar se restam valores inválidos\n",
    "invalidos_limite = df_processado[\n",
    "    ~df_processado['variacao_limite_credito'].str.replace('-', '', regex=False).str.replace('.', '', regex=False).str.isnumeric()\n",
    "]['variacao_limite_credito'].unique()\n",
    "\n",
    "print(\"Valores ainda inválidos em variacao_limite_credito:\", invalidos_limite)\n",
    "\n",
    "# Passo 3: Converter para float somente se não restarem inválidos\n",
    "if len(invalidos_limite) == 0:\n",
    "    df_processado['variacao_limite_credito'] = df_processado['variacao_limite_credito'].astype(float)\n",
    "    \n",
    "    # Passo 4: Arredondar para 2 casas decimais\n",
    "    df_processado['variacao_limite_credito'] = df_processado['variacao_limite_credito'].round(2)\n",
    "\n",
    "# Conferindo tipo final\n",
    "print(\"Tipo final:\", df_processado['variacao_limite_credito'].dtype)\n"
   ]
  },
  {
   "cell_type": "code",
   "execution_count": 130,
   "id": "46ec7fd5",
   "metadata": {},
   "outputs": [
    {
     "name": "stdout",
     "output_type": "stream",
     "text": [
      "Total de registros com 99999: 2091\n",
      "Percentual em relação ao total: 2.09%\n"
     ]
    }
   ],
   "source": [
    "total = len(df_processado)\n",
    "placeholder_99999 = (df_processado['variacao_limite_credito'] == 99999).sum()\n",
    "\n",
    "porcentagem = (placeholder_99999 / total) * 100\n",
    "\n",
    "print(f\"Total de registros com 99999: {placeholder_99999}\")\n",
    "print(f\"Percentual em relação ao total: {porcentagem:.2f}%\")"
   ]
  },
  {
   "cell_type": "markdown",
   "id": "0f38ec27",
   "metadata": {},
   "source": [
    "Boxplot para variacao_limite_credito (removendo o placeholder 99999)"
   ]
  },
  {
   "cell_type": "code",
   "execution_count": 131,
   "id": "fd33f88d",
   "metadata": {},
   "outputs": [
    {
     "data": {
      "image/png": "[encoded data removed]",
      "text/plain": [
       "<Figure size 800x400 with 1 Axes>"
      ]
     },
     "metadata": {},
     "output_type": "display_data"
    }
   ],
   "source": [
    "plt.figure(figsize=(8, 4))\n",
    "sns.boxplot(x=df_processado[df_processado['variacao_limite_credito'] != 99999]['variacao_limite_credito'])\n",
    "plt.title('Boxplot - Variação do Limite de Crédito (sem 99999)')\n",
    "plt.xlabel('Variação do Limite de Crédito')\n",
    "plt.tight_layout()\n",
    "plt.show()\n"
   ]
  },
  {
   "cell_type": "markdown",
   "id": "35af4f4a",
   "metadata": {},
   "source": [
    "Apenas 2,09% dos registros tinham underscore e foram tratados com o placeholder 99999. Após analisar o boxplot (sem esses placeholders), observou-se que não há grande concentração de outliers extremos — os valores variam de forma plausível para uma variável de limite de crédito.\n",
    "\n",
    "Portanto, a melhor abordagem será imputar os valores de 99999 pela mediana da variável, garantindo que a distribuição original não seja distorcida e evitando a influência de possíveis valores extremos."
   ]
  },
  {
   "cell_type": "code",
   "execution_count": 132,
   "id": "9c992578",
   "metadata": {},
   "outputs": [
    {
     "name": "stdout",
     "output_type": "stream",
     "text": [
      "Placeholders restantes: 0\n",
      "Mediana usada na imputação: 9.4\n"
     ]
    },
    {
     "data": {
      "text/plain": [
       "count   100,000\n",
       "mean         10\n",
       "std           7\n",
       "min          -6\n",
       "25%           5\n",
       "50%           9\n",
       "75%          15\n",
       "max          37\n",
       "Name: variacao_limite_credito, dtype: float64"
      ]
     },
     "execution_count": 132,
     "metadata": {},
     "output_type": "execute_result"
    }
   ],
   "source": [
    "# Calculando a mediana sem considerar o placeholder 99999\n",
    "mediana_limite = df_processado.loc[df_processado['variacao_limite_credito'] != 99999, 'variacao_limite_credito'].median()\n",
    "\n",
    "# Substituindo 99999 pela mediana\n",
    "df_processado.loc[df_processado['variacao_limite_credito'] == 99999, 'variacao_limite_credito'] = mediana_limite\n",
    "\n",
    "# Conferindo se ainda existem placeholders\n",
    "placeholders_restantes = (df_processado['variacao_limite_credito'] == 99999).sum()\n",
    "print(f\"Placeholders restantes: {placeholders_restantes}\")\n",
    "print(f\"Mediana usada na imputação: {mediana_limite}\")\n",
    "df_processado['variacao_limite_credito'].describe()"
   ]
  },
  {
   "cell_type": "markdown",
   "id": "c66b896a",
   "metadata": {},
   "source": [
    "### Divida pendente"
   ]
  },
  {
   "cell_type": "markdown",
   "id": "472c20a5",
   "metadata": {},
   "source": [
    "Limpando e convertendo a coluna divida_pendente para tipo numérico\n"
   ]
  },
  {
   "cell_type": "code",
   "execution_count": 133,
   "id": "43b263d9",
   "metadata": {},
   "outputs": [
    {
     "name": "stdout",
     "output_type": "stream",
     "text": [
      "Valores ainda inválidos em divida_pendente: []\n",
      "Tipo final de divida_pendente: float64\n"
     ]
    }
   ],
   "source": [
    "# Passo 1: Remover underscores\n",
    "df_processado['divida_pendente'] = df_processado['divida_pendente'].str.replace('_', '', regex=False)\n",
    "\n",
    "# Passo 2: Conferir se restaram valores inválidos\n",
    "invalidos_divida = df_processado[\n",
    "    ~df_processado['divida_pendente'].str.replace('-', '', regex=False).str.replace('.', '', regex=False).str.isnumeric()\n",
    "]['divida_pendente'].unique()\n",
    "\n",
    "print(\"Valores ainda inválidos em divida_pendente:\", invalidos_divida)\n",
    "\n",
    "# Passo 3: Converter para float somente se não restarem inválidos\n",
    "if len(invalidos_divida) == 0:\n",
    "    df_processado['divida_pendente'] = df_processado['divida_pendente'].astype(float)\n",
    "    df_processado['divida_pendente'] = df_processado['divida_pendente'].round(2)\n",
    "\n",
    "# Conferindo tipo final\n",
    "print(\"Tipo final de divida_pendente:\", df_processado['divida_pendente'].dtype)\n"
   ]
  },
  {
   "cell_type": "markdown",
   "id": "5b2b95d5",
   "metadata": {},
   "source": [
    "Estatísticas descritivas e boxplot para divida_pendente"
   ]
  },
  {
   "cell_type": "code",
   "execution_count": 134,
   "id": "e774d2a3",
   "metadata": {},
   "outputs": [
    {
     "name": "stdout",
     "output_type": "stream",
     "text": [
      "count   100,000.00\n",
      "mean      1,426.22\n",
      "std       1,155.13\n",
      "min           0.23\n",
      "25%         566.07\n",
      "50%       1,166.15\n",
      "75%       1,945.96\n",
      "max       4,998.07\n",
      "Name: divida_pendente, dtype: float64\n"
     ]
    },
    {
     "data": {
      "image/png": "[encoded data removed]",
      "text/plain": [
       "<Figure size 800x400 with 1 Axes>"
      ]
     },
     "metadata": {},
     "output_type": "display_data"
    }
   ],
   "source": [
    "# Estatísticas descritivas\n",
    "pd.set_option('display.float_format', '{:,.2f}'.format)\n",
    "print(df_processado['divida_pendente'].describe())\n",
    "\n",
    "# Boxplot\n",
    "import matplotlib.pyplot as plt\n",
    "import seaborn as sns\n",
    "\n",
    "plt.figure(figsize=(8,4))\n",
    "sns.boxplot(x=df_processado['divida_pendente'])\n",
    "plt.title('Boxplot - Dívida Pendente')\n",
    "plt.xlabel('Dívida Pendente')\n",
    "plt.tight_layout()\n",
    "plt.show()\n"
   ]
  },
  {
   "cell_type": "markdown",
   "id": "bf0c1ad4",
   "metadata": {},
   "source": [
    "Os valores mínimos e máximos encontrados são aceitáveis para o contexto financeiro, mesmo com a presença de outliers identificados no boxplot. A faixa de variação ( 0,23 a 4.998,07) é coerente com diferentes perfis de clientes e seus níveis de endividamento. Assim, não haverá remoção ou ajuste desses valores, mantendo a integridade da distribuição original.\n",
    "\n"
   ]
  },
  {
   "cell_type": "markdown",
   "id": "1bd1a6da",
   "metadata": {},
   "source": [
    "### Quantidade de Cartões e Total de emrestimso mensal "
   ]
  },
  {
   "cell_type": "code",
   "execution_count": 135,
   "id": "75c4a3c5",
   "metadata": {},
   "outputs": [
    {
     "name": "stdout",
     "output_type": "stream",
     "text": [
      "       qtd_cartoes_credito  total_emprestimos_mensal\n",
      "count           100,000.00                100,000.00\n",
      "mean                 22.47                  1,403.12\n",
      "std                 129.06                  8,306.04\n",
      "min                   0.00                      0.00\n",
      "25%                   4.00                     30.31\n",
      "50%                   5.00                     69.25\n",
      "75%                   7.00                    161.22\n",
      "max               1,499.00                 82,331.00\n"
     ]
    },
    {
     "data": {
      "image/png": "[encoded data removed]",
      "text/plain": [
       "<Figure size 1200x500 with 2 Axes>"
      ]
     },
     "metadata": {},
     "output_type": "display_data"
    }
   ],
   "source": [
    "# Estatísticas descritivas\n",
    "pd.set_option('display.float_format', '{:,.2f}'.format)\n",
    "print(df_processado[['qtd_cartoes_credito', 'total_emprestimos_mensal']].describe())\n",
    "\n",
    "\n",
    "plt.figure(figsize=(12,5))\n",
    "\n",
    "# Boxplot para qtd_cartoes_credito\n",
    "plt.subplot(1, 2, 1)\n",
    "sns.boxplot(x=df_processado['qtd_cartoes_credito'])\n",
    "plt.title('Boxplot - Quantidade de Cartões de Crédito')\n",
    "plt.xlabel('Qtd Cartões de Crédito')\n",
    "\n",
    "# Boxplot para total_emprestimos_mensal\n",
    "plt.subplot(1, 2, 2)\n",
    "sns.boxplot(x=df_processado['total_emprestimos_mensal'])\n",
    "plt.title('Boxplot - Total de Empréstimos Mensal')\n",
    "plt.xlabel('Total Empréstimos Mensal')\n",
    "\n",
    "plt.tight_layout()\n",
    "plt.show()\n"
   ]
  },
  {
   "cell_type": "markdown",
   "id": "2283c7b9",
   "metadata": {},
   "source": [
    "Estratégia de tratamento para qtd_cartoes_credito e total_emprestimos_mensal\n",
    "A análise descritiva mostrou comportamentos distintos entre as duas variáveis:\n",
    "\n",
    "qtd_cartoes_credito:\n",
    "A mediana é de 5 cartões, mas há registros com valores extremamente altos (até 1.499 cartões), o que é irrealista. Para preservar a integridade da base, adotaremos um limite superior (cap) de 20 cartões. Todos os registros acima desse valor serão imputados com a mediana (5), garantindo consistência sem distorcer a distribuição.\n",
    "\n",
    "total_emprestimos_mensal:\n",
    "Apesar de apresentar valores elevados (máximo de R$ 82.331,00), esses números são financeiramente plausíveis, já que clientes com alto volume de crédito podem ter parcelas altas. Portanto, não faremos ajustes nem imputações nessa variável."
   ]
  },
  {
   "cell_type": "code",
   "execution_count": 136,
   "id": "7951c709",
   "metadata": {},
   "outputs": [
    {
     "name": "stdout",
     "output_type": "stream",
     "text": [
      "Valores acima de 20 após imputação: 0\n",
      "Mediana usada na imputação: 5.0\n"
     ]
    }
   ],
   "source": [
    "# Calculando a mediana de qtd_cartoes_credito\n",
    "mediana_cartoes = df_processado['qtd_cartoes_credito'].median()\n",
    "\n",
    "# Aplicando o limite superior (cap) de 20 cartões\n",
    "df_processado.loc[df_processado['qtd_cartoes_credito'] > 20, 'qtd_cartoes_credito'] = mediana_cartoes\n",
    "\n",
    "# Conferindo se ainda existem valores acima de 20\n",
    "print(\"Valores acima de 20 após imputação:\", (df_processado['qtd_cartoes_credito'] > 20).sum())\n",
    "print(f\"Mediana usada na imputação: {mediana_cartoes}\")\n"
   ]
  },
  {
   "cell_type": "markdown",
   "id": "4628a34e",
   "metadata": {},
   "source": [
    "### KMeans para imputar Idade e Salário Liquido Mensal\n"
   ]
  },
  {
   "cell_type": "markdown",
   "id": "6a5c2994",
   "metadata": {},
   "source": [
    "1️⃣ Treinar o KMeans sem usar idade (pois idade ainda tem muito NaN);\n",
    "2️⃣ Imputar a idade dos clientes com base nos clusters formados;\n",
    "3️⃣ Atualizar idade no dataset;\n",
    "4️⃣ Treinar um novo KMeans agora incluindo idade;\n",
    "5️⃣ Imputar salario_liquido_mensal com base nos clusters refinados."
   ]
  },
  {
   "cell_type": "markdown",
   "id": "e0d64f55",
   "metadata": {},
   "source": [
    "Criando o DataFrame e padronizando os dados (sem idade)"
   ]
  },
  {
   "cell_type": "code",
   "execution_count": 137,
   "id": "cfa863bf",
   "metadata": {},
   "outputs": [],
   "source": [
    "# Variáveis sem idade\n",
    "variaveis_sem_idade = [\n",
    "    'renda_anual',\n",
    "    'qtd_cartoes_credito',\n",
    "    'total_emprestimos_mensal',\n",
    "    'variacao_limite_credito',\n",
    "    'divida_pendente'\n",
    "]\n",
    "\n",
    "# Criar DataFrame somente com essas variáveis\n",
    "df_kmeans_idade = df_processado[variaveis_sem_idade + ['idade']].copy()\n",
    "\n",
    "# Padronizar dados\n",
    "scaler_idade = StandardScaler()\n",
    "X_idade_scaled = scaler_idade.fit_transform(df_kmeans_idade[variaveis_sem_idade])"
   ]
  },
  {
   "cell_type": "markdown",
   "id": "ae18f76b",
   "metadata": {},
   "source": [
    "Determinando o número ideal de clusters (método do cotovelo – sem idade)"
   ]
  },
  {
   "cell_type": "code",
   "execution_count": 138,
   "id": "f769128f",
   "metadata": {},
   "outputs": [
    {
     "data": {
      "image/png": "[encoded data removed]",
      "text/plain": [
       "<Figure size 800x400 with 1 Axes>"
      ]
     },
     "metadata": {},
     "output_type": "display_data"
    }
   ],
   "source": [
    "inercias = []\n",
    "k_values = range(2, 11)  # vamos testar de 2 a 10 clusters\n",
    "\n",
    "for k in k_values:\n",
    "    kmeans = KMeans(n_clusters=k, random_state=42, n_init=10)\n",
    "    kmeans.fit(X_idade_scaled)\n",
    "    inercias.append(kmeans.inertia_)\n",
    "\n",
    "# Plot do método do cotovelo\n",
    "plt.figure(figsize=(8, 4))\n",
    "plt.plot(k_values, inercias, marker='o')\n",
    "plt.title('Método do Cotovelo - KMeans sem Idade')\n",
    "plt.xlabel('Número de Clusters (k)')\n",
    "plt.ylabel('Inércia')\n",
    "plt.xticks(k_values)\n",
    "plt.tight_layout()\n",
    "plt.show()\n"
   ]
  },
  {
   "cell_type": "markdown",
   "id": "3467e552",
   "metadata": {},
   "source": [
    "Treinando o KMeans e atribuindo os clusters (sem idade)"
   ]
  },
  {
   "cell_type": "code",
   "execution_count": 139,
   "id": "534e3a57",
   "metadata": {},
   "outputs": [
    {
     "name": "stdout",
     "output_type": "stream",
     "text": [
      "cluster_idade\n",
      "0    45220\n",
      "1    37205\n",
      "3    14848\n",
      "4     2038\n",
      "2      689\n",
      "Name: count, dtype: int64\n"
     ]
    }
   ],
   "source": [
    "# Treinar KMeans com 5 clusters\n",
    "kmeans_idade = KMeans(n_clusters=5, random_state=42, n_init=10)\n",
    "\n",
    "# Ajustar o modelo aos dados padronizados\n",
    "df_kmeans_idade['cluster_idade'] = kmeans_idade.fit_predict(X_idade_scaled)\n",
    "\n",
    "# Conferir a distribuição dos clusters\n",
    "print(df_kmeans_idade['cluster_idade'].value_counts())\n"
   ]
  },
  {
   "cell_type": "markdown",
   "id": "c6e6038a",
   "metadata": {},
   "source": [
    "Calculando a mediana de idade por cluster e imputando no DataFrame"
   ]
  },
  {
   "cell_type": "code",
   "execution_count": 140,
   "id": "771d2ccb",
   "metadata": {},
   "outputs": [
    {
     "name": "stdout",
     "output_type": "stream",
     "text": [
      "Idades nulas após imputação: 0\n"
     ]
    }
   ],
   "source": [
    "# Criar cópia do DataFrame original para imputação\n",
    "df_processado_kmeans1 = df_processado.copy()\n",
    "\n",
    "# Calcular a mediana de idade para cada cluster\n",
    "mediana_idade_cluster = df_kmeans_idade.groupby('cluster_idade')['idade'].median()\n",
    "\n",
    "# Iterar sobre os clusters e imputar as idades faltantes com a mediana de cada cluster\n",
    "for cluster in mediana_idade_cluster.index:\n",
    "    idade_mediana = mediana_idade_cluster.loc[cluster]\n",
    "    df_processado_kmeans1.loc[\n",
    "        (df_processado_kmeans1['idade'].isna()) &\n",
    "        (df_kmeans_idade['cluster_idade'] == cluster),\n",
    "        'idade'\n",
    "    ] = idade_mediana\n",
    "\n",
    "# Conferindo se ainda existem idades nulas após a imputação\n",
    "print(\"Idades nulas após imputação:\", df_processado_kmeans1['idade'].isna().sum())\n"
   ]
  },
  {
   "cell_type": "markdown",
   "id": "dd96261e",
   "metadata": {},
   "source": [
    "Criar DataFrame e padronizar (agora incluindo idade)"
   ]
  },
  {
   "cell_type": "code",
   "execution_count": 141,
   "id": "cef0b871",
   "metadata": {},
   "outputs": [
    {
     "name": "stdout",
     "output_type": "stream",
     "text": [
      "Shape dos dados padronizados (com idade): (100000, 6)\n"
     ]
    }
   ],
   "source": [
    "# Variáveis agora incluem idade\n",
    "variaveis_com_idade = [\n",
    "    'renda_anual',\n",
    "    'idade',\n",
    "    'qtd_cartoes_credito',\n",
    "    'total_emprestimos_mensal',\n",
    "    'variacao_limite_credito',\n",
    "    'divida_pendente'\n",
    "]\n",
    "\n",
    "# Criar DataFrame para o novo KMeans\n",
    "df_kmeans_salario = df_processado_kmeans1[variaveis_com_idade + ['salario_liquido_mensal']].copy()\n",
    "\n",
    "# Padronizar dados\n",
    "scaler_salario = StandardScaler()\n",
    "X_salario_scaled = scaler_salario.fit_transform(df_kmeans_salario[variaveis_com_idade])\n",
    "\n",
    "print(\"Shape dos dados padronizados (com idade):\", X_salario_scaled.shape)\n"
   ]
  },
  {
   "cell_type": "markdown",
   "id": "a33f4204",
   "metadata": {},
   "source": [
    "Treinando o KMeans com idade incluída (5 clusters)"
   ]
  },
  {
   "cell_type": "code",
   "execution_count": 142,
   "id": "7b4e48b7",
   "metadata": {},
   "outputs": [
    {
     "name": "stdout",
     "output_type": "stream",
     "text": [
      "cluster_salario\n",
      "2    43140\n",
      "0    31360\n",
      "1    22784\n",
      "3     2027\n",
      "4      689\n",
      "Name: count, dtype: int64\n"
     ]
    }
   ],
   "source": [
    "# Treinar KMeans com 5 clusters usando as variáveis que agora incluem idade\n",
    "kmeans_salario = KMeans(n_clusters=5, random_state=42, n_init=10)\n",
    "\n",
    "# Ajustar o modelo e prever os clusters\n",
    "df_kmeans_salario['cluster_salario'] = kmeans_salario.fit_predict(X_salario_scaled)\n",
    "\n",
    "# Conferir a distribuição dos clusters\n",
    "print(df_kmeans_salario['cluster_salario'].value_counts())"
   ]
  },
  {
   "cell_type": "markdown",
   "id": "1e63dc6e",
   "metadata": {},
   "source": [
    "Calculando a mediana do salário por cluster e imputando no DataFrame"
   ]
  },
  {
   "cell_type": "code",
   "execution_count": 143,
   "id": "1abee0a2",
   "metadata": {},
   "outputs": [
    {
     "name": "stdout",
     "output_type": "stream",
     "text": [
      "Salário líquido mensal nulo após imputação: 0\n"
     ]
    }
   ],
   "source": [
    "# Criar cópia do DataFrame com idade já imputada\n",
    "df_processado_kmeans2 = df_processado_kmeans1.copy()\n",
    "\n",
    "# Calcular a mediana de salario_liquido_mensal para cada cluster\n",
    "mediana_salario_cluster = df_kmeans_salario.groupby('cluster_salario')['salario_liquido_mensal'].median()\n",
    "\n",
    "# Iterar sobre os clusters e imputar os salários faltantes com a mediana de cada cluster\n",
    "for cluster in mediana_salario_cluster.index:\n",
    "    salario_mediana = mediana_salario_cluster.loc[cluster]\n",
    "    df_processado_kmeans2.loc[\n",
    "        (df_processado_kmeans2['salario_liquido_mensal'].isna()) &\n",
    "        (df_kmeans_salario['cluster_salario'] == cluster),\n",
    "        'salario_liquido_mensal'\n",
    "    ] = salario_mediana\n",
    "\n",
    "# Conferindo se ainda existem salários nulos após a imputação\n",
    "print(\"Salário líquido mensal nulo após imputação:\", df_processado_kmeans2['salario_liquido_mensal'].isna().sum())\n"
   ]
  },
  {
   "cell_type": "code",
   "execution_count": 144,
   "id": "848e2058",
   "metadata": {},
   "outputs": [
    {
     "name": "stdout",
     "output_type": "stream",
     "text": [
      "Idades nulas no df_processado: 0\n",
      "Salário líquido mensal nulo no df_processado: 0\n"
     ]
    }
   ],
   "source": [
    "# Atualizando df_processado com os valores imputados de idade e salario_liquido_mensal\n",
    "df_processado.update(df_processado_kmeans2[['idade', 'salario_liquido_mensal']])\n",
    "\n",
    "# Conferindo se restaram valores nulos\n",
    "print(\"Idades nulas no df_processado:\", df_processado['idade'].isna().sum())\n",
    "print(\"Salário líquido mensal nulo no df_processado:\", df_processado['salario_liquido_mensal'].isna().sum())\n"
   ]
  },
  {
   "cell_type": "markdown",
   "id": "bb1f311c",
   "metadata": {},
   "source": [
    "## Tipos de Empréstimos "
   ]
  },
  {
   "cell_type": "code",
   "execution_count": 145,
   "id": "4a8bf787",
   "metadata": {},
   "outputs": [
    {
     "name": "stdout",
     "output_type": "stream",
     "text": [
      "['Auto Loan, Credit-Builder Loan, Personal Loan, and Home Equity Loan'\n",
      " 'Credit-Builder Loan' 'Auto Loan, Auto Loan, and Not Specified' ...\n",
      " 'Home Equity Loan, Auto Loan, Auto Loan, and Auto Loan'\n",
      " 'Payday Loan, Student Loan, Mortgage Loan, and Not Specified'\n",
      " 'Personal Loan, Auto Loan, Mortgage Loan, Student Loan, and Student Loan']\n"
     ]
    }
   ],
   "source": [
    "print(df_processado['tipos_emprestimos'].unique())"
   ]
  },
  {
   "cell_type": "code",
   "execution_count": 146,
   "id": "65600a58",
   "metadata": {},
   "outputs": [
    {
     "name": "stdout",
     "output_type": "stream",
     "text": [
      "Quantidade de valores únicos em tipos_emprestimos: 6260\n"
     ]
    }
   ],
   "source": [
    "# Contando valores únicos\n",
    "qtd_unicos = df_processado['tipos_emprestimos'].nunique()\n",
    "\n",
    "print(f\"Quantidade de valores únicos em tipos_emprestimos: {qtd_unicos}\")\n"
   ]
  },
  {
   "cell_type": "code",
   "execution_count": 147,
   "id": "c8935004",
   "metadata": {},
   "outputs": [
    {
     "data": {
      "text/plain": [
       "tipos_emprestimos\n",
       "Not Specified                               1408\n",
       "Credit-Builder Loan                         1280\n",
       "Personal Loan                               1272\n",
       "Debt Consolidation Loan                     1264\n",
       "Student Loan                                1240\n",
       "Payday Loan                                 1200\n",
       "Mortgage Loan                               1176\n",
       "Auto Loan                                   1152\n",
       "Home Equity Loan                            1136\n",
       "Personal Loan, and Student Loan              320\n",
       "Not Specified, and Payday Loan               272\n",
       "Mortgage Loan, and Home Equity Loan          264\n",
       "Student Loan, and Payday Loan                256\n",
       "Credit-Builder Loan, and Not Specified       248\n",
       "Student Loan, and Credit-Builder Loan        248\n",
       "Payday Loan, and Debt Consolidation Loan     240\n",
       "Payday Loan, and Auto Loan                   240\n",
       "Credit-Builder Loan, and Mortgage Loan       232\n",
       "Payday Loan, and Personal Loan               232\n",
       "Personal Loan, and Credit-Builder Loan       232\n",
       "Name: count, dtype: int64"
      ]
     },
     "execution_count": 147,
     "metadata": {},
     "output_type": "execute_result"
    }
   ],
   "source": [
    "# Listar as 20 combinações mais comuns de tipos de empréstimos\n",
    "df_processado['tipos_emprestimos'].value_counts().iloc[:20]\n"
   ]
  },
  {
   "cell_type": "markdown",
   "id": "555b8ab7",
   "metadata": {},
   "source": [
    "Plano de tratamento para a coluna:\n",
    "\n",
    "Se a célula contiver vírgula, indicando mais de um tipo de empréstimo, a classificação será “Two or More Types of Loan”.\n",
    "\n",
    "Se o valor for nulo (NaN), será preenchido como “Not Specified”.\n",
    "\n",
    "Se houver apenas um tipo de empréstimo, como por exemplo “Auto Loan”, o nome do empréstimo será mantido exatamente como está."
   ]
  },
  {
   "cell_type": "code",
   "execution_count": 148,
   "id": "5ad3463d",
   "metadata": {},
   "outputs": [
    {
     "data": {
      "text/plain": [
       "tipos_emprestimos_simplificado\n",
       "Two or More Types of Loan    77464\n",
       "Not Specified                12816\n",
       "Credit-Builder Loan           1280\n",
       "Personal Loan                 1272\n",
       "Debt Consolidation Loan       1264\n",
       "Student Loan                  1240\n",
       "Payday Loan                   1200\n",
       "Mortgage Loan                 1176\n",
       "Auto Loan                     1152\n",
       "Home Equity Loan              1136\n",
       "Name: count, dtype: int64"
      ]
     },
     "execution_count": 148,
     "metadata": {},
     "output_type": "execute_result"
    }
   ],
   "source": [
    "# Criar uma cópia da coluna para não sobrescrever de imediato\n",
    "df_processado['tipos_emprestimos_simplificado'] = df_processado['tipos_emprestimos']\n",
    "\n",
    "# Substituir os nulos por 'Not Specified'\n",
    "df_processado['tipos_emprestimos_simplificado'] = df_processado['tipos_emprestimos_simplificado'].fillna('Not Specified')\n",
    "\n",
    "# Se houver vírgula, significa mais de um empréstimo\n",
    "df_processado.loc[df_processado['tipos_emprestimos_simplificado'].str.contains(','), 'tipos_emprestimos_simplificado'] = 'Two or More Types of Loan'\n",
    "\n",
    "# Conferir distribuição final\n",
    "df_processado['tipos_emprestimos_simplificado'].value_counts()\n"
   ]
  },
  {
   "cell_type": "code",
   "execution_count": 149,
   "id": "4853cc83",
   "metadata": {},
   "outputs": [],
   "source": [
    "# Removendo a coluna original para manter apenas a versão tratada\n",
    "df_processado.drop(columns=['tipos_emprestimos'], inplace=True)\n",
    "\n",
    "# Renomeando a coluna simplificada para voltar ao nome original\n",
    "df_processado.rename(columns={'tipos_emprestimos_simplificado': 'tipos_emprestimos'}, inplace=True)"
   ]
  },
  {
   "cell_type": "markdown",
   "id": "900c7860",
   "metadata": {},
   "source": [
    "## Tempo Histórico Crédito"
   ]
  },
  {
   "cell_type": "code",
   "execution_count": 150,
   "id": "3dd104e4",
   "metadata": {},
   "outputs": [
    {
     "name": "stdout",
     "output_type": "stream",
     "text": [
      "Quantidade de valores únicos em tempo_historico_credito: 404\n",
      "['22 Years and 1 Months' nan '22 Years and 3 Months'\n",
      " '22 Years and 4 Months' '22 Years and 5 Months' '22 Years and 6 Months'\n",
      " '22 Years and 7 Months' '26 Years and 7 Months' '26 Years and 8 Months'\n",
      " '26 Years and 9 Months' '26 Years and 10 Months' '26 Years and 11 Months'\n",
      " '27 Years and 0 Months' '27 Years and 1 Months' '27 Years and 2 Months'\n",
      " '17 Years and 9 Months' '17 Years and 10 Months' '17 Years and 11 Months'\n",
      " '18 Years and 1 Months' '18 Years and 2 Months']\n"
     ]
    }
   ],
   "source": [
    "# Contar quantos valores únicos existem\n",
    "qtd_unicos_tempo = df_processado['tempo_historico_credito'].nunique()\n",
    "\n",
    "print(f\"Quantidade de valores únicos em tempo_historico_credito: {qtd_unicos_tempo}\")\n",
    "\n",
    "# Exibir os 20 primeiros valores únicos para entender o formato\n",
    "valores_unicos = df_processado['tempo_historico_credito'].unique()[:20]\n",
    "print(valores_unicos)\n"
   ]
  },
  {
   "cell_type": "markdown",
   "id": "5afbf593",
   "metadata": {},
   "source": [
    " Transformar o tempo de histórico de crédito em meses numéricos"
   ]
  },
  {
   "cell_type": "code",
   "execution_count": 151,
   "id": "1d3943ba",
   "metadata": {},
   "outputs": [
    {
     "name": "stdout",
     "output_type": "stream",
     "text": [
      "  tempo_historico_credito  tempo_historico_credito_meses\n",
      "0   22 Years and 1 Months                         265.00\n",
      "1                     NaN                            NaN\n",
      "2   22 Years and 3 Months                         267.00\n",
      "3   22 Years and 4 Months                         268.00\n",
      "4   22 Years and 5 Months                         269.00\n",
      "5   22 Years and 6 Months                         270.00\n",
      "6   22 Years and 7 Months                         271.00\n",
      "7                     NaN                            NaN\n",
      "8   26 Years and 7 Months                         319.00\n",
      "9   26 Years and 8 Months                         320.00\n"
     ]
    }
   ],
   "source": [
    "\n",
    "# Função para converter o tempo de histórico em meses\n",
    "def convert_to_months(value):\n",
    "    if isinstance(value, str):\n",
    "        match = re.search(r'(\\d+)\\s+Years?.*?(\\d+)\\s+Months?', value)\n",
    "        if match:\n",
    "            years = int(match.group(1))\n",
    "            months = int(match.group(2))\n",
    "            return years * 12 + months\n",
    "    return np.nan  # retorna NaN para valores inválidos ou ausentes\n",
    "\n",
    "# Aplicar a função na coluna tempo_historico_credito\n",
    "df_processado['tempo_historico_credito_meses'] = df_processado['tempo_historico_credito'].apply(convert_to_months)\n",
    "\n",
    "# Conferir os primeiros valores convertidos\n",
    "print(df_processado[['tempo_historico_credito', 'tempo_historico_credito_meses']].head(10))\n"
   ]
  },
  {
   "cell_type": "markdown",
   "id": "17a52f7b",
   "metadata": {},
   "source": [
    " Imputando valores nulos de tempo_historico_credito_meses com a mediana"
   ]
  },
  {
   "cell_type": "code",
   "execution_count": 152,
   "id": "31dc1f70",
   "metadata": {},
   "outputs": [
    {
     "name": "stdout",
     "output_type": "stream",
     "text": [
      "Valores nulos restantes: 0\n",
      "Mediana usada na imputação: 219.0\n"
     ]
    }
   ],
   "source": [
    "# Calcular a mediana\n",
    "mediana_tempo = df_processado['tempo_historico_credito_meses'].median()\n",
    "\n",
    "# Substituir os valores nulos pela mediana (sem usar inplace)\n",
    "df_processado['tempo_historico_credito_meses'] = df_processado['tempo_historico_credito_meses'].fillna(mediana_tempo)\n",
    "\n",
    "# Conferir se ainda existem valores nulos\n",
    "print(\"Valores nulos restantes:\", df_processado['tempo_historico_credito_meses'].isna().sum())\n",
    "print(f\"Mediana usada na imputação: {mediana_tempo}\")\n"
   ]
  },
  {
   "cell_type": "markdown",
   "id": "df6659af",
   "metadata": {},
   "source": [
    " Remover a original e deixar a versão com “_meses”"
   ]
  },
  {
   "cell_type": "code",
   "execution_count": 153,
   "id": "e1f54313",
   "metadata": {},
   "outputs": [],
   "source": [
    "# Remover a coluna original em texto, mantendo apenas a versão em meses\n",
    "df_processado.drop(columns=['tempo_historico_credito'], inplace=True)\n",
    "\n",
    "\n"
   ]
  },
  {
   "cell_type": "code",
   "execution_count": 154,
   "id": "4a383aef",
   "metadata": {},
   "outputs": [
    {
     "data": {
      "text/plain": [
       "0   265.00\n",
       "1   219.00\n",
       "2   267.00\n",
       "Name: tempo_historico_credito_meses, dtype: float64"
      ]
     },
     "execution_count": 154,
     "metadata": {},
     "output_type": "execute_result"
    }
   ],
   "source": [
    "# Conferindo se a coluna foi removida e a versão em meses está presente\n",
    "df_processado.tempo_historico_credito_meses.head(3)"
   ]
  },
  {
   "cell_type": "code",
   "execution_count": 155,
   "id": "6d58c35f",
   "metadata": {},
   "outputs": [
    {
     "name": "stdout",
     "output_type": "stream",
     "text": [
      "int64\n"
     ]
    }
   ],
   "source": [
    "# Converter a coluna para inteiro\n",
    "df_processado['tempo_historico_credito_meses'] = df_processado['tempo_historico_credito_meses'].astype(int)\n",
    "\n",
    "# Conferir o novo tipo\n",
    "print(df_processado['tempo_historico_credito_meses'].dtype)"
   ]
  },
  {
   "cell_type": "markdown",
   "id": "bf8b9d8f",
   "metadata": {},
   "source": [
    "## Valor Investido Mensal"
   ]
  },
  {
   "cell_type": "code",
   "execution_count": 156,
   "id": "aaeece5d",
   "metadata": {},
   "outputs": [
    {
     "data": {
      "text/plain": [
       "0     80.41529543900253\n",
       "1    118.28022162236736\n",
       "2       81.699521264648\n",
       "3     199.4580743910713\n",
       "4    41.420153086217326\n",
       "5    62.430172331195294\n",
       "6     178.3440674122349\n",
       "7    24.785216509052056\n",
       "8      104.291825168246\n",
       "9     40.39123782853101\n",
       "Name: valor_investido_mensal, dtype: object"
      ]
     },
     "execution_count": 156,
     "metadata": {},
     "output_type": "execute_result"
    }
   ],
   "source": [
    "# Visualizando os primeiros valores da coluna 'valor_investido_mensal'\n",
    "df_processado['valor_investido_mensal'].head(10)\n"
   ]
  },
  {
   "cell_type": "code",
   "execution_count": 157,
   "id": "6becde8c",
   "metadata": {},
   "outputs": [
    {
     "data": {
      "text/plain": [
       "array(['80.41529543900253', '118.28022162236736', '81.699521264648',\n",
       "       '199.4580743910713', '41.420153086217326', '62.430172331195294',\n",
       "       '178.3440674122349', '24.785216509052056', '104.291825168246',\n",
       "       '40.39123782853101', '58.51597569589465', '99.30622796053305',\n",
       "       '130.11542024292334', '43.477190144355745', '70.10177420755677',\n",
       "       '218.90434353388733', '168.413702679309', '232.86038375993544',\n",
       "       '__10000__', '825.2162699393922', '430.9475278803298',\n",
       "       '257.80809942568976', '263.17416316163934', '81.22885871073616',\n",
       "       '124.88181990234848', '83.40650880252501', '272.3340373956682',\n",
       "       '84.95284817115969', '71.28367488286933', '125.61725053231268'],\n",
       "      dtype=object)"
      ]
     },
     "execution_count": 157,
     "metadata": {},
     "output_type": "execute_result"
    }
   ],
   "source": [
    "# Mostrando os 30 primeiros valores únicos da coluna 'valor_investido_mensal'\n",
    "df_processado['valor_investido_mensal'].unique()[:30]\n"
   ]
  },
  {
   "cell_type": "markdown",
   "id": "8ab2b0ab",
   "metadata": {},
   "source": [
    "Limpando valor_investido_mensal com placeholder 999999 e conversão direta para float"
   ]
  },
  {
   "cell_type": "code",
   "execution_count": 158,
   "id": "62658783",
   "metadata": {},
   "outputs": [
    {
     "name": "stdout",
     "output_type": "stream",
     "text": [
      "<class 'pandas.core.series.Series'>\n",
      "RangeIndex: 100000 entries, 0 to 99999\n",
      "Series name: valor_investido_mensal\n",
      "Non-Null Count   Dtype  \n",
      "--------------   -----  \n",
      "100000 non-null  float64\n",
      "dtypes: float64(1)\n",
      "memory usage: 781.4 KB\n"
     ]
    },
    {
     "data": {
      "text/plain": [
       "0    80.42\n",
       "1   118.28\n",
       "2    81.70\n",
       "3   199.46\n",
       "4    41.42\n",
       "5    62.43\n",
       "6   178.34\n",
       "7    24.79\n",
       "8   104.29\n",
       "9    40.39\n",
       "Name: valor_investido_mensal, dtype: float64"
      ]
     },
     "execution_count": 158,
     "metadata": {},
     "output_type": "execute_result"
    }
   ],
   "source": [
    "# 1. Remover underscores do início e do fim\n",
    "df_processado['valor_investido_mensal'] = df_processado['valor_investido_mensal'].str.replace(r'^_+|_+$', '', regex=True)\n",
    "\n",
    "# 2. Substituir nulos pelo placeholder 999999\n",
    "df_processado['valor_investido_mensal'] = df_processado['valor_investido_mensal'].fillna('999999')\n",
    "\n",
    "# 3. Converter para float diretamente\n",
    "df_processado['valor_investido_mensal'] = df_processado['valor_investido_mensal'].astype(float)\n",
    "\n",
    "# 4. Conferir se deu certo\n",
    "df_processado['valor_investido_mensal'].info()\n",
    "df_processado['valor_investido_mensal'].head(10)\n"
   ]
  },
  {
   "cell_type": "markdown",
   "id": "35815402",
   "metadata": {},
   "source": [
    "Estamos utilizando os clusters do KMeans porque eles representam grupos de clientes com perfis financeiros semelhantes, baseados em variáveis como renda, idade, dívidas e limites de crédito. Assim, ao imputar os valores ausentes de valor_investido_mensal pela mediana de cada cluster, garantimos que os valores preenchidos sejam mais coerentes com o perfil de cada cliente do que se usássemos apenas uma mediana global."
   ]
  },
  {
   "cell_type": "code",
   "execution_count": 159,
   "id": "478be79a",
   "metadata": {},
   "outputs": [
    {
     "name": "stdout",
     "output_type": "stream",
     "text": [
      "Colunas disponíveis: ['mes', 'idade', 'ocupacao', 'renda_anual', 'salario_liquido_mensal', 'qtd_contas_bancarias', 'qtd_cartoes_credito', 'taxa_juros', 'qtd_emprestimos', 'dias_atraso_pagamento', 'qtd_pagamentos_atrasados', 'variacao_limite_credito', 'qtd_consultas_credito', 'mix_credito', 'divida_pendente', 'percentual_utilizacao_credito', 'pagamento_valor_minimo', 'total_emprestimos_mensal', 'valor_investido_mensal', 'comportamento_pagamento', 'saldo_mensal', 'score_credito', 'tipos_emprestimos', 'tempo_historico_credito_meses', 'cluster_salario']\n",
      "Total de valores 999999 em valor_investido_mensal: 4479\n"
     ]
    }
   ],
   "source": [
    "# Criar DataFrame de imputação a partir do df_processado\n",
    "df_para_imputacao_valor_investido_mensal = df_processado.copy()\n",
    "\n",
    "# Adicionar a coluna de cluster já criada no KMeans com idade\n",
    "df_para_imputacao_valor_investido_mensal['cluster_salario'] = df_kmeans_salario['cluster_salario']\n",
    "\n",
    "# Garantir que a coluna valor_investido_mensal esteja presente\n",
    "print(\"Colunas disponíveis:\", df_para_imputacao_valor_investido_mensal.columns.tolist())\n",
    "print(\"Total de valores 999999 em valor_investido_mensal:\", (df_para_imputacao_valor_investido_mensal['valor_investido_mensal'] == 999999).sum())\n"
   ]
  },
  {
   "cell_type": "code",
   "execution_count": 160,
   "id": "f7cd5012",
   "metadata": {},
   "outputs": [
    {
     "name": "stdout",
     "output_type": "stream",
     "text": [
      "Placeholders restantes: 0\n"
     ]
    }
   ],
   "source": [
    "# Calcular a mediana do valor investido mensal por cluster (ignorando o placeholder 999999)\n",
    "mediana_investimento_cluster = df_para_imputacao_valor_investido_mensal.loc[\n",
    "    df_para_imputacao_valor_investido_mensal['valor_investido_mensal'] != 999999\n",
    "].groupby('cluster_salario')['valor_investido_mensal'].median()\n",
    "\n",
    "# Criar uma cópia do df_processado para registrar a imputação final\n",
    "df_processado_kmeans3 = df_processado.copy()\n",
    "\n",
    "# Substituir 999999 pela mediana do cluster\n",
    "for cluster in mediana_investimento_cluster.index:\n",
    "    investimento_mediana = mediana_investimento_cluster.loc[cluster]\n",
    "    df_processado_kmeans3.loc[\n",
    "        (df_para_imputacao_valor_investido_mensal['cluster_salario'] == cluster) &\n",
    "        (df_processado_kmeans3['valor_investido_mensal'] == 999999),\n",
    "        'valor_investido_mensal'\n",
    "    ] = investimento_mediana\n",
    "\n",
    "# Conferir se ainda existe placeholder\n",
    "placeholders_restantes = (df_processado_kmeans3['valor_investido_mensal'] == 999999).sum()\n",
    "print(f\"Placeholders restantes: {placeholders_restantes}\")\n"
   ]
  },
  {
   "cell_type": "markdown",
   "id": "bcfd6837",
   "metadata": {},
   "source": [
    "Atualizando valor_investido_mensal no DataFrame principal"
   ]
  },
  {
   "cell_type": "code",
   "execution_count": 161,
   "id": "d31f620b",
   "metadata": {},
   "outputs": [
    {
     "name": "stdout",
     "output_type": "stream",
     "text": [
      "Valores nulos após atualização: 0\n",
      "Maior valor da coluna: 10000.0\n",
      "Menor valor da coluna: 0.0\n"
     ]
    },
    {
     "data": {
      "text/html": [
       "<div>\n",
       "<style scoped>\n",
       "    .dataframe tbody tr th:only-of-type {\n",
       "        vertical-align: middle;\n",
       "    }\n",
       "\n",
       "    .dataframe tbody tr th {\n",
       "        vertical-align: top;\n",
       "    }\n",
       "\n",
       "    .dataframe thead th {\n",
       "        text-align: right;\n",
       "    }\n",
       "</style>\n",
       "<table border=\"1\" class=\"dataframe\">\n",
       "  <thead>\n",
       "    <tr style=\"text-align: right;\">\n",
       "      <th></th>\n",
       "      <th>valor_investido_mensal</th>\n",
       "    </tr>\n",
       "  </thead>\n",
       "  <tbody>\n",
       "    <tr>\n",
       "      <th>0</th>\n",
       "      <td>80.42</td>\n",
       "    </tr>\n",
       "    <tr>\n",
       "      <th>1</th>\n",
       "      <td>118.28</td>\n",
       "    </tr>\n",
       "    <tr>\n",
       "      <th>2</th>\n",
       "      <td>81.70</td>\n",
       "    </tr>\n",
       "    <tr>\n",
       "      <th>3</th>\n",
       "      <td>199.46</td>\n",
       "    </tr>\n",
       "    <tr>\n",
       "      <th>4</th>\n",
       "      <td>41.42</td>\n",
       "    </tr>\n",
       "    <tr>\n",
       "      <th>5</th>\n",
       "      <td>62.43</td>\n",
       "    </tr>\n",
       "    <tr>\n",
       "      <th>6</th>\n",
       "      <td>178.34</td>\n",
       "    </tr>\n",
       "    <tr>\n",
       "      <th>7</th>\n",
       "      <td>24.79</td>\n",
       "    </tr>\n",
       "    <tr>\n",
       "      <th>8</th>\n",
       "      <td>104.29</td>\n",
       "    </tr>\n",
       "    <tr>\n",
       "      <th>9</th>\n",
       "      <td>40.39</td>\n",
       "    </tr>\n",
       "  </tbody>\n",
       "</table>\n",
       "</div>"
      ],
      "text/plain": [
       "   valor_investido_mensal\n",
       "0                   80.42\n",
       "1                  118.28\n",
       "2                   81.70\n",
       "3                  199.46\n",
       "4                   41.42\n",
       "5                   62.43\n",
       "6                  178.34\n",
       "7                   24.79\n",
       "8                  104.29\n",
       "9                   40.39"
      ]
     },
     "execution_count": 161,
     "metadata": {},
     "output_type": "execute_result"
    }
   ],
   "source": [
    "# Atualizando a coluna valor_investido_mensal no df_processado\n",
    "df_processado['valor_investido_mensal'] = df_processado_kmeans3['valor_investido_mensal']\n",
    "\n",
    "# Conferindo se a atualização deu certo\n",
    "print(\"Valores nulos após atualização:\", df_processado['valor_investido_mensal'].isna().sum())\n",
    "print(\"Maior valor da coluna:\", df_processado['valor_investido_mensal'].max())\n",
    "print(\"Menor valor da coluna:\", df_processado['valor_investido_mensal'].min())\n",
    "\n",
    "# Visualizando as 10 primeiras linhas para validar\n",
    "df_processado[['valor_investido_mensal']].head(10)\n"
   ]
  },
  {
   "cell_type": "markdown",
   "id": "eec8da5b",
   "metadata": {},
   "source": [
    "## Quantidade consultas mensal "
   ]
  },
  {
   "cell_type": "code",
   "execution_count": 162,
   "id": "2224507d",
   "metadata": {},
   "outputs": [
    {
     "data": {
      "text/plain": [
       "0   4.00\n",
       "1   4.00\n",
       "2   4.00\n",
       "3   4.00\n",
       "4   4.00\n",
       "5   4.00\n",
       "6   4.00\n",
       "7   4.00\n",
       "8   2.00\n",
       "9   2.00\n",
       "Name: qtd_consultas_credito, dtype: float64"
      ]
     },
     "execution_count": 162,
     "metadata": {},
     "output_type": "execute_result"
    }
   ],
   "source": [
    "df_processado.qtd_consultas_credito.head(10) "
   ]
  },
  {
   "cell_type": "code",
   "execution_count": 163,
   "id": "3b9da746",
   "metadata": {},
   "outputs": [
    {
     "data": {
      "text/plain": [
       "array([4.000e+00, 2.000e+00, 3.000e+00,       nan, 5.000e+00, 9.000e+00,\n",
       "       8.000e+00, 7.000e+00, 6.000e+00, 0.000e+00, 1.000e+00, 1.000e+01,\n",
       "       1.050e+03, 1.100e+01, 1.200e+01, 1.044e+03, 1.700e+01, 1.936e+03,\n",
       "       1.300e+01, 5.680e+02, 1.618e+03, 5.250e+02, 1.400e+01, 1.251e+03,\n",
       "       1.600e+01, 1.500e+01, 7.600e+01, 2.850e+02, 1.190e+02, 6.510e+02])"
      ]
     },
     "execution_count": 163,
     "metadata": {},
     "output_type": "execute_result"
    }
   ],
   "source": [
    "df_processado.qtd_consultas_credito.unique()[:30]  # Exibir os 30 primeiros valores únicos"
   ]
  },
  {
   "cell_type": "code",
   "execution_count": 164,
   "id": "809f6975",
   "metadata": {},
   "outputs": [
    {
     "name": "stdout",
     "output_type": "stream",
     "text": [
      "Valor mínimo: 0.0\n",
      "Valor máximo: 2597.0\n"
     ]
    },
    {
     "data": {
      "image/png": "[encoded data removed]",
      "text/plain": [
       "<Figure size 800x400 with 1 Axes>"
      ]
     },
     "metadata": {},
     "output_type": "display_data"
    }
   ],
   "source": [
    "# 1. Verificando valores mínimo e máximo\n",
    "min_valor = df_processado['qtd_consultas_credito'].min()\n",
    "max_valor = df_processado['qtd_consultas_credito'].max()\n",
    "\n",
    "print(f\"Valor mínimo: {min_valor}\")\n",
    "print(f\"Valor máximo: {max_valor}\")\n",
    "\n",
    "# 2. Criando boxplot para visualizar distribuição\n",
    "plt.figure(figsize=(8,4))\n",
    "plt.boxplot(df_processado['qtd_consultas_credito'], vert=False)\n",
    "plt.title('Boxplot - Quantidade de Consultas de Crédito')\n",
    "plt.xlabel('Quantidade de Consultas')\n",
    "plt.show()\n"
   ]
  },
  {
   "cell_type": "code",
   "execution_count": 165,
   "id": "b1a7f7dc",
   "metadata": {},
   "outputs": [
    {
     "data": {
      "image/png": "[encoded data removed]",
      "text/plain": [
       "<Figure size 800x400 with 1 Axes>"
      ]
     },
     "metadata": {},
     "output_type": "display_data"
    },
    {
     "data": {
      "image/png": "[encoded data removed]",
      "text/plain": [
       "<Figure size 800x400 with 1 Axes>"
      ]
     },
     "metadata": {},
     "output_type": "display_data"
    }
   ],
   "source": [
    "# Novo boxplot limitando o eixo X para ver melhor a distribuição\n",
    "plt.figure(figsize=(8,4))\n",
    "plt.boxplot(df_processado['qtd_consultas_credito'], vert=False)\n",
    "plt.xlim(0, 50)  # limite para não distorcer a visualização\n",
    "plt.title('Boxplot - Quantidade de Consultas de Crédito (até 50)')\n",
    "plt.xlabel('Quantidade de Consultas')\n",
    "plt.show()\n",
    "\n",
    "# Histograma para entender a distribuição completa\n",
    "plt.figure(figsize=(8,4))\n",
    "plt.hist(df_processado['qtd_consultas_credito'], bins=50, edgecolor='black')\n",
    "plt.title('Histograma - Quantidade de Consultas de Crédito')\n",
    "plt.xlabel('Quantidade de Consultas')\n",
    "plt.ylabel('Frequência')\n",
    "plt.xlim(0, 200)  # zoom para ver melhor a área mais densa\n",
    "plt.show()\n"
   ]
  },
  {
   "cell_type": "markdown",
   "id": "9d12e955",
   "metadata": {},
   "source": [
    "A coluna qtd_consultas_credito tem a maioria dos valores baixos (0–20), mas também aparecem valores absurdamente altos como 1050, 1044, 1936, 1618, etc.\n",
    "\n",
    "Isso explica porque o boxplot ficou “em branco”: os outliers puxam o gráfico e esmagam os valores normais (0 a 10)."
   ]
  },
  {
   "cell_type": "markdown",
   "id": "141818ec",
   "metadata": {},
   "source": [
    "1 Identificar quantos valores são muito altos (ex.: acima de 50 consultas).\n",
    "2 Verificar a mediana dos valores normais para possível imputação.\n",
    "3 Decidir se substituímos valores absurdos pela mediana (ou máximo aceitável).\n",
    "\n"
   ]
  },
  {
   "cell_type": "code",
   "execution_count": 166,
   "id": "4f430376",
   "metadata": {},
   "outputs": [
    {
     "name": "stdout",
     "output_type": "stream",
     "text": [
      "Total de registros acima de 50: 1634\n",
      "Valores únicos acima de 50:\n",
      "[np.float64(52.0), np.float64(53.0), np.float64(54.0), np.float64(57.0), np.float64(59.0), np.float64(60.0), np.float64(61.0), np.float64(63.0), np.float64(64.0), np.float64(66.0), np.float64(67.0), np.float64(70.0), np.float64(71.0), np.float64(74.0), np.float64(76.0), np.float64(78.0), np.float64(83.0), np.float64(86.0), np.float64(87.0), np.float64(89.0), np.float64(93.0), np.float64(101.0), np.float64(103.0), np.float64(107.0), np.float64(112.0), np.float64(113.0), np.float64(114.0), np.float64(115.0), np.float64(116.0), np.float64(118.0), np.float64(119.0), np.float64(122.0), np.float64(125.0), np.float64(129.0), np.float64(131.0), np.float64(133.0), np.float64(134.0), np.float64(135.0), np.float64(137.0), np.float64(145.0), np.float64(150.0), np.float64(151.0), np.float64(152.0), np.float64(153.0), np.float64(154.0), np.float64(158.0), np.float64(159.0), np.float64(160.0), np.float64(163.0), np.float64(164.0), np.float64(168.0), np.float64(169.0), np.float64(171.0), np.float64(174.0), np.float64(177.0), np.float64(185.0), np.float64(186.0), np.float64(189.0), np.float64(190.0), np.float64(192.0), np.float64(193.0), np.float64(197.0), np.float64(198.0), np.float64(199.0), np.float64(202.0), np.float64(203.0), np.float64(205.0), np.float64(206.0), np.float64(207.0), np.float64(208.0), np.float64(209.0), np.float64(212.0), np.float64(215.0), np.float64(221.0), np.float64(223.0), np.float64(225.0), np.float64(227.0), np.float64(229.0), np.float64(232.0), np.float64(233.0), np.float64(234.0), np.float64(235.0), np.float64(237.0), np.float64(241.0), np.float64(243.0), np.float64(245.0), np.float64(247.0), np.float64(248.0), np.float64(251.0), np.float64(252.0), np.float64(253.0), np.float64(256.0), np.float64(257.0), np.float64(259.0), np.float64(260.0), np.float64(262.0), np.float64(263.0), np.float64(264.0), np.float64(265.0), np.float64(266.0), np.float64(267.0), np.float64(268.0), np.float64(272.0), np.float64(273.0), np.float64(274.0), np.float64(276.0), np.float64(278.0), np.float64(285.0), np.float64(287.0), np.float64(289.0), np.float64(292.0), np.float64(295.0), np.float64(297.0), np.float64(298.0), np.float64(299.0), np.float64(300.0), np.float64(301.0), np.float64(303.0), np.float64(304.0), np.float64(308.0), np.float64(309.0), np.float64(310.0), np.float64(315.0), np.float64(316.0), np.float64(318.0), np.float64(321.0), np.float64(325.0), np.float64(326.0), np.float64(327.0), np.float64(328.0), np.float64(333.0), np.float64(336.0), np.float64(337.0), np.float64(342.0), np.float64(343.0), np.float64(344.0), np.float64(349.0), np.float64(350.0), np.float64(354.0), np.float64(357.0), np.float64(360.0), np.float64(361.0), np.float64(362.0), np.float64(363.0), np.float64(364.0), np.float64(366.0), np.float64(371.0), np.float64(373.0), np.float64(376.0), np.float64(378.0), np.float64(380.0), np.float64(384.0), np.float64(385.0), np.float64(391.0), np.float64(393.0), np.float64(395.0), np.float64(397.0), np.float64(398.0), np.float64(399.0), np.float64(400.0), np.float64(408.0), np.float64(409.0), np.float64(412.0), np.float64(418.0), np.float64(419.0), np.float64(421.0), np.float64(422.0), np.float64(424.0), np.float64(426.0), np.float64(427.0), np.float64(439.0), np.float64(440.0), np.float64(443.0), np.float64(445.0), np.float64(446.0), np.float64(448.0), np.float64(449.0), np.float64(450.0), np.float64(455.0), np.float64(457.0), np.float64(458.0), np.float64(460.0), np.float64(462.0), np.float64(463.0), np.float64(464.0), np.float64(466.0), np.float64(468.0), np.float64(469.0), np.float64(470.0), np.float64(471.0), np.float64(473.0), np.float64(474.0), np.float64(477.0), np.float64(481.0), np.float64(484.0), np.float64(485.0), np.float64(486.0), np.float64(487.0), np.float64(488.0), np.float64(492.0), np.float64(493.0), np.float64(496.0), np.float64(501.0), np.float64(513.0), np.float64(514.0), np.float64(515.0), np.float64(516.0), np.float64(519.0), np.float64(521.0), np.float64(522.0), np.float64(524.0), np.float64(525.0), np.float64(528.0), np.float64(529.0), np.float64(530.0), np.float64(533.0), np.float64(536.0), np.float64(538.0), np.float64(540.0), np.float64(541.0), np.float64(542.0), np.float64(546.0), np.float64(547.0), np.float64(553.0), np.float64(556.0), np.float64(559.0), np.float64(560.0), np.float64(562.0), np.float64(563.0), np.float64(566.0), np.float64(568.0), np.float64(571.0), np.float64(574.0), np.float64(575.0), np.float64(576.0), np.float64(581.0), np.float64(583.0), np.float64(584.0), np.float64(585.0), np.float64(586.0), np.float64(589.0), np.float64(594.0), np.float64(596.0), np.float64(597.0), np.float64(599.0), np.float64(601.0), np.float64(602.0), np.float64(603.0), np.float64(605.0), np.float64(608.0), np.float64(609.0), np.float64(611.0), np.float64(612.0), np.float64(615.0), np.float64(620.0), np.float64(621.0), np.float64(623.0), np.float64(626.0), np.float64(627.0), np.float64(628.0), np.float64(630.0), np.float64(632.0), np.float64(634.0), np.float64(635.0), np.float64(637.0), np.float64(640.0), np.float64(641.0), np.float64(642.0), np.float64(643.0), np.float64(644.0), np.float64(645.0), np.float64(649.0), np.float64(650.0), np.float64(651.0), np.float64(654.0), np.float64(655.0), np.float64(657.0), np.float64(658.0), np.float64(661.0), np.float64(662.0), np.float64(670.0), np.float64(675.0), np.float64(678.0), np.float64(679.0), np.float64(682.0), np.float64(685.0), np.float64(686.0), np.float64(692.0), np.float64(693.0), np.float64(697.0), np.float64(699.0), np.float64(709.0), np.float64(710.0), np.float64(711.0), np.float64(713.0), np.float64(715.0), np.float64(716.0), np.float64(718.0), np.float64(719.0), np.float64(720.0), np.float64(725.0), np.float64(726.0), np.float64(727.0), np.float64(728.0), np.float64(732.0), np.float64(733.0), np.float64(735.0), np.float64(736.0), np.float64(737.0), np.float64(739.0), np.float64(743.0), np.float64(744.0), np.float64(747.0), np.float64(748.0), np.float64(753.0), np.float64(754.0), np.float64(755.0), np.float64(757.0), np.float64(758.0), np.float64(761.0), np.float64(762.0), np.float64(764.0), np.float64(769.0), np.float64(770.0), np.float64(772.0), np.float64(776.0), np.float64(777.0), np.float64(782.0), np.float64(783.0), np.float64(784.0), np.float64(790.0), np.float64(792.0), np.float64(793.0), np.float64(794.0), np.float64(795.0), np.float64(796.0), np.float64(797.0), np.float64(798.0), np.float64(803.0), np.float64(806.0), np.float64(807.0), np.float64(808.0), np.float64(809.0), np.float64(811.0), np.float64(815.0), np.float64(816.0), np.float64(817.0), np.float64(821.0), np.float64(822.0), np.float64(824.0), np.float64(826.0), np.float64(829.0), np.float64(831.0), np.float64(837.0), np.float64(838.0), np.float64(840.0), np.float64(846.0), np.float64(848.0), np.float64(850.0), np.float64(853.0), np.float64(854.0), np.float64(856.0), np.float64(858.0), np.float64(861.0), np.float64(862.0), np.float64(865.0), np.float64(867.0), np.float64(869.0), np.float64(871.0), np.float64(876.0), np.float64(877.0), np.float64(881.0), np.float64(883.0), np.float64(884.0), np.float64(887.0), np.float64(889.0), np.float64(890.0), np.float64(891.0), np.float64(893.0), np.float64(895.0), np.float64(900.0), np.float64(902.0), np.float64(905.0), np.float64(908.0), np.float64(909.0), np.float64(910.0), np.float64(914.0), np.float64(915.0), np.float64(917.0), np.float64(919.0), np.float64(920.0), np.float64(921.0), np.float64(923.0), np.float64(924.0), np.float64(925.0), np.float64(927.0), np.float64(928.0), np.float64(929.0), np.float64(934.0), np.float64(939.0), np.float64(945.0), np.float64(946.0), np.float64(947.0), np.float64(949.0), np.float64(951.0), np.float64(955.0), np.float64(957.0), np.float64(959.0), np.float64(963.0), np.float64(966.0), np.float64(967.0), np.float64(969.0), np.float64(975.0), np.float64(976.0), np.float64(977.0), np.float64(979.0), np.float64(980.0), np.float64(982.0), np.float64(984.0), np.float64(987.0), np.float64(991.0), np.float64(992.0), np.float64(993.0), np.float64(995.0), np.float64(996.0), np.float64(999.0), np.float64(1000.0), np.float64(1001.0), np.float64(1004.0), np.float64(1005.0), np.float64(1007.0), np.float64(1008.0), np.float64(1009.0), np.float64(1011.0), np.float64(1012.0), np.float64(1013.0), np.float64(1014.0), np.float64(1015.0), np.float64(1017.0), np.float64(1018.0), np.float64(1019.0), np.float64(1023.0), np.float64(1024.0), np.float64(1025.0), np.float64(1028.0), np.float64(1029.0), np.float64(1032.0), np.float64(1033.0), np.float64(1037.0), np.float64(1038.0), np.float64(1039.0), np.float64(1041.0), np.float64(1042.0), np.float64(1044.0), np.float64(1046.0), np.float64(1049.0), np.float64(1050.0), np.float64(1053.0), np.float64(1054.0), np.float64(1057.0), np.float64(1058.0), np.float64(1060.0), np.float64(1063.0), np.float64(1066.0), np.float64(1067.0), np.float64(1068.0), np.float64(1072.0), np.float64(1073.0), np.float64(1078.0), np.float64(1084.0), np.float64(1085.0), np.float64(1086.0), np.float64(1089.0), np.float64(1090.0), np.float64(1097.0), np.float64(1099.0), np.float64(1103.0), np.float64(1104.0), np.float64(1112.0), np.float64(1113.0), np.float64(1114.0), np.float64(1117.0), np.float64(1119.0), np.float64(1122.0), np.float64(1123.0), np.float64(1126.0), np.float64(1127.0), np.float64(1128.0), np.float64(1129.0), np.float64(1132.0), np.float64(1133.0), np.float64(1136.0), np.float64(1137.0), np.float64(1138.0), np.float64(1139.0), np.float64(1145.0), np.float64(1146.0), np.float64(1147.0), np.float64(1150.0), np.float64(1151.0), np.float64(1153.0), np.float64(1154.0), np.float64(1155.0), np.float64(1156.0), np.float64(1157.0), np.float64(1158.0), np.float64(1159.0), np.float64(1163.0), np.float64(1165.0), np.float64(1166.0), np.float64(1167.0), np.float64(1168.0), np.float64(1169.0), np.float64(1172.0), np.float64(1173.0), np.float64(1175.0), np.float64(1178.0), np.float64(1179.0), np.float64(1180.0), np.float64(1181.0), np.float64(1182.0), np.float64(1183.0), np.float64(1187.0), np.float64(1188.0), np.float64(1189.0), np.float64(1191.0), np.float64(1192.0), np.float64(1194.0), np.float64(1196.0), np.float64(1197.0), np.float64(1198.0), np.float64(1201.0), np.float64(1202.0), np.float64(1203.0), np.float64(1204.0), np.float64(1205.0), np.float64(1206.0), np.float64(1207.0), np.float64(1213.0), np.float64(1216.0), np.float64(1217.0), np.float64(1220.0), np.float64(1221.0), np.float64(1223.0), np.float64(1224.0), np.float64(1226.0), np.float64(1227.0), np.float64(1230.0), np.float64(1232.0), np.float64(1233.0), np.float64(1234.0), np.float64(1236.0), np.float64(1238.0), np.float64(1240.0), np.float64(1241.0), np.float64(1243.0), np.float64(1244.0), np.float64(1245.0), np.float64(1246.0), np.float64(1247.0), np.float64(1251.0), np.float64(1252.0), np.float64(1253.0), np.float64(1255.0), np.float64(1258.0), np.float64(1261.0), np.float64(1262.0), np.float64(1263.0), np.float64(1265.0), np.float64(1266.0), np.float64(1269.0), np.float64(1271.0), np.float64(1274.0), np.float64(1275.0), np.float64(1278.0), np.float64(1279.0), np.float64(1282.0), np.float64(1283.0), np.float64(1286.0), np.float64(1287.0), np.float64(1288.0), np.float64(1291.0), np.float64(1294.0), np.float64(1297.0), np.float64(1299.0), np.float64(1302.0), np.float64(1303.0), np.float64(1307.0), np.float64(1308.0), np.float64(1309.0), np.float64(1310.0), np.float64(1311.0), np.float64(1312.0), np.float64(1313.0), np.float64(1314.0), np.float64(1315.0), np.float64(1316.0), np.float64(1318.0), np.float64(1319.0), np.float64(1324.0), np.float64(1327.0), np.float64(1329.0), np.float64(1331.0), np.float64(1332.0), np.float64(1333.0), np.float64(1334.0), np.float64(1335.0), np.float64(1337.0), np.float64(1338.0), np.float64(1339.0), np.float64(1340.0), np.float64(1343.0), np.float64(1344.0), np.float64(1345.0), np.float64(1346.0), np.float64(1347.0), np.float64(1348.0), np.float64(1351.0), np.float64(1352.0), np.float64(1355.0), np.float64(1361.0), np.float64(1362.0), np.float64(1366.0), np.float64(1368.0), np.float64(1369.0), np.float64(1370.0), np.float64(1371.0), np.float64(1372.0), np.float64(1375.0), np.float64(1377.0), np.float64(1379.0), np.float64(1380.0), np.float64(1381.0), np.float64(1383.0), np.float64(1385.0), np.float64(1386.0), np.float64(1387.0), np.float64(1388.0), np.float64(1389.0), np.float64(1390.0), np.float64(1391.0), np.float64(1393.0), np.float64(1395.0), np.float64(1396.0), np.float64(1399.0), np.float64(1402.0), np.float64(1404.0), np.float64(1408.0), np.float64(1410.0), np.float64(1411.0), np.float64(1412.0), np.float64(1415.0), np.float64(1417.0), np.float64(1418.0), np.float64(1419.0), np.float64(1420.0), np.float64(1423.0), np.float64(1424.0), np.float64(1425.0), np.float64(1427.0), np.float64(1428.0), np.float64(1429.0), np.float64(1430.0), np.float64(1432.0), np.float64(1433.0), np.float64(1436.0), np.float64(1437.0), np.float64(1439.0), np.float64(1440.0), np.float64(1442.0), np.float64(1447.0), np.float64(1450.0), np.float64(1451.0), np.float64(1453.0), np.float64(1456.0), np.float64(1459.0), np.float64(1460.0), np.float64(1464.0), np.float64(1465.0), np.float64(1468.0), np.float64(1469.0), np.float64(1472.0), np.float64(1475.0), np.float64(1479.0), np.float64(1480.0), np.float64(1481.0), np.float64(1483.0), np.float64(1485.0), np.float64(1487.0), np.float64(1490.0), np.float64(1493.0), np.float64(1494.0), np.float64(1496.0), np.float64(1497.0), np.float64(1498.0), np.float64(1500.0), np.float64(1502.0), np.float64(1506.0), np.float64(1511.0), np.float64(1512.0), np.float64(1513.0), np.float64(1515.0), np.float64(1517.0), np.float64(1521.0), np.float64(1523.0), np.float64(1525.0), np.float64(1527.0), np.float64(1529.0), np.float64(1530.0), np.float64(1531.0), np.float64(1534.0), np.float64(1535.0), np.float64(1540.0), np.float64(1541.0), np.float64(1543.0), np.float64(1545.0), np.float64(1547.0), np.float64(1548.0), np.float64(1549.0), np.float64(1554.0), np.float64(1555.0), np.float64(1560.0), np.float64(1561.0), np.float64(1562.0), np.float64(1565.0), np.float64(1566.0), np.float64(1568.0), np.float64(1572.0), np.float64(1573.0), np.float64(1575.0), np.float64(1577.0), np.float64(1579.0), np.float64(1580.0), np.float64(1581.0), np.float64(1582.0), np.float64(1584.0), np.float64(1588.0), np.float64(1594.0), np.float64(1598.0), np.float64(1599.0), np.float64(1601.0), np.float64(1603.0), np.float64(1604.0), np.float64(1605.0), np.float64(1607.0), np.float64(1608.0), np.float64(1609.0), np.float64(1615.0), np.float64(1616.0), np.float64(1618.0), np.float64(1619.0), np.float64(1622.0), np.float64(1626.0), np.float64(1632.0), np.float64(1633.0), np.float64(1634.0), np.float64(1638.0), np.float64(1639.0), np.float64(1640.0), np.float64(1641.0), np.float64(1647.0), np.float64(1649.0), np.float64(1650.0), np.float64(1654.0), np.float64(1656.0), np.float64(1657.0), np.float64(1659.0), np.float64(1661.0), np.float64(1662.0), np.float64(1664.0), np.float64(1668.0), np.float64(1672.0), np.float64(1673.0), np.float64(1675.0), np.float64(1677.0), np.float64(1680.0), np.float64(1682.0), np.float64(1683.0), np.float64(1685.0), np.float64(1688.0), np.float64(1689.0), np.float64(1690.0), np.float64(1693.0), np.float64(1695.0), np.float64(1697.0), np.float64(1702.0), np.float64(1707.0), np.float64(1709.0), np.float64(1710.0), np.float64(1713.0), np.float64(1721.0), np.float64(1725.0), np.float64(1726.0), np.float64(1727.0), np.float64(1729.0), np.float64(1732.0), np.float64(1734.0), np.float64(1736.0), np.float64(1740.0), np.float64(1741.0), np.float64(1743.0), np.float64(1744.0), np.float64(1748.0), np.float64(1750.0), np.float64(1751.0), np.float64(1753.0), np.float64(1754.0), np.float64(1758.0), np.float64(1760.0), np.float64(1761.0), np.float64(1762.0), np.float64(1766.0), np.float64(1768.0), np.float64(1771.0), np.float64(1772.0), np.float64(1775.0), np.float64(1776.0), np.float64(1779.0), np.float64(1782.0), np.float64(1786.0), np.float64(1787.0), np.float64(1788.0), np.float64(1791.0), np.float64(1793.0), np.float64(1795.0), np.float64(1796.0), np.float64(1801.0), np.float64(1803.0), np.float64(1804.0), np.float64(1805.0), np.float64(1807.0), np.float64(1808.0), np.float64(1809.0), np.float64(1815.0), np.float64(1816.0), np.float64(1817.0), np.float64(1820.0), np.float64(1825.0), np.float64(1826.0), np.float64(1827.0), np.float64(1829.0), np.float64(1830.0), np.float64(1833.0), np.float64(1834.0), np.float64(1836.0), np.float64(1839.0), np.float64(1841.0), np.float64(1842.0), np.float64(1843.0), np.float64(1845.0), np.float64(1854.0), np.float64(1855.0), np.float64(1862.0), np.float64(1864.0), np.float64(1866.0), np.float64(1867.0), np.float64(1868.0), np.float64(1870.0), np.float64(1871.0), np.float64(1872.0), np.float64(1873.0), np.float64(1876.0), np.float64(1879.0), np.float64(1880.0), np.float64(1881.0), np.float64(1888.0), np.float64(1889.0), np.float64(1890.0), np.float64(1893.0), np.float64(1895.0), np.float64(1899.0), np.float64(1902.0), np.float64(1903.0), np.float64(1905.0), np.float64(1906.0), np.float64(1907.0), np.float64(1908.0), np.float64(1909.0), np.float64(1914.0), np.float64(1918.0), np.float64(1920.0), np.float64(1921.0), np.float64(1922.0), np.float64(1926.0), np.float64(1931.0), np.float64(1936.0), np.float64(1938.0), np.float64(1940.0), np.float64(1941.0), np.float64(1942.0), np.float64(1950.0), np.float64(1951.0), np.float64(1952.0), np.float64(1953.0), np.float64(1954.0), np.float64(1955.0), np.float64(1958.0), np.float64(1960.0), np.float64(1963.0), np.float64(1965.0), np.float64(1967.0), np.float64(1970.0), np.float64(1975.0), np.float64(1985.0), np.float64(1986.0), np.float64(1988.0), np.float64(1989.0), np.float64(1991.0), np.float64(1992.0), np.float64(1993.0), np.float64(1998.0), np.float64(1999.0), np.float64(2001.0), np.float64(2003.0), np.float64(2006.0), np.float64(2008.0), np.float64(2012.0), np.float64(2015.0), np.float64(2017.0), np.float64(2018.0), np.float64(2019.0), np.float64(2021.0), np.float64(2022.0), np.float64(2025.0), np.float64(2027.0), np.float64(2031.0), np.float64(2036.0), np.float64(2039.0), np.float64(2041.0), np.float64(2042.0), np.float64(2043.0), np.float64(2047.0), np.float64(2049.0), np.float64(2055.0), np.float64(2056.0), np.float64(2058.0), np.float64(2059.0), np.float64(2060.0), np.float64(2061.0), np.float64(2063.0), np.float64(2065.0), np.float64(2069.0), np.float64(2072.0), np.float64(2074.0), np.float64(2078.0), np.float64(2079.0), np.float64(2081.0), np.float64(2082.0), np.float64(2083.0), np.float64(2085.0), np.float64(2087.0), np.float64(2089.0), np.float64(2091.0), np.float64(2098.0), np.float64(2104.0), np.float64(2106.0), np.float64(2107.0), np.float64(2112.0), np.float64(2114.0), np.float64(2116.0), np.float64(2118.0), np.float64(2120.0), np.float64(2124.0), np.float64(2127.0), np.float64(2128.0), np.float64(2131.0), np.float64(2134.0), np.float64(2135.0), np.float64(2136.0), np.float64(2138.0), np.float64(2141.0), np.float64(2144.0), np.float64(2147.0), np.float64(2150.0), np.float64(2151.0), np.float64(2152.0), np.float64(2153.0), np.float64(2154.0), np.float64(2155.0), np.float64(2157.0), np.float64(2158.0), np.float64(2161.0), np.float64(2162.0), np.float64(2164.0), np.float64(2165.0), np.float64(2167.0), np.float64(2169.0), np.float64(2170.0), np.float64(2171.0), np.float64(2174.0), np.float64(2178.0), np.float64(2179.0), np.float64(2181.0), np.float64(2182.0), np.float64(2183.0), np.float64(2184.0), np.float64(2185.0), np.float64(2186.0), np.float64(2187.0), np.float64(2189.0), np.float64(2190.0), np.float64(2191.0), np.float64(2192.0), np.float64(2194.0), np.float64(2195.0), np.float64(2196.0), np.float64(2199.0), np.float64(2200.0), np.float64(2201.0), np.float64(2202.0), np.float64(2203.0), np.float64(2207.0), np.float64(2208.0), np.float64(2209.0), np.float64(2211.0), np.float64(2212.0), np.float64(2213.0), np.float64(2219.0), np.float64(2221.0), np.float64(2225.0), np.float64(2227.0), np.float64(2228.0), np.float64(2230.0), np.float64(2231.0), np.float64(2235.0), np.float64(2237.0), np.float64(2238.0), np.float64(2239.0), np.float64(2240.0), np.float64(2241.0), np.float64(2243.0), np.float64(2244.0), np.float64(2245.0), np.float64(2246.0), np.float64(2250.0), np.float64(2253.0), np.float64(2254.0), np.float64(2256.0), np.float64(2260.0), np.float64(2261.0), np.float64(2262.0), np.float64(2264.0), np.float64(2265.0), np.float64(2266.0), np.float64(2270.0), np.float64(2271.0), np.float64(2274.0), np.float64(2275.0), np.float64(2276.0), np.float64(2279.0), np.float64(2284.0), np.float64(2285.0), np.float64(2286.0), np.float64(2290.0), np.float64(2292.0), np.float64(2293.0), np.float64(2294.0), np.float64(2297.0), np.float64(2301.0), np.float64(2302.0), np.float64(2304.0), np.float64(2307.0), np.float64(2308.0), np.float64(2310.0), np.float64(2313.0), np.float64(2315.0), np.float64(2317.0), np.float64(2321.0), np.float64(2322.0), np.float64(2323.0), np.float64(2324.0), np.float64(2326.0), np.float64(2328.0), np.float64(2331.0), np.float64(2332.0), np.float64(2333.0), np.float64(2334.0), np.float64(2338.0), np.float64(2340.0), np.float64(2341.0), np.float64(2342.0), np.float64(2344.0), np.float64(2346.0), np.float64(2348.0), np.float64(2349.0), np.float64(2351.0), np.float64(2352.0), np.float64(2356.0), np.float64(2357.0), np.float64(2358.0), np.float64(2362.0), np.float64(2363.0), np.float64(2366.0), np.float64(2367.0), np.float64(2368.0), np.float64(2369.0), np.float64(2370.0), np.float64(2372.0), np.float64(2373.0), np.float64(2374.0), np.float64(2376.0), np.float64(2377.0), np.float64(2381.0), np.float64(2386.0), np.float64(2387.0), np.float64(2389.0), np.float64(2390.0), np.float64(2392.0), np.float64(2395.0), np.float64(2397.0), np.float64(2399.0), np.float64(2402.0), np.float64(2405.0), np.float64(2406.0), np.float64(2407.0), np.float64(2411.0), np.float64(2418.0), np.float64(2420.0), np.float64(2422.0), np.float64(2423.0), np.float64(2426.0), np.float64(2429.0), np.float64(2431.0), np.float64(2433.0), np.float64(2434.0), np.float64(2435.0), np.float64(2436.0), np.float64(2439.0), np.float64(2441.0), np.float64(2444.0), np.float64(2445.0), np.float64(2446.0), np.float64(2448.0), np.float64(2449.0), np.float64(2452.0), np.float64(2453.0), np.float64(2455.0), np.float64(2457.0), np.float64(2458.0), np.float64(2460.0), np.float64(2461.0), np.float64(2464.0), np.float64(2469.0), np.float64(2473.0), np.float64(2475.0), np.float64(2476.0), np.float64(2480.0), np.float64(2483.0), np.float64(2484.0), np.float64(2492.0), np.float64(2494.0), np.float64(2495.0), np.float64(2498.0), np.float64(2502.0), np.float64(2505.0), np.float64(2506.0), np.float64(2511.0), np.float64(2514.0), np.float64(2515.0), np.float64(2518.0), np.float64(2521.0), np.float64(2522.0), np.float64(2523.0), np.float64(2524.0), np.float64(2529.0), np.float64(2531.0), np.float64(2536.0), np.float64(2537.0), np.float64(2539.0), np.float64(2540.0), np.float64(2541.0), np.float64(2542.0), np.float64(2544.0), np.float64(2547.0), np.float64(2548.0), np.float64(2550.0), np.float64(2551.0), np.float64(2553.0), np.float64(2554.0), np.float64(2563.0), np.float64(2564.0), np.float64(2565.0), np.float64(2568.0), np.float64(2572.0), np.float64(2573.0), np.float64(2580.0), np.float64(2583.0), np.float64(2586.0), np.float64(2587.0), np.float64(2588.0), np.float64(2589.0), np.float64(2592.0), np.float64(2594.0), np.float64(2597.0)]\n",
      "Mediana dos valores até 50: 5.0\n",
      "Máximo dos valores até 50: 49.0\n"
     ]
    }
   ],
   "source": [
    "# 1. Contar quantos valores estão acima de 50 (possíveis erros)\n",
    "valores_acima_50 = df_processado[df_processado['qtd_consultas_credito'] > 50]\n",
    "\n",
    "print(f\"Total de registros acima de 50: {valores_acima_50.shape[0]}\")\n",
    "print(\"Valores únicos acima de 50:\")\n",
    "print(sorted(valores_acima_50['qtd_consultas_credito'].unique()))\n",
    "\n",
    "# 2. Calcular estatísticas básicas para os valores 'normais' (até 50)\n",
    "mediana_normal = df_processado.loc[df_processado['qtd_consultas_credito'] <= 50, 'qtd_consultas_credito'].median()\n",
    "max_normal = df_processado.loc[df_processado['qtd_consultas_credito'] <= 50, 'qtd_consultas_credito'].max()\n",
    "\n",
    "print(f\"Mediana dos valores até 50: {mediana_normal}\")\n",
    "print(f\"Máximo dos valores até 50: {max_normal}\")\n"
   ]
  },
  {
   "cell_type": "markdown",
   "id": "b5918021",
   "metadata": {},
   "source": [
    "Tratando outliers e imputando qtd_consultas_credito\n",
    "O que será feito\n",
    "Transformar todos os valores acima de 50 em NaN.\n",
    "\n",
    "Calcular a mediana considerando apenas os valores até 50.\n",
    "\n",
    "Imputar todos os NaN com essa mediana.\n",
    "\n",
    "Verificar o resultado após o tratamento."
   ]
  },
  {
   "cell_type": "code",
   "execution_count": 167,
   "id": "ad63820d",
   "metadata": {},
   "outputs": [
    {
     "name": "stdout",
     "output_type": "stream",
     "text": [
      "Mediana calculada (até 50): 5.0\n",
      "Valores nulos após imputação: 0\n",
      "Valores únicos após tratamento: [np.float64(0.0), np.float64(1.0), np.float64(2.0), np.float64(3.0), np.float64(4.0), np.float64(5.0), np.float64(6.0), np.float64(7.0), np.float64(8.0), np.float64(9.0), np.float64(10.0), np.float64(11.0), np.float64(12.0), np.float64(13.0), np.float64(14.0), np.float64(15.0), np.float64(16.0), np.float64(17.0), np.float64(26.0), np.float64(29.0)]\n",
      "Maior valor após tratamento: 49.0\n"
     ]
    }
   ],
   "source": [
    "# Substituir valores absurdos (acima de 50) por NaN\n",
    "df_processado.loc[df_processado['qtd_consultas_credito'] > 50, 'qtd_consultas_credito'] = np.nan\n",
    "\n",
    "# Calcular a mediana apenas com os valores ≤ 50\n",
    "mediana_qtd_consultas = df_processado.loc[df_processado['qtd_consultas_credito'] <= 50, 'qtd_consultas_credito'].median()\n",
    "print(\"Mediana calculada (até 50):\", mediana_qtd_consultas)\n",
    "\n",
    "# Imputar todos os NaN pela mediana\n",
    "df_processado['qtd_consultas_credito'] = df_processado['qtd_consultas_credito'].fillna(mediana_qtd_consultas)\n",
    "\n",
    "# Conferir o resultado final\n",
    "print(\"Valores nulos após imputação:\", df_processado['qtd_consultas_credito'].isna().sum())\n",
    "print(\"Valores únicos após tratamento:\", sorted(df_processado['qtd_consultas_credito'].unique())[:20])\n",
    "print(\"Maior valor após tratamento:\", df_processado['qtd_consultas_credito'].max())"
   ]
  },
  {
   "cell_type": "markdown",
   "id": "a45e541f",
   "metadata": {},
   "source": [
    "## Saldo Mensal "
   ]
  },
  {
   "cell_type": "code",
   "execution_count": 168,
   "id": "e590cac0",
   "metadata": {},
   "outputs": [
    {
     "data": {
      "text/plain": [
       "0    312.49408867943663\n",
       "1    284.62916249607184\n",
       "2     331.2098628537912\n",
       "3    223.45130972736786\n",
       "4    341.48923103222177\n",
       "5     340.4792117872438\n",
       "6     244.5653167062043\n",
       "7    358.12416760938714\n",
       "8    470.69062692529184\n",
       "9     484.5912142650067\n",
       "Name: saldo_mensal, dtype: object"
      ]
     },
     "execution_count": 168,
     "metadata": {},
     "output_type": "execute_result"
    }
   ],
   "source": [
    "df_processado.saldo_mensal.head(10)"
   ]
  },
  {
   "cell_type": "code",
   "execution_count": 169,
   "id": "116e95ba",
   "metadata": {},
   "outputs": [
    {
     "data": {
      "text/plain": [
       "array(['312.49408867943663', '284.62916249607184', '331.2098628537912',\n",
       "       '223.45130972736786', '341.48923103222177', '340.4792117872438',\n",
       "       '244.5653167062043', '358.12416760938714', '470.69062692529184',\n",
       "       '484.5912142650067', '466.46647639764313', '465.6762241330048',\n",
       "       '444.8670318506144', '481.505261949182', '464.8806778859809',\n",
       "       '356.07810855965045', '1043.3159778669492', '998.8692967863226',\n",
       "       '715.741367403555', '426.5134106068658', '810.7821526659284',\n",
       "       '963.9215811205684', '968.5555173846187', '895.494583180492',\n",
       "       '433.6047729627723', '409.95181177115995', '411.42712287098345',\n",
       "       '262.4995942778403', '359.37491550776383', '419.8807835023488',\n",
       "       '443.5499567906391', '379.21638114119577', '288.60552234930395',\n",
       "       '460.88727561667037', '392.1922656650829', '438.5454315807922',\n",
       "       '482.6076383223166', '497.6872787770267', '394.31893393507744',\n",
       "       '364.00001570479753', '740.1960900583389', '705.931285531244',\n",
       "       '698.8107657019921', '270.66810874941655', '690.9186643139128',\n",
       "       '633.0801749681799', '510.36110048740534', '796.2349097481042',\n",
       "       '858.462474411158', '547.7604572149734', '1038.5694068321734',\n",
       "       '899.1987716145285', '963.2548189998564', '1140.0673399198365',\n",
       "       '326.24183015224526', '396.1113462137519', '298.19215813115227',\n",
       "       '392.19618457022375', '260.9124018324295', '260.0809753987602',\n",
       "       '397.2283547370202', '410.6743660782873', '395.17338668866836',\n",
       "       '411.3068036170128', '802.3004421328528', '785.2583558699787',\n",
       "       '547.1081623988198', '772.411908624267', '367.6845938942932',\n",
       "       '491.11338755538793', '792.0256603398883', '742.9221908300779',\n",
       "       '341.55442316289026', '227.1627349487646', '375.0865082781542',\n",
       "       '292.3016778366485', '341.20663263941435', '378.18977936486505',\n",
       "       '337.51230376982244', '273.2623770631024'], dtype=object)"
      ]
     },
     "execution_count": 169,
     "metadata": {},
     "output_type": "execute_result"
    }
   ],
   "source": [
    "# Mostrando os 30 primeiros valores únicos da coluna 'saldo_mensal'\n",
    "df_processado['saldo_mensal'].unique()[:80]"
   ]
  },
  {
   "cell_type": "markdown",
   "id": "2a65bc29",
   "metadata": {},
   "source": [
    "Remover os underscores do início e do fim.\n",
    "\n",
    "Substituir strings vazias (se houver) pelo placeholder 999999.\n",
    "\n",
    "Converter a coluna para float."
   ]
  },
  {
   "cell_type": "code",
   "execution_count": 170,
   "id": "ca380d67",
   "metadata": {},
   "outputs": [
    {
     "name": "stdout",
     "output_type": "stream",
     "text": [
      "<class 'pandas.core.series.Series'>\n",
      "RangeIndex: 100000 entries, 0 to 99999\n",
      "Series name: saldo_mensal\n",
      "Non-Null Count   Dtype  \n",
      "--------------   -----  \n",
      "100000 non-null  float64\n",
      "dtypes: float64(1)\n",
      "memory usage: 781.4 KB\n",
      "None\n",
      "0   312.49\n",
      "1   284.63\n",
      "2   331.21\n",
      "3   223.45\n",
      "4   341.49\n",
      "5   340.48\n",
      "6   244.57\n",
      "7   358.12\n",
      "8   470.69\n",
      "9   484.59\n",
      "Name: saldo_mensal, dtype: float64\n",
      "Valores 999999 no dataset: 2868\n"
     ]
    }
   ],
   "source": [
    "# 1. Remover underscores do início e do fim\n",
    "df_processado['saldo_mensal'] = df_processado['saldo_mensal'].str.replace(r'^_+|_+$', '', regex=True)\n",
    "\n",
    "# 2. Substituir strings vazias por placeholder 999999\n",
    "df_processado['saldo_mensal'] = df_processado['saldo_mensal'].replace('', '999999')\n",
    "\n",
    "# 3. Substituir também valores NaN por placeholder 999999\n",
    "df_processado['saldo_mensal'] = df_processado['saldo_mensal'].fillna('999999')\n",
    "\n",
    "# 4. Converter para float\n",
    "df_processado['saldo_mensal'] = df_processado['saldo_mensal'].astype(float)\n",
    "\n",
    "# 5. Conferir se a conversão funcionou e se não há mais NaN\n",
    "print(df_processado['saldo_mensal'].info())\n",
    "print(df_processado['saldo_mensal'].head(10))\n",
    "print(\"Valores 999999 no dataset:\", (df_processado['saldo_mensal'] == 999999).sum())\n"
   ]
  },
  {
   "cell_type": "markdown",
   "id": "88bb9ffc",
   "metadata": {},
   "source": [
    "Resumo estatístico de saldo_mensal após a limpeza"
   ]
  },
  {
   "cell_type": "code",
   "execution_count": 171,
   "id": "54da0279",
   "metadata": {},
   "outputs": [
    {
     "name": "stdout",
     "output_type": "stream",
     "text": [
      "Mínimo: -3.333333333333333e+26\n",
      "Máximo: 999999.0\n",
      "Mediana: 341.3880840454514\n",
      "Total de placeholders 999999: 2868\n"
     ]
    },
    {
     "data": {
      "image/png": "[encoded data removed]",
      "text/plain": [
       "<Figure size 800x400 with 1 Axes>"
      ]
     },
     "metadata": {},
     "output_type": "display_data"
    }
   ],
   "source": [
    "# 1. Calcular estatísticas básicas\n",
    "min_saldo = df_processado['saldo_mensal'].min()\n",
    "max_saldo = df_processado['saldo_mensal'].max()\n",
    "mediana_saldo = df_processado['saldo_mensal'].median()\n",
    "\n",
    "print(\"Mínimo:\", min_saldo)\n",
    "print(\"Máximo:\", max_saldo)\n",
    "print(\"Mediana:\", mediana_saldo)\n",
    "\n",
    "# 2. Contar quantos placeholders ainda existem\n",
    "placeholders_saldo = (df_processado['saldo_mensal'] == 999999).sum()\n",
    "print(\"Total de placeholders 999999:\", placeholders_saldo)\n",
    "\n",
    "# 3. Criar boxplot sem considerar os placeholders\n",
    "plt.figure(figsize=(8,4))\n",
    "plt.boxplot(df_processado.loc[df_processado['saldo_mensal'] != 999999, 'saldo_mensal'], vert=False)\n",
    "plt.title('Boxplot - Saldo Mensal (sem placeholders)')\n",
    "plt.xlabel('Saldo Mensal')\n",
    "plt.show()"
   ]
  },
  {
   "cell_type": "markdown",
   "id": "8fd02314",
   "metadata": {},
   "source": [
    "Para manter a consistência do dataset, vamos usar os clusters de perfil financeiro já gerados anteriormente (armazenados na coluna cluster_salario) para imputar os valores ausentes de saldo_mensal. Essa abordagem é mais precisa do que usar apenas a mediana global, pois considera grupos de clientes com características semelhantes (renda, idade, dívidas e limites de crédito).\n",
    "\n",
    "A lógica é a seguinte:\n",
    "\n",
    "Cada cliente pertence a um cluster criado via KMeans.\n",
    "\n",
    "Calculamos a mediana de saldo_mensal para cada cluster, ignorando os valores placeholders (999999).\n",
    "\n",
    "Substituímos os placeholders pelo valor da mediana correspondente ao cluster do cliente.\n",
    "\n",
    "O resultado é um saldo_mensal imputado de forma mais coerente com o perfil do cliente."
   ]
  },
  {
   "cell_type": "code",
   "execution_count": 172,
   "id": "50a8e72c",
   "metadata": {},
   "outputs": [
    {
     "name": "stdout",
     "output_type": "stream",
     "text": [
      "Mediana por cluster:\n",
      "cluster_salario\n",
      "0   377.12\n",
      "1   278.32\n",
      "2   357.05\n",
      "3   338.36\n",
      "4   334.78\n",
      "Name: saldo_mensal, dtype: float64\n",
      "Placeholders restantes após imputação: 0\n"
     ]
    }
   ],
   "source": [
    "# 1. Criar DataFrame de imputação a partir do df_processado\n",
    "df_para_imputacao_saldo_mensal = df_processado.copy()\n",
    "\n",
    "# 2. Adicionar a coluna de cluster já criada\n",
    "df_para_imputacao_saldo_mensal['cluster_salario'] = df_para_imputacao_valor_investido_mensal['cluster_salario']\n",
    "\n",
    "# 3. Calcular a mediana de saldo_mensal por cluster (ignorando os placeholders)\n",
    "mediana_saldo_cluster = df_para_imputacao_saldo_mensal.loc[\n",
    "    df_para_imputacao_saldo_mensal['saldo_mensal'] != 999999\n",
    "].groupby('cluster_salario')['saldo_mensal'].median()\n",
    "\n",
    "print(\"Mediana por cluster:\")\n",
    "print(mediana_saldo_cluster)\n",
    "\n",
    "# 4. Criar uma cópia do df_processado para registrar a imputação\n",
    "df_processado_kmeans_saldo = df_processado.copy()\n",
    "\n",
    "# 5. Substituir os placeholders 999999 pela mediana do cluster\n",
    "for cluster in mediana_saldo_cluster.index:\n",
    "    saldo_mediana = mediana_saldo_cluster.loc[cluster]\n",
    "    df_processado_kmeans_saldo.loc[\n",
    "        (df_para_imputacao_saldo_mensal['cluster_salario'] == cluster) &\n",
    "        (df_processado_kmeans_saldo['saldo_mensal'] == 999999),\n",
    "        'saldo_mensal'\n",
    "    ] = saldo_mediana\n",
    "\n",
    "# 6. Conferir se ainda existem placeholders\n",
    "placeholders_restantes = (df_processado_kmeans_saldo['saldo_mensal'] == 999999).sum()\n",
    "print(\"Placeholders restantes após imputação:\", placeholders_restantes)\n"
   ]
  },
  {
   "cell_type": "markdown",
   "id": "6014f264",
   "metadata": {},
   "source": []
  },
  {
   "cell_type": "code",
   "execution_count": 173,
   "id": "8cbe0855",
   "metadata": {},
   "outputs": [
    {
     "name": "stdout",
     "output_type": "stream",
     "text": [
      "Valores 999999 restantes: 0\n",
      "Resumo estatístico após imputação:\n",
      "count                                100,000.00\n",
      "mean         -29,999,999,999,999,995,805,696.00\n",
      "std        3,162,151,165,267,075,223,519,232.00\n",
      "min     -333,333,333,333,333,314,856,026,112.00\n",
      "25%                                      271.80\n",
      "50%                                      338.43\n",
      "75%                                      463.50\n",
      "max                                    1,602.04\n",
      "Name: saldo_mensal, dtype: float64\n"
     ]
    }
   ],
   "source": [
    "# Atualizando a coluna saldo_mensal no df_processado com os valores imputados\n",
    "df_processado['saldo_mensal'] = df_processado_kmeans_saldo['saldo_mensal']\n",
    "\n",
    "# Conferindo se a atualização deu certo\n",
    "print(\"Valores 999999 restantes:\", (df_processado['saldo_mensal'] == 999999).sum())\n",
    "print(\"Resumo estatístico após imputação:\")\n",
    "print(df_processado['saldo_mensal'].describe())\n"
   ]
  },
  {
   "cell_type": "markdown",
   "id": "39cdad8e",
   "metadata": {},
   "source": []
  },
  {
   "cell_type": "markdown",
   "id": "dbbb89c1",
   "metadata": {},
   "source": [
    "## Quantidade Pagamentos Atrasados "
   ]
  },
  {
   "cell_type": "code",
   "execution_count": 174,
   "id": "ef336ae2",
   "metadata": {},
   "outputs": [
    {
     "data": {
      "text/plain": [
       "0      7\n",
       "1    NaN\n",
       "2      7\n",
       "3      4\n",
       "4    NaN\n",
       "5      4\n",
       "6     8_\n",
       "7      6\n",
       "8      4\n",
       "9      1\n",
       "Name: qtd_pagamentos_atrasados, dtype: object"
      ]
     },
     "execution_count": 174,
     "metadata": {},
     "output_type": "execute_result"
    }
   ],
   "source": [
    "df_processado.qtd_pagamentos_atrasados.head(10)\n"
   ]
  },
  {
   "cell_type": "markdown",
   "id": "a06fae6d",
   "metadata": {},
   "source": [
    "Tratando qtd_pagamentos_atrasados\n",
    "Como a coluna tem underscores (__123__ etc.), podemos:\n",
    "\n",
    "Remover os underscores do início e do fim.\n",
    "\n",
    "Converter diretamente para float, usando errors=\"coerce\" para que qualquer valor inválido vire NaN automaticamente.\n",
    "\n",
    "Depois disso, inspecionar os valores com min() e max() para ver a faixa dos dados."
   ]
  },
  {
   "cell_type": "code",
   "execution_count": 175,
   "id": "98451e7e",
   "metadata": {},
   "outputs": [
    {
     "name": "stdout",
     "output_type": "stream",
     "text": [
      "Valor mínimo: -3.0\n",
      "Valor máximo: 4397.0\n",
      "Total de NaN após conversão: 7002\n"
     ]
    }
   ],
   "source": [
    "# 1. Remover underscores do início e do fim\n",
    "df_processado['qtd_pagamentos_atrasados'] = df_processado['qtd_pagamentos_atrasados'].str.replace(r'^_+|_+$', '', regex=True)\n",
    "\n",
    "# 2. Converter para float (valores inválidos viram NaN automaticamente)\n",
    "df_processado['qtd_pagamentos_atrasados'] = pd.to_numeric(df_processado['qtd_pagamentos_atrasados'])\n",
    "\n",
    "# 3. Conferir valores mínimo e máximo\n",
    "min_atrasados = df_processado['qtd_pagamentos_atrasados'].min()\n",
    "max_atrasados = df_processado['qtd_pagamentos_atrasados'].max()\n",
    "\n",
    "print(\"Valor mínimo:\", min_atrasados)\n",
    "print(\"Valor máximo:\", max_atrasados)\n",
    "print(\"Total de NaN após conversão:\", df_processado['qtd_pagamentos_atrasados'].isna().sum())\n"
   ]
  },
  {
   "cell_type": "code",
   "execution_count": 176,
   "id": "2c12c9f1",
   "metadata": {},
   "outputs": [
    {
     "name": "stdout",
     "output_type": "stream",
     "text": [
      "Valores negativos: 644\n",
      "Valores acima de 60: 732\n"
     ]
    }
   ],
   "source": [
    "# 1. Contar valores negativos\n",
    "negativos = (df_processado['qtd_pagamentos_atrasados'] < 0).sum()\n",
    "\n",
    "# 2. Contar valores acima de 60 (limite arbitrário para investigar)\n",
    "acima_60 = (df_processado['qtd_pagamentos_atrasados'] > 60).sum()\n",
    "\n",
    "print(f\"Valores negativos: {negativos}\")\n",
    "print(f\"Valores acima de 60: {acima_60}\")"
   ]
  },
  {
   "cell_type": "markdown",
   "id": "a3221578",
   "metadata": {},
   "source": [
    "Vamos calcular a mediana e as medianas por Cluster do KMeans"
   ]
  },
  {
   "cell_type": "code",
   "execution_count": 177,
   "id": "6059e2a7",
   "metadata": {},
   "outputs": [
    {
     "name": "stdout",
     "output_type": "stream",
     "text": [
      "Mediana dos valores normais (0 a 60): 14.0\n"
     ]
    }
   ],
   "source": [
    "# Filtrar somente valores considerados normais (0 até 60)\n",
    "valores_normais = df_processado.loc[\n",
    "    (df_processado['qtd_pagamentos_atrasados'] >= 0) & \n",
    "    (df_processado['qtd_pagamentos_atrasados'] <= 60),\n",
    "    'qtd_pagamentos_atrasados'\n",
    "]\n",
    "\n",
    "# Calcular a mediana desses valores\n",
    "mediana_normal = valores_normais.median()\n",
    "\n",
    "print(\"Mediana dos valores normais (0 a 60):\", mediana_normal)\n"
   ]
  },
  {
   "cell_type": "code",
   "execution_count": 178,
   "id": "e41b4a61",
   "metadata": {},
   "outputs": [
    {
     "name": "stdout",
     "output_type": "stream",
     "text": [
      "Mediana de pagamentos atrasados por cluster (considerando apenas 0 a 60):\n",
      "cluster_salario\n",
      "0   11.00\n",
      "1   19.00\n",
      "2   12.00\n",
      "3   14.00\n",
      "4   14.00\n",
      "Name: qtd_pagamentos_atrasados, dtype: float64\n"
     ]
    }
   ],
   "source": [
    "# 1. Criar um DataFrame de imputação a partir do df_processado\n",
    "df_para_imputacao_pagamentos_atrasados = df_processado.copy()\n",
    "\n",
    "# 2. Adicionar a coluna de cluster\n",
    "df_para_imputacao_pagamentos_atrasados['cluster_salario'] = df_para_imputacao_valor_investido_mensal['cluster_salario']\n",
    "\n",
    "# 3. Filtrar os valores \"normais\" (0 a 60) para calcular a mediana de forma coerente\n",
    "mediana_pagamentos_cluster = df_para_imputacao_pagamentos_atrasados.loc[\n",
    "    (df_para_imputacao_pagamentos_atrasados['qtd_pagamentos_atrasados'] >= 0) &\n",
    "    (df_para_imputacao_pagamentos_atrasados['qtd_pagamentos_atrasados'] <= 60)\n",
    "].groupby('cluster_salario')['qtd_pagamentos_atrasados'].median()\n",
    "\n",
    "# 4. Exibir as medianas por cluster\n",
    "print(\"Mediana de pagamentos atrasados por cluster (considerando apenas 0 a 60):\")\n",
    "print(mediana_pagamentos_cluster)\n"
   ]
  },
  {
   "cell_type": "markdown",
   "id": "16b0f169",
   "metadata": {},
   "source": [
    "A coluna qtd_pagamentos_atrasados apresentou valores negativos (incompatíveis com o conceito de pagamentos em atraso) e outliers muito altos (até 4397). Usar uma mediana global para corrigir esses valores poderia “diluir” o comportamento dos diferentes perfis de clientes.\n",
    "\n",
    "Ao usar os clusters já criados com KMeans (baseados em variáveis financeiras como renda, idade, dívidas e limites de crédito), conseguimos imputar os valores de forma contextualizada. Cada cluster reflete um perfil de cliente, e a mediana de atrasos do cluster é usada como substituto para:\n",
    "\n",
    "Valores negativos.\n",
    "\n",
    "Valores absurdos (acima de 60).\n",
    "\n",
    "Valores ausentes.\n",
    "\n",
    "Dessa forma, mantemos o realismo dos dados e evitamos distorções na modelagem futura."
   ]
  },
  {
   "cell_type": "code",
   "execution_count": 179,
   "id": "17508acd",
   "metadata": {},
   "outputs": [
    {
     "name": "stdout",
     "output_type": "stream",
     "text": [
      "Negativos restantes: 0\n",
      "Valores acima de 60 restantes: 0\n",
      "Nulos restantes: 0\n"
     ]
    }
   ],
   "source": [
    "# 1. Criar uma cópia do df_processado para registrar a imputação\n",
    "df_processado_kmeans_pagamentos = df_processado.copy()\n",
    "\n",
    "# 2. Usar os clusters já existentes\n",
    "df_processado_kmeans_pagamentos['cluster_salario'] = df_para_imputacao_valor_investido_mensal['cluster_salario']\n",
    "\n",
    "# 3. Criar um filtro para localizar valores problemáticos (negativos ou >60)\n",
    "condicao_outlier = (df_processado_kmeans_pagamentos['qtd_pagamentos_atrasados'] < 0) | \\\n",
    "                   (df_processado_kmeans_pagamentos['qtd_pagamentos_atrasados'] > 60) | \\\n",
    "                   (df_processado_kmeans_pagamentos['qtd_pagamentos_atrasados'].isna())\n",
    "\n",
    "# 4. Percorrer cada cluster e substituir valores problemáticos pela mediana do cluster\n",
    "for cluster in mediana_pagamentos_cluster.index:\n",
    "    mediana_cluster = mediana_pagamentos_cluster.loc[cluster]\n",
    "    df_processado_kmeans_pagamentos.loc[\n",
    "        condicao_outlier & (df_processado_kmeans_pagamentos['cluster_salario'] == cluster),\n",
    "        'qtd_pagamentos_atrasados'\n",
    "    ] = mediana_cluster\n",
    "\n",
    "# 5. Verificar se ainda há valores negativos, outliers ou nulos após a imputação\n",
    "negativos_restantes = (df_processado_kmeans_pagamentos['qtd_pagamentos_atrasados'] < 0).sum()\n",
    "acima_60_restantes = (df_processado_kmeans_pagamentos['qtd_pagamentos_atrasados'] > 60).sum()\n",
    "nulos_restantes = df_processado_kmeans_pagamentos['qtd_pagamentos_atrasados'].isna().sum()\n",
    "\n",
    "print(\"Negativos restantes:\", negativos_restantes)\n",
    "print(\"Valores acima de 60 restantes:\", acima_60_restantes)\n",
    "print(\"Nulos restantes:\", nulos_restantes)\n"
   ]
  },
  {
   "cell_type": "markdown",
   "id": "201676ca",
   "metadata": {},
   "source": [
    "Agora que fizemos a imputação no df_processado_kmeans_pagamentos, vamos atualizar a coluna no df_processado para manter o dataset principal com os valores finais já tratados."
   ]
  },
  {
   "cell_type": "code",
   "execution_count": 180,
   "id": "291460d6",
   "metadata": {},
   "outputs": [
    {
     "name": "stdout",
     "output_type": "stream",
     "text": [
      "Valores negativos após atualização: 0\n",
      "Valores acima de 60 após atualização: 0\n",
      "Valores nulos após atualização: 0\n",
      "count   100,000.00\n",
      "mean         13.40\n",
      "std           6.01\n",
      "min           0.00\n",
      "25%           9.00\n",
      "50%          13.00\n",
      "75%          18.00\n",
      "max          52.00\n",
      "Name: qtd_pagamentos_atrasados, dtype: float64\n"
     ]
    }
   ],
   "source": [
    "# Atualizar a coluna qtd_pagamentos_atrasados no df_processado\n",
    "df_processado['qtd_pagamentos_atrasados'] = df_processado_kmeans_pagamentos['qtd_pagamentos_atrasados']\n",
    "\n",
    "# Conferir se a atualização foi bem sucedida\n",
    "print(\"Valores negativos após atualização:\", (df_processado['qtd_pagamentos_atrasados'] < 0).sum())\n",
    "print(\"Valores acima de 60 após atualização:\", (df_processado['qtd_pagamentos_atrasados'] > 60).sum())\n",
    "print(\"Valores nulos após atualização:\", df_processado['qtd_pagamentos_atrasados'].isna().sum())\n",
    "\n",
    "# Visualizar algumas estatísticas\n",
    "print(df_processado['qtd_pagamentos_atrasados'].describe())\n"
   ]
  },
  {
   "cell_type": "code",
   "execution_count": 181,
   "id": "701af4aa",
   "metadata": {},
   "outputs": [
    {
     "data": {
      "text/plain": [
       "mes                              0\n",
       "idade                            0\n",
       "ocupacao                         0\n",
       "renda_anual                      0\n",
       "salario_liquido_mensal           0\n",
       "qtd_contas_bancarias             0\n",
       "qtd_cartoes_credito              0\n",
       "taxa_juros                       0\n",
       "qtd_emprestimos                  0\n",
       "dias_atraso_pagamento            0\n",
       "qtd_pagamentos_atrasados         0\n",
       "variacao_limite_credito          0\n",
       "qtd_consultas_credito            0\n",
       "mix_credito                      0\n",
       "divida_pendente                  0\n",
       "percentual_utilizacao_credito    0\n",
       "pagamento_valor_minimo           0\n",
       "total_emprestimos_mensal         0\n",
       "valor_investido_mensal           0\n",
       "comportamento_pagamento          0\n",
       "saldo_mensal                     0\n",
       "score_credito                    0\n",
       "tipos_emprestimos                0\n",
       "tempo_historico_credito_meses    0\n",
       "dtype: int64"
      ]
     },
     "execution_count": 181,
     "metadata": {},
     "output_type": "execute_result"
    }
   ],
   "source": [
    "df_processado.isnull().sum()  # Conferindo se ainda existem valores nulos"
   ]
  },
  {
   "cell_type": "code",
   "execution_count": 190,
   "id": "2c97106f",
   "metadata": {},
   "outputs": [],
   "source": [
    "df_processado_sem_nulos = df_processado.copy()"
   ]
  },
  {
   "cell_type": "markdown",
   "id": "832f8c8d",
   "metadata": {},
   "source": [
    "# Corrigir tipos errados"
   ]
  },
  {
   "cell_type": "code",
   "execution_count": 191,
   "id": "168bb246",
   "metadata": {},
   "outputs": [
    {
     "name": "stdout",
     "output_type": "stream",
     "text": [
      "<class 'pandas.core.frame.DataFrame'>\n",
      "RangeIndex: 100000 entries, 0 to 99999\n",
      "Data columns (total 24 columns):\n",
      " #   Column                         Non-Null Count   Dtype  \n",
      "---  ------                         --------------   -----  \n",
      " 0   mes                            100000 non-null  object \n",
      " 1   idade                          100000 non-null  float64\n",
      " 2   ocupacao                       100000 non-null  object \n",
      " 3   renda_anual                    100000 non-null  float64\n",
      " 4   salario_liquido_mensal         100000 non-null  float64\n",
      " 5   qtd_contas_bancarias           100000 non-null  int64  \n",
      " 6   qtd_cartoes_credito            100000 non-null  int64  \n",
      " 7   taxa_juros                     100000 non-null  int64  \n",
      " 8   qtd_emprestimos                100000 non-null  object \n",
      " 9   dias_atraso_pagamento          100000 non-null  int64  \n",
      " 10  qtd_pagamentos_atrasados       100000 non-null  float64\n",
      " 11  variacao_limite_credito        100000 non-null  float64\n",
      " 12  qtd_consultas_credito          100000 non-null  float64\n",
      " 13  mix_credito                    100000 non-null  object \n",
      " 14  divida_pendente                100000 non-null  float64\n",
      " 15  percentual_utilizacao_credito  100000 non-null  float64\n",
      " 16  pagamento_valor_minimo         100000 non-null  object \n",
      " 17  total_emprestimos_mensal       100000 non-null  float64\n",
      " 18  valor_investido_mensal         100000 non-null  float64\n",
      " 19  comportamento_pagamento        100000 non-null  object \n",
      " 20  saldo_mensal                   100000 non-null  float64\n",
      " 21  score_credito                  100000 non-null  object \n",
      " 22  tipos_emprestimos              100000 non-null  object \n",
      " 23  tempo_historico_credito_meses  100000 non-null  int64  \n",
      "dtypes: float64(11), int64(5), object(8)\n",
      "memory usage: 18.3+ MB\n"
     ]
    }
   ],
   "source": [
    "df_processado_sem_nulos.info()"
   ]
  },
  {
   "cell_type": "markdown",
   "id": "836cc381",
   "metadata": {},
   "source": [
    "Durante as etapas anteriores de limpeza de dados, a maior parte dos ajustes de tipos foi feita em conjunto com o tratamento de valores nulos. Isso incluiu a conversão de colunas originalmente carregadas como object — mas que continham números em formato de texto — para tipos numéricos adequados (int ou float).\n",
    "\n",
    "Com esse processo, praticamente todas as colunas numéricas já estão corretas.\n",
    "\n",
    "Apenas uma exceção ficou pendente para ajuste: qtd_emprestimos, que permanece como object. Essa coluna representa a quantidade de empréstimos do cliente e deveria ser um valor numérico inteiro, mas contém registros em formato textual (incluindo underscores e possíveis caracteres inválidos) que impediram a conversão automática."
   ]
  },
  {
   "cell_type": "markdown",
   "id": "fad1123c",
   "metadata": {},
   "source": [
    "## Quantidade de Empréstimos"
   ]
  },
  {
   "cell_type": "markdown",
   "id": "9794919c",
   "metadata": {},
   "source": []
  },
  {
   "cell_type": "code",
   "execution_count": 192,
   "id": "d155f06c",
   "metadata": {},
   "outputs": [
    {
     "data": {
      "text/plain": [
       "array(['4', '1', '3', '967', '-100', '0', '0_', '2', '3_', '2_', '7', '5',\n",
       "       '5_', '6', '8', '8_', '9', '9_', '4_', '7_', '1_', '1464', '6_',\n",
       "       '622', '352', '472', '1017', '945', '146', '563'], dtype=object)"
      ]
     },
     "execution_count": 192,
     "metadata": {},
     "output_type": "execute_result"
    }
   ],
   "source": [
    "df_processado_sem_nulos.qtd_emprestimos.unique()[:30]  # Exibir os 30 primeiros valores únicos"
   ]
  },
  {
   "cell_type": "markdown",
   "id": "4c39a208",
   "metadata": {},
   "source": [
    "**Limpeza inicial de qtd_emprestimos e verificação de inconsistências**  \n",
    "Primeiro vamos apenas remover os underscores e converter para número (sem errors='coerce') para que o Pandas nos aponte eventuais erros de conversão.\n",
    "Depois, vamos contar quantos valores são negativos e quantos estão acima de 20, pois esses provavelmente são outliers ou erros de digitação."
   ]
  },
  {
   "cell_type": "code",
   "execution_count": 193,
   "id": "6546ef49",
   "metadata": {},
   "outputs": [
    {
     "name": "stdout",
     "output_type": "stream",
     "text": [
      "Total de valores negativos: 3876\n",
      "Total de valores acima de 20: 469\n"
     ]
    }
   ],
   "source": [
    "# 1. Remover underscores do início e do fim\n",
    "df_processado_sem_nulos['qtd_emprestimos'] = df_processado_sem_nulos['qtd_emprestimos'].str.replace(r'^_+|_+$', '', regex=True)\n",
    "\n",
    "# 2. Também remover underscores que estejam no final dos números (ex.: '3_' -> '3')\n",
    "df_processado_sem_nulos['qtd_emprestimos'] = df_processado_sem_nulos['qtd_emprestimos'].str.replace('_', '')\n",
    "\n",
    "# 3. Converter para float SEM coerce (se houver valores não numéricos, dará erro e identificamos)\n",
    "df_processado_sem_nulos['qtd_emprestimos'] = df_processado_sem_nulos['qtd_emprestimos'].astype(float)\n",
    "\n",
    "# 4. Contar valores negativos\n",
    "negativos = (df_processado_sem_nulos['qtd_emprestimos'] < 0).sum()\n",
    "\n",
    "# 5. Contar valores acima de 20\n",
    "acima_20 = (df_processado_sem_nulos['qtd_emprestimos'] > 20).sum()\n",
    "\n",
    "# 6. Mostrar resultados\n",
    "print(\"Total de valores negativos:\", negativos)\n",
    "print(\"Total de valores acima de 20:\", acima_20)\n",
    "\n",
    "\n"
   ]
  },
  {
   "cell_type": "markdown",
   "id": "81599635",
   "metadata": {},
   "source": [
    "**Tratamento de outliers e análise de mediana de qtd_emprestimos**  \n",
    "  \n",
    "Já que identificamos mais de 4000 outliers (valores negativos ou acima de 20), o próximo passo é:\n",
    "\n",
    "Transformar esses valores em NaN (negativos e >20).\n",
    "\n",
    "Calcular a mediana global com os valores restantes.\n",
    "\n",
    "Calcular a mediana por cluster usando os clusters do df_para_imputacao_valor_investido_mensal (coluna cluster_salario).\n",
    "\n",
    "Analisar se há diferenças significativas entre os clusters para decidir se usamos a mediana global ou por cluster."
   ]
  },
  {
   "cell_type": "code",
   "execution_count": 194,
   "id": "0ff8b96a",
   "metadata": {},
   "outputs": [
    {
     "name": "stdout",
     "output_type": "stream",
     "text": [
      "Mediana global de qtd_emprestimos (0 a 20): 3.0\n",
      "\n",
      "Mediana de qtd_emprestimos por cluster:\n",
      "cluster_salario\n",
      "0   2.00\n",
      "1   6.00\n",
      "2   3.00\n",
      "3   3.00\n",
      "4   3.00\n",
      "Name: qtd_emprestimos, dtype: float64\n"
     ]
    }
   ],
   "source": [
    "# 1. Marcar valores negativos e acima de 20 como NaN no df oficial\n",
    "df_processado_sem_nulos.loc[df_processado_sem_nulos['qtd_emprestimos'] < 0, 'qtd_emprestimos'] = np.nan\n",
    "df_processado_sem_nulos.loc[df_processado_sem_nulos['qtd_emprestimos'] > 20, 'qtd_emprestimos'] = np.nan\n",
    "\n",
    "# 2. Calcular mediana global\n",
    "mediana_global_emprestimos = df_processado_sem_nulos['qtd_emprestimos'].median()\n",
    "print(\"Mediana global de qtd_emprestimos (0 a 20):\", mediana_global_emprestimos)\n",
    "\n",
    "# 3. Criar DataFrame para imputação com clusters\n",
    "df_para_imputacao_emprestimos = df_processado_sem_nulos.copy()\n",
    "df_para_imputacao_emprestimos['cluster_salario'] = df_para_imputacao_valor_investido_mensal['cluster_salario']\n",
    "\n",
    "# 4. Calcular a mediana por cluster\n",
    "mediana_emprestimos_cluster = df_para_imputacao_emprestimos.groupby('cluster_salario')['qtd_emprestimos'].median()\n",
    "\n",
    "print(\"\\nMediana de qtd_emprestimos por cluster:\")\n",
    "print(mediana_emprestimos_cluster)\n"
   ]
  },
  {
   "cell_type": "code",
   "execution_count": 195,
   "id": "7c3250f7",
   "metadata": {},
   "outputs": [
    {
     "name": "stdout",
     "output_type": "stream",
     "text": [
      "Quantidade de amostras por cluster:\n",
      "cluster_salario\n",
      "0    31360\n",
      "1    22784\n",
      "2    43140\n",
      "3     2027\n",
      "4      689\n",
      "Name: count, dtype: int64\n"
     ]
    }
   ],
   "source": [
    "# Contar quantas amostras existem em cada cluster usando o df auxiliar\n",
    "contagem_clusters = df_para_imputacao_valor_investido_mensal['cluster_salario'].value_counts().sort_index()\n",
    "\n",
    "print(\"Quantidade de amostras por cluster:\")\n",
    "print(contagem_clusters)\n"
   ]
  },
  {
   "cell_type": "markdown",
   "id": "5652e78d",
   "metadata": {},
   "source": [
    "Como vimos, os clusters 0 e 1 têm uma quantidade grande de amostras e medianas diferentes (2.00 e 6.00), o que justifica usar a mediana por cluster para imputar os valores ausentes ou inválidos."
   ]
  },
  {
   "cell_type": "code",
   "execution_count": 196,
   "id": "ef56d276",
   "metadata": {},
   "outputs": [
    {
     "name": "stdout",
     "output_type": "stream",
     "text": [
      "Valores NaN restantes em qtd_emprestimos: 0\n",
      "count   100,000.00\n",
      "mean          3.53\n",
      "std           2.41\n",
      "min           0.00\n",
      "25%           2.00\n",
      "50%           3.00\n",
      "75%           5.00\n",
      "max          19.00\n",
      "Name: qtd_emprestimos, dtype: float64\n"
     ]
    }
   ],
   "source": [
    "# Criar um DataFrame de imputação com base no df_processado_sem_nulos\n",
    "df_imputacao_emprestimos = df_processado_sem_nulos.copy()\n",
    "\n",
    "# Pegar a coluna de cluster do df auxiliar\n",
    "df_imputacao_emprestimos['cluster_salario'] = df_para_imputacao_valor_investido_mensal['cluster_salario']\n",
    "\n",
    "# Imputar valores NaN de qtd_emprestimos usando a mediana de cada cluster\n",
    "for cluster in mediana_emprestimos_cluster.index:\n",
    "    mediana_cluster = mediana_emprestimos_cluster.loc[cluster]\n",
    "    df_processado_sem_nulos.loc[\n",
    "        (df_processado_sem_nulos['qtd_emprestimos'].isna()) &\n",
    "        (df_para_imputacao_valor_investido_mensal['cluster_salario'] == cluster),\n",
    "        'qtd_emprestimos'\n",
    "    ] = mediana_cluster\n",
    "\n",
    "# Conferir se ainda restaram NaN após a imputação\n",
    "print(\"Valores NaN restantes em qtd_emprestimos:\",\n",
    "      df_processado_sem_nulos['qtd_emprestimos'].isna().sum())\n",
    "\n",
    "# Conferir estatísticas básicas depois da imputação\n",
    "print(df_processado_sem_nulos['qtd_emprestimos'].describe())"
   ]
  },
  {
   "cell_type": "markdown",
   "id": "e739cfe3",
   "metadata": {},
   "source": [
    "# Análise de distribuição e tratamento de outliers"
   ]
  },
  {
   "cell_type": "code",
   "execution_count": 199,
   "id": "9c64ff86",
   "metadata": {},
   "outputs": [],
   "source": [
    "# Criar cópia do dataset consolidado para trabalhar na etapa de distribuição e outliers\n",
    "df_processado_type_ok = df_processado_sem_nulos.copy()\n"
   ]
  },
  {
   "cell_type": "code",
   "execution_count": 200,
   "id": "852b91ae",
   "metadata": {},
   "outputs": [
    {
     "name": "stdout",
     "output_type": "stream",
     "text": [
      "Shape do df_processado_type_ok: (100000, 24)\n",
      "Total de colunas numéricas: 17\n",
      "Total de colunas categóricas: 7\n"
     ]
    }
   ],
   "source": [
    "# Criar subconjuntos para facilitar análises\n",
    "df_numericas = df_processado_type_ok.select_dtypes(include=['int64', 'float64'])\n",
    "df_categoricas = df_processado_type_ok.select_dtypes(include=['object'])\n",
    "\n",
    "# Conferência\n",
    "print(\"Shape do df_processado_type_ok:\", df_processado_type_ok.shape)\n",
    "print(\"Total de colunas numéricas:\", len(df_numericas.columns))\n",
    "print(\"Total de colunas categóricas:\", len(df_categoricas.columns))"
   ]
  },
  {
   "cell_type": "markdown",
   "id": "44b3e78a",
   "metadata": {},
   "source": [
    "## Numéricas"
   ]
  },
  {
   "cell_type": "markdown",
   "id": "f5cfb530",
   "metadata": {},
   "source": [
    "Até esta etapa, todas as principais variáveis numéricas com maior risco de inconsistências e outliers já foram tratadas.\n",
    "Foram corrigidos e imputados valores em:\n",
    "\n",
    "Salário e finanças principais: salario_liquido_mensal, renda_anual, idade, qtd_cartoes_credito, total_emprestimos_mensal, variacao_limite_credito, divida_pendente\n",
    "\n",
    "Histórico e empréstimos: tipos_emprestimos, tempo_historico_credito_meses, qtd_pagamentos_atrasados, valor_investido_mensal, qtd_consultas_credito, saldo_mensal, qtd_emprestimos\n",
    "\n",
    "Agora vamos focar nas variáveis numéricas que ainda não passaram por análise de distribuição e outliers:\n",
    "\n",
    "qtd_contas_bancarias\n",
    "\n",
    "taxa_juros\n",
    "\n",
    "dias_atraso_pagamento\n",
    "\n",
    "percentual_utilizacao_credito\n",
    "\n"
   ]
  },
  {
   "cell_type": "markdown",
   "id": "69211685",
   "metadata": {},
   "source": [
    "**Análise descritiva e boxplots**"
   ]
  },
  {
   "cell_type": "code",
   "execution_count": 202,
   "id": "75595279",
   "metadata": {},
   "outputs": [
    {
     "name": "stdout",
     "output_type": "stream",
     "text": [
      "=== Estatísticas descritivas das colunas restantes ===\n",
      "       qtd_contas_bancarias  taxa_juros  dias_atraso_pagamento  \\\n",
      "count            100,000.00  100,000.00             100,000.00   \n",
      "mean                  17.09       72.47                  21.07   \n",
      "std                  117.40      466.42                  14.86   \n",
      "min                   -1.00        1.00                  -5.00   \n",
      "25%                    3.00        8.00                  10.00   \n",
      "50%                    6.00       13.00                  18.00   \n",
      "75%                    7.00       20.00                  28.00   \n",
      "max                1,798.00    5,797.00                  67.00   \n",
      "\n",
      "       percentual_utilizacao_credito  \n",
      "count                     100,000.00  \n",
      "mean                           32.29  \n",
      "std                             5.12  \n",
      "min                            20.00  \n",
      "25%                            28.05  \n",
      "50%                            32.31  \n",
      "75%                            36.50  \n",
      "max                            50.00  \n"
     ]
    },
    {
     "data": {
      "image/png": "[encoded data removed]",
      "text/plain": [
       "<Figure size 800x400 with 1 Axes>"
      ]
     },
     "metadata": {},
     "output_type": "display_data"
    },
    {
     "data": {
      "image/png": "[encoded data removed]",
      "text/plain": [
       "<Figure size 800x400 with 1 Axes>"
      ]
     },
     "metadata": {},
     "output_type": "display_data"
    },
    {
     "data": {
      "image/png": "[encoded data removed]",
      "text/plain": [
       "<Figure size 800x400 with 1 Axes>"
      ]
     },
     "metadata": {},
     "output_type": "display_data"
    },
    {
     "data": {
      "image/png": "[encoded data removed]",
      "text/plain": [
       "<Figure size 800x400 with 1 Axes>"
      ]
     },
     "metadata": {},
     "output_type": "display_data"
    }
   ],
   "source": [
    "\n",
    "\n",
    "# Lista das colunas numéricas restantes\n",
    "colunas_restantes = ['qtd_contas_bancarias', \n",
    "                     'taxa_juros', \n",
    "                     'dias_atraso_pagamento', \n",
    "                     'percentual_utilizacao_credito']\n",
    "\n",
    "# 1. Estatísticas descritivas\n",
    "print(\"=== Estatísticas descritivas das colunas restantes ===\")\n",
    "print(df_numericas[colunas_restantes].describe())\n",
    "\n",
    "# 2. Boxplots para cada coluna\n",
    "for coluna in colunas_restantes:\n",
    "    plt.figure(figsize=(8, 4))\n",
    "    plt.boxplot(df_numericas[coluna], vert=False)\n",
    "    plt.title(f'Boxplot - {coluna}')\n",
    "    plt.xlabel(coluna)\n",
    "    plt.show()\n"
   ]
  },
  {
   "cell_type": "markdown",
   "id": "ea39dbe3",
   "metadata": {},
   "source": [
    " **Conclusão da análise de distribuição e outliers**\n",
    "A análise descritiva e os boxplots permitiram uma avaliação mais clara das variáveis numéricas restantes e mostraram o seguinte cenário:\n",
    "\n",
    "percentual_utilizacao_credito → distribuição estável e dentro do esperado; não requer tratamento adicional.\n",
    "\n",
    "dias_atraso_pagamento → apresentou um número muito pequeno de valores negativos (ex.: -5), provavelmente um erro de digitação. Esses valores devem ser corrigidos para 0, já que não faz sentido existir “dias de atraso negativos”.\n",
    "\n",
    "qtd_contas_bancarias e taxa_juros → exibiram outliers relevantes, que podem estar distorcendo a distribuição. Essas variáveis exigem análise mais detalhada para decidir como tratar os valores extremos (ex.: capping, substituição por mediana ou avaliação de plausibilidade caso os valores sejam legítimos)."
   ]
  },
  {
   "cell_type": "markdown",
   "id": "3686f7e6",
   "metadata": {},
   "source": [
    "### Dias de Atraso de Pagamento "
   ]
  },
  {
   "cell_type": "code",
   "execution_count": 203,
   "id": "3dda8951",
   "metadata": {},
   "outputs": [
    {
     "name": "stdout",
     "output_type": "stream",
     "text": [
      "Total de valores negativos em dias_atraso_pagamento: 591\n"
     ]
    }
   ],
   "source": [
    "negativos_dias_atraso = (df_numericas['dias_atraso_pagamento'] < 0).sum()\n",
    "print(\"Total de valores negativos em dias_atraso_pagamento:\", negativos_dias_atraso)\n"
   ]
  },
  {
   "cell_type": "markdown",
   "id": "b03122d2",
   "metadata": {},
   "source": [
    "Valores negativos em dias_atraso_pagamento → transformar em positivos\n",
    "\n",
    "Preserva a magnitude do atraso (quem atrasou 5 dias continua com 5)\n",
    "\n",
    "Corrige o erro de digitação sem “apagar” informação útil"
   ]
  },
  {
   "cell_type": "code",
   "execution_count": 204,
   "id": "7e6a6107",
   "metadata": {},
   "outputs": [
    {
     "name": "stdout",
     "output_type": "stream",
     "text": [
      "Valores negativos restantes: 0\n"
     ]
    }
   ],
   "source": [
    "# Transformar valores negativos em positivos\n",
    "df_numericas['dias_atraso_pagamento'] = df_numericas['dias_atraso_pagamento'].abs()\n",
    "\n",
    "# Conferir se ainda restam valores negativos\n",
    "print(\"Valores negativos restantes:\", (df_numericas['dias_atraso_pagamento'] < 0).sum())\n"
   ]
  },
  {
   "cell_type": "markdown",
   "id": "873f3723",
   "metadata": {},
   "source": [
    "### Quantidade de conta bancarias"
   ]
  },
  {
   "cell_type": "code",
   "execution_count": 205,
   "id": "974a79b7",
   "metadata": {},
   "outputs": [
    {
     "name": "stdout",
     "output_type": "stream",
     "text": [
      "Total de clientes com mais de 20 contas bancárias: 1314\n",
      "Maiores valores únicos encontrados:\n",
      "[np.int64(1798), np.int64(1794), np.int64(1793), np.int64(1789), np.int64(1786), np.int64(1784), np.int64(1783), np.int64(1782), np.int64(1779), np.int64(1778), np.int64(1777), np.int64(1775), np.int64(1774), np.int64(1771), np.int64(1770)]\n"
     ]
    }
   ],
   "source": [
    "acima_20_contas = (df_numericas['qtd_contas_bancarias'] > 20).sum()\n",
    "print(\"Total de clientes com mais de 20 contas bancárias:\", acima_20_contas)\n",
    "\n",
    "# (Opcional) ver os maiores valores para entender o nível do outlier\n",
    "print(\"Maiores valores únicos encontrados:\")\n",
    "print(sorted(df_numericas['qtd_contas_bancarias'].unique(), reverse=True)[:15])\n"
   ]
  },
  {
   "cell_type": "markdown",
   "id": "157fe795",
   "metadata": {},
   "source": [
    "Corrigir valores negativos → usar .abs() para transformá-los em positivos.\n",
    "\n",
    "Identificar outliers acima de 20 → esses valores serão tratados como erro de digitação.\n",
    "\n",
    "Calcular a mediana dos valores válidos (≤20) e imputar a mediana nos registros acima de 20 (Menos de 2000 a serem imputados)."
   ]
  },
  {
   "cell_type": "code",
   "execution_count": 206,
   "id": "8344d004",
   "metadata": {},
   "outputs": [
    {
     "name": "stdout",
     "output_type": "stream",
     "text": [
      "Mediana (valores ≤20): 5.0\n",
      "Valores NaN após imputação: 0\n",
      "count   100,000.00\n",
      "mean          5.36\n",
      "std           2.58\n",
      "min           0.00\n",
      "25%           3.00\n",
      "50%           5.00\n",
      "75%           7.00\n",
      "max          18.00\n",
      "Name: qtd_contas_bancarias, dtype: float64\n"
     ]
    }
   ],
   "source": [
    "# 1. Corrigir negativos (transformar em positivos)\n",
    "df_numericas['qtd_contas_bancarias'] = df_numericas['qtd_contas_bancarias'].abs()\n",
    "\n",
    "# 2. Marcar valores acima de 20 como NaN (são outliers evidentes)\n",
    "df_numericas.loc[df_numericas['qtd_contas_bancarias'] > 20, 'qtd_contas_bancarias'] = np.nan\n",
    "\n",
    "# 3. Calcular a mediana dos valores válidos (≤20)\n",
    "mediana_contas = df_numericas['qtd_contas_bancarias'].median()\n",
    "print(\"Mediana (valores ≤20):\", mediana_contas)\n",
    "\n",
    "# 4. Imputar a mediana nos valores que ficaram como NaN\n",
    "df_numericas['qtd_contas_bancarias'] = df_numericas['qtd_contas_bancarias'].fillna(mediana_contas)\n",
    "\n",
    "# 5. Conferir se restaram NaN e estatísticas finais\n",
    "print(\"Valores NaN após imputação:\", df_numericas['qtd_contas_bancarias'].isna().sum())\n",
    "print(df_numericas['qtd_contas_bancarias'].describe())\n"
   ]
  },
  {
   "cell_type": "markdown",
   "id": "b23e5d91",
   "metadata": {},
   "source": [
    "### Taxa de Juros "
   ]
  },
  {
   "cell_type": "code",
   "execution_count": 208,
   "id": "55e034f5",
   "metadata": {},
   "outputs": [
    {
     "name": "stdout",
     "output_type": "stream",
     "text": [
      "Total de registros com taxa_juros acima de 100: 2012\n",
      "Maiores valores únicos de taxa_juros: [np.int64(5797), np.int64(5789), np.int64(5788), np.int64(5776), np.int64(5775), np.int64(5774), np.int64(5773), np.int64(5771), np.int64(5770), np.int64(5763), np.int64(5762), np.int64(5756), np.int64(5752), np.int64(5751), np.int64(5747), np.int64(5745), np.int64(5743), np.int64(5740), np.int64(5739), np.int64(5737), np.int64(5733), np.int64(5732), np.int64(5731), np.int64(5729), np.int64(5722), np.int64(5721), np.int64(5718), np.int64(5717), np.int64(5713), np.int64(5712), np.int64(5710), np.int64(5709), np.int64(5707), np.int64(5705), np.int64(5704), np.int64(5703), np.int64(5701), np.int64(5699), np.int64(5698), np.int64(5697)]\n"
     ]
    }
   ],
   "source": [
    "# 1. Contar quantos registros estão acima de 100\n",
    "acima_100 = (df_numericas['taxa_juros'] > 100).sum()\n",
    "print(\"Total de registros com taxa_juros acima de 100:\", acima_100)\n",
    "\n",
    "# 2. Ver os maiores valores únicos\n",
    "valores_unicos_juros = sorted(df_numericas['taxa_juros'].unique(), reverse=True)[:40]\n",
    "print(\"Maiores valores únicos de taxa_juros:\", valores_unicos_juros)\n"
   ]
  },
  {
   "cell_type": "code",
   "execution_count": 209,
   "id": "8e068de6",
   "metadata": {},
   "outputs": [
    {
     "name": "stdout",
     "output_type": "stream",
     "text": [
      "Total de registros com taxa_juros entre 50 e 100: 22\n",
      "Valores únicos de taxa_juros entre 50 e 100: [np.int64(59), np.int64(60), np.int64(64), np.int64(67), np.int64(73), np.int64(74), np.int64(75), np.int64(76), np.int64(77), np.int64(81), np.int64(87), np.int64(89), np.int64(91), np.int64(92), np.int64(94), np.int64(95), np.int64(98), np.int64(99), np.int64(100)]\n"
     ]
    }
   ],
   "source": [
    "# Filtrar registros com taxa_juros entre 50 e 100\n",
    "juros_50_100 = df_numericas[(df_numericas['taxa_juros'] >= 50) & \n",
    "                            (df_numericas['taxa_juros'] <= 100)]\n",
    "\n",
    "# Contar quantos casos existem nesse intervalo\n",
    "print(\"Total de registros com taxa_juros entre 50 e 100:\", juros_50_100.shape[0])\n",
    "\n",
    "# Exibir os valores únicos nesse intervalo para inspecionar\n",
    "valores_unicos_50_100 = sorted(juros_50_100['taxa_juros'].unique())\n",
    "print(\"Valores únicos de taxa_juros entre 50 e 100:\", valores_unicos_50_100)\n"
   ]
  },
  {
   "cell_type": "code",
   "execution_count": 210,
   "id": "304dde77",
   "metadata": {},
   "outputs": [
    {
     "name": "stdout",
     "output_type": "stream",
     "text": [
      "Total de registros com taxa_juros entre 40 e 50: 0\n",
      "Valores únicos de taxa_juros entre 40 e 50: []\n"
     ]
    }
   ],
   "source": [
    "# Filtrar registros com taxa_juros entre 40 e 50\n",
    "juros_40_50 = df_numericas[(df_numericas['taxa_juros'] >= 40) & \n",
    "                           (df_numericas['taxa_juros'] < 50)]\n",
    "\n",
    "# Contar quantos casos existem nesse intervalo\n",
    "print(\"Total de registros com taxa_juros entre 40 e 50:\", juros_40_50.shape[0])\n",
    "\n",
    "# Exibir os valores únicos nesse intervalo para inspecionar\n",
    "valores_unicos_40_50 = sorted(juros_40_50['taxa_juros'].unique())\n",
    "print(\"Valores únicos de taxa_juros entre 40 e 50:\", valores_unicos_40_50)\n"
   ]
  },
  {
   "cell_type": "markdown",
   "id": "5b4b9256",
   "metadata": {},
   "source": [
    "**Texto explicativo – Conclusão sobre os outliers em taxa_juros**   \n",
    "Durante a análise de distribuição da variável taxa_juros, identificamos um comportamento fora do padrão:\n",
    "\n",
    "Valores acima de 100: Foram encontrados 2.012 registros, todos com valores muito semelhantes e concentrados no padrão 5xxx (ex.: 5797, 5789, 5776).\n",
    "\n",
    "Valores entre 50 e 100: Apenas 22 registros, o que mostra que taxas muito altas são raríssimas no dataset.\n",
    "\n",
    "Valores entre 40 e 50: Nenhum registro foi encontrado, criando um “vazio” nessa faixa.\n",
    "\n",
    "Esse cenário indica que os 5xxx não representam taxas reais, mas sim um erro de digitação sistemático. Provavelmente, ao registrar a taxa, faltou a vírgula (ou ponto decimal), e valores como “5,797%” foram digitados como “5797”.\n",
    "\n",
    "Dessa forma, valores acima de 100 devem ser corrigidos dividindo por 1000.\n",
    "Com isso, “5797” se torna “5,797%”, o que faz sentido no contexto do dataset e corrige o erro mantendo a informação original."
   ]
  },
  {
   "cell_type": "code",
   "execution_count": 211,
   "id": "9f97c628",
   "metadata": {},
   "outputs": [
    {
     "name": "stdout",
     "output_type": "stream",
     "text": [
      "=== Estatísticas após correção ===\n",
      "count   100,000.00\n",
      "mean         14.31\n",
      "std           8.86\n",
      "min           0.10\n",
      "25%           7.00\n",
      "50%          13.00\n",
      "75%          20.00\n",
      "max         100.00\n",
      "Name: taxa_juros, dtype: float64\n",
      "Maiores valores após ajuste:\n",
      "[np.float64(100.0), np.float64(99.0), np.float64(98.0), np.float64(95.0), np.float64(94.0), np.float64(92.0), np.float64(91.0), np.float64(89.0), np.float64(87.0), np.float64(81.0), np.float64(77.0), np.float64(76.0), np.float64(75.0), np.float64(74.0), np.float64(73.0), np.float64(67.0), np.float64(64.0), np.float64(60.0), np.float64(59.0), np.float64(34.0)]\n"
     ]
    },
    {
     "name": "stderr",
     "output_type": "stream",
     "text": [
      "C:\\Users\\User\\AppData\\Local\\Temp\\ipykernel_18076\\1719274733.py:2: FutureWarning: Setting an item of incompatible dtype is deprecated and will raise an error in a future version of pandas. Value '[5.318 0.433 5.24  ... 1.947 0.36  5.729]' has dtype incompatible with int64, please explicitly cast to a compatible dtype first.\n",
      "  df_numericas.loc[df_numericas['taxa_juros'] > 100, 'taxa_juros'] = (\n"
     ]
    }
   ],
   "source": [
    "# Corrigir valores acima de 100 em taxa_juros\n",
    "df_numericas.loc[df_numericas['taxa_juros'] > 100, 'taxa_juros'] = (\n",
    "    df_numericas.loc[df_numericas['taxa_juros'] > 100, 'taxa_juros'] / 1000\n",
    ")\n",
    "\n",
    "# Conferir estatísticas após correção\n",
    "print(\"=== Estatísticas após correção ===\")\n",
    "print(df_numericas['taxa_juros'].describe())\n",
    "\n",
    "# Conferir os maiores valores únicos para validar a correção\n",
    "print(\"Maiores valores após ajuste:\")\n",
    "print(sorted(df_numericas['taxa_juros'].unique(), reverse=True)[:20])\n"
   ]
  }
 ],
 "metadata": {
  "kernelspec": {
   "display_name": ".venv (3.11.3)",
   "language": "python",
   "name": "python3"
  },
  "language_info": {
   "codemirror_mode": {
    "name": "ipython",
    "version": 3
   },
   "file_extension": ".py",
   "mimetype": "text/x-python",
   "name": "python",
   "nbconvert_exporter": "python",
   "pygments_lexer": "ipython3",
   "version": "3.11.3"
  }
 },
 "nbformat": 4,
 "nbformat_minor": 5
}
