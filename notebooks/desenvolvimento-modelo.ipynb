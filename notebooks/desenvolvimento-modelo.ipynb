{
 "cells": [
  {
   "cell_type": "markdown",
   "id": "ed1d88a7",
   "metadata": {},
   "source": [
    "# Importação de Bibliotecas"
   ]
  },
  {
   "cell_type": "code",
   "execution_count": 27,
   "id": "4f62fc9a",
   "metadata": {},
   "outputs": [
    {
     "name": "stdout",
     "output_type": "stream",
     "text": [
      " Todas as bibliotecas carregadas com sucesso!\n"
     ]
    }
   ],
   "source": [
    "#  Importação de bibliotecas completas para experimentos com MLflow e DVC/Dagshub\n",
    "\n",
    "# Manipulação de dados\n",
    "import numpy as np\n",
    "import pandas as pd\n",
    "\n",
    "# Visualização\n",
    "import matplotlib.pyplot as plt\n",
    "import seaborn as sns\n",
    "\n",
    "# DVC / Dagshub para versionamento e conexão de dados\n",
    "import dvc.api\n",
    "from dagshub.data_engine import datasources\n",
    "import dagshub\n",
    "\n",
    "# Rastreamento de experimentos\n",
    "import mlflow\n",
    "import mlflow.sklearn\n",
    "import mlflow.catboost\n",
    "import mlflow.models.signature\n",
    "from mlflow.models import infer_signature\n",
    "\n",
    "# Machine Learning (modelos, treino, métricas)\n",
    "from sklearn.model_selection import train_test_split, cross_val_score, GridSearchCV\n",
    "from sklearn.preprocessing import RobustScaler, StandardScaler, LabelEncoder\n",
    "from sklearn.metrics import (\n",
    "    accuracy_score, confusion_matrix, classification_report,\n",
    "    mean_squared_error, mean_absolute_error, r2_score, mean_absolute_percentage_error,\n",
    "    make_scorer\n",
    ")\n",
    "\n",
    "# Modelos básicos\n",
    "from sklearn.linear_model import LinearRegression, LogisticRegression, Ridge\n",
    "from sklearn.tree import DecisionTreeClassifier, DecisionTreeRegressor\n",
    "from sklearn.ensemble import RandomForestClassifier, RandomForestRegressor, GradientBoostingClassifier\n",
    "from sklearn.neural_network import MLPRegressor\n",
    "from sklearn.svm import SVR\n",
    "from sklearn.gaussian_process import GaussianProcessRegressor\n",
    "from sklearn.gaussian_process.kernels import RBF, ConstantKernel as C\n",
    "from sklearn.metrics import precision_recall_fscore_support, classification_report\n",
    "from sklearn.model_selection import RandomizedSearchCV\n",
    "from xgboost import XGBClassifier\n",
    "import tempfile\n",
    "import os\n",
    "from lightgbm import LGBMClassifier\n",
    "\n",
    "# Gradient Boosting Libraries\n",
    "import xgboost as xgb\n",
    "from xgboost import XGBRegressor\n",
    "import lightgbm as lgb\n",
    "from catboost import CatBoostRegressor\n",
    "from xgboost import XGBClassifier\n",
    "# Utilidades do sistema\n",
    "import os\n",
    "import warnings\n",
    "warnings.filterwarnings('ignore')\n",
    "\n",
    "print(\" Todas as bibliotecas carregadas com sucesso!\")\n"
   ]
  },
  {
   "cell_type": "markdown",
   "id": "27f615f2",
   "metadata": {},
   "source": [
    "# Carregamento do Dataset Processado"
   ]
  },
  {
   "cell_type": "markdown",
   "id": "f7518e5a",
   "metadata": {},
   "source": [
    "Nesta etapa, vamos acessar o dataset processado diretamente do repositório versionado no **Dagshub/DVC**.  \n"
   ]
  },
  {
   "cell_type": "code",
   "execution_count": 4,
   "id": "4694934b",
   "metadata": {},
   "outputs": [
    {
     "data": {
      "application/vnd.jupyter.widget-view+json": {
       "model_id": "44fa49f66b244e00aabcf0dacf566cec",
       "version_major": 2,
       "version_minor": 0
      },
      "text/plain": [
       "Output()"
      ]
     },
     "metadata": {},
     "output_type": "display_data"
    },
    {
     "data": {
      "text/html": [
       "<pre style=\"white-space:pre;overflow-x:auto;line-height:normal;font-family:Menlo,'DejaVu Sans Mono',consolas,'Courier New',monospace\"></pre>\n"
      ],
      "text/plain": []
     },
     "metadata": {},
     "output_type": "display_data"
    },
    {
     "data": {
      "text/html": [
       "<div>\n",
       "<style scoped>\n",
       "    .dataframe tbody tr th:only-of-type {\n",
       "        vertical-align: middle;\n",
       "    }\n",
       "\n",
       "    .dataframe tbody tr th {\n",
       "        vertical-align: top;\n",
       "    }\n",
       "\n",
       "    .dataframe thead th {\n",
       "        text-align: right;\n",
       "    }\n",
       "</style>\n",
       "<table border=\"1\" class=\"dataframe\">\n",
       "  <thead>\n",
       "    <tr style=\"text-align: right;\">\n",
       "      <th></th>\n",
       "      <th>path</th>\n",
       "      <th>datapoint_id</th>\n",
       "      <th>dagshub_download_url</th>\n",
       "      <th>media type</th>\n",
       "      <th>size</th>\n",
       "    </tr>\n",
       "  </thead>\n",
       "  <tbody>\n",
       "    <tr>\n",
       "      <th>0</th>\n",
       "      <td>credit_score_processed.csv</td>\n",
       "      <td>103598542</td>\n",
       "      <td>https://dagshub.com/api/v1/repos/estrellacouto...</td>\n",
       "      <td>text/plain</td>\n",
       "      <td>32908761</td>\n",
       "    </tr>\n",
       "  </tbody>\n",
       "</table>\n",
       "</div>"
      ],
      "text/plain": [
       "                         path  datapoint_id  \\\n",
       "0  credit_score_processed.csv     103598542   \n",
       "\n",
       "                                dagshub_download_url  media type      size  \n",
       "0  https://dagshub.com/api/v1/repos/estrellacouto...  text/plain  32908761  "
      ]
     },
     "execution_count": 4,
     "metadata": {},
     "output_type": "execute_result"
    }
   ],
   "source": [
    "# Carrega o dataset processado via Dagshub Data Engine\n",
    "ds = datasources.get('estrellacouto05/quantum-finance-credit-score', 'processed')\n",
    "\n",
    "# Exibe as primeiras linhas para verificação\n",
    "ds.all().dataframe\n",
    "\n"
   ]
  },
  {
   "cell_type": "markdown",
   "id": "347c112d",
   "metadata": {},
   "source": [
    "Após obter o objeto `datasource`, agora vamos recuperar o link de download do dataset versionado.   \n",
    "Com essa URL, carregamos os dados diretamente em um **DataFrame Pandas**."
   ]
  },
  {
   "cell_type": "code",
   "execution_count": 5,
   "id": "ab6bdd59",
   "metadata": {},
   "outputs": [
    {
     "data": {
      "application/vnd.jupyter.widget-view+json": {
       "model_id": "d25bee2896cd487db92b66a0c2501497",
       "version_major": 2,
       "version_minor": 0
      },
      "text/plain": [
       "Output()"
      ]
     },
     "metadata": {},
     "output_type": "display_data"
    },
    {
     "data": {
      "text/html": [
       "<pre style=\"white-space:pre;overflow-x:auto;line-height:normal;font-family:Menlo,'DejaVu Sans Mono',consolas,'Courier New',monospace\"></pre>\n"
      ],
      "text/plain": []
     },
     "metadata": {},
     "output_type": "display_data"
    },
    {
     "data": {
      "text/html": [
       "<div>\n",
       "<style scoped>\n",
       "    .dataframe tbody tr th:only-of-type {\n",
       "        vertical-align: middle;\n",
       "    }\n",
       "\n",
       "    .dataframe tbody tr th {\n",
       "        vertical-align: top;\n",
       "    }\n",
       "\n",
       "    .dataframe thead th {\n",
       "        text-align: right;\n",
       "    }\n",
       "</style>\n",
       "<table border=\"1\" class=\"dataframe\">\n",
       "  <thead>\n",
       "    <tr style=\"text-align: right;\">\n",
       "      <th></th>\n",
       "      <th>idade</th>\n",
       "      <th>renda_anual</th>\n",
       "      <th>salario_liquido_mensal</th>\n",
       "      <th>qtd_contas_bancarias</th>\n",
       "      <th>qtd_cartoes_credito</th>\n",
       "      <th>taxa_juros</th>\n",
       "      <th>qtd_emprestimos</th>\n",
       "      <th>dias_atraso_pagamento</th>\n",
       "      <th>qtd_pagamentos_atrasados</th>\n",
       "      <th>variacao_limite_credito</th>\n",
       "      <th>...</th>\n",
       "      <th>tipos_emprestimos_Credit-Builder Loan</th>\n",
       "      <th>tipos_emprestimos_Debt Consolidation Loan</th>\n",
       "      <th>tipos_emprestimos_Home Equity Loan</th>\n",
       "      <th>tipos_emprestimos_Mortgage Loan</th>\n",
       "      <th>tipos_emprestimos_Not Specified</th>\n",
       "      <th>tipos_emprestimos_Payday Loan</th>\n",
       "      <th>tipos_emprestimos_Personal Loan</th>\n",
       "      <th>tipos_emprestimos_Student Loan</th>\n",
       "      <th>tipos_emprestimos_Two or More Types of Loan</th>\n",
       "      <th>score_credito</th>\n",
       "    </tr>\n",
       "  </thead>\n",
       "  <tbody>\n",
       "    <tr>\n",
       "      <th>0</th>\n",
       "      <td>23.0</td>\n",
       "      <td>19114.12</td>\n",
       "      <td>1824.843333</td>\n",
       "      <td>3.0</td>\n",
       "      <td>4</td>\n",
       "      <td>3.0</td>\n",
       "      <td>4.0</td>\n",
       "      <td>3</td>\n",
       "      <td>7.0</td>\n",
       "      <td>11.27</td>\n",
       "      <td>...</td>\n",
       "      <td>False</td>\n",
       "      <td>False</td>\n",
       "      <td>False</td>\n",
       "      <td>False</td>\n",
       "      <td>False</td>\n",
       "      <td>False</td>\n",
       "      <td>False</td>\n",
       "      <td>False</td>\n",
       "      <td>True</td>\n",
       "      <td>2</td>\n",
       "    </tr>\n",
       "    <tr>\n",
       "      <th>1</th>\n",
       "      <td>23.0</td>\n",
       "      <td>19114.12</td>\n",
       "      <td>3335.886667</td>\n",
       "      <td>3.0</td>\n",
       "      <td>4</td>\n",
       "      <td>3.0</td>\n",
       "      <td>4.0</td>\n",
       "      <td>1</td>\n",
       "      <td>12.0</td>\n",
       "      <td>11.27</td>\n",
       "      <td>...</td>\n",
       "      <td>False</td>\n",
       "      <td>False</td>\n",
       "      <td>False</td>\n",
       "      <td>False</td>\n",
       "      <td>False</td>\n",
       "      <td>False</td>\n",
       "      <td>False</td>\n",
       "      <td>False</td>\n",
       "      <td>True</td>\n",
       "      <td>2</td>\n",
       "    </tr>\n",
       "    <tr>\n",
       "      <th>2</th>\n",
       "      <td>35.0</td>\n",
       "      <td>19114.12</td>\n",
       "      <td>3335.886667</td>\n",
       "      <td>3.0</td>\n",
       "      <td>4</td>\n",
       "      <td>3.0</td>\n",
       "      <td>4.0</td>\n",
       "      <td>3</td>\n",
       "      <td>7.0</td>\n",
       "      <td>9.40</td>\n",
       "      <td>...</td>\n",
       "      <td>False</td>\n",
       "      <td>False</td>\n",
       "      <td>False</td>\n",
       "      <td>False</td>\n",
       "      <td>False</td>\n",
       "      <td>False</td>\n",
       "      <td>False</td>\n",
       "      <td>False</td>\n",
       "      <td>True</td>\n",
       "      <td>2</td>\n",
       "    </tr>\n",
       "    <tr>\n",
       "      <th>3</th>\n",
       "      <td>23.0</td>\n",
       "      <td>19114.12</td>\n",
       "      <td>3335.886667</td>\n",
       "      <td>3.0</td>\n",
       "      <td>4</td>\n",
       "      <td>3.0</td>\n",
       "      <td>4.0</td>\n",
       "      <td>5</td>\n",
       "      <td>4.0</td>\n",
       "      <td>6.27</td>\n",
       "      <td>...</td>\n",
       "      <td>False</td>\n",
       "      <td>False</td>\n",
       "      <td>False</td>\n",
       "      <td>False</td>\n",
       "      <td>False</td>\n",
       "      <td>False</td>\n",
       "      <td>False</td>\n",
       "      <td>False</td>\n",
       "      <td>True</td>\n",
       "      <td>2</td>\n",
       "    </tr>\n",
       "    <tr>\n",
       "      <th>4</th>\n",
       "      <td>23.0</td>\n",
       "      <td>19114.12</td>\n",
       "      <td>1824.843333</td>\n",
       "      <td>3.0</td>\n",
       "      <td>4</td>\n",
       "      <td>3.0</td>\n",
       "      <td>4.0</td>\n",
       "      <td>6</td>\n",
       "      <td>12.0</td>\n",
       "      <td>11.27</td>\n",
       "      <td>...</td>\n",
       "      <td>False</td>\n",
       "      <td>False</td>\n",
       "      <td>False</td>\n",
       "      <td>False</td>\n",
       "      <td>False</td>\n",
       "      <td>False</td>\n",
       "      <td>False</td>\n",
       "      <td>False</td>\n",
       "      <td>True</td>\n",
       "      <td>2</td>\n",
       "    </tr>\n",
       "  </tbody>\n",
       "</table>\n",
       "<p>5 rows × 49 columns</p>\n",
       "</div>"
      ],
      "text/plain": [
       "   idade  renda_anual  salario_liquido_mensal  qtd_contas_bancarias  \\\n",
       "0   23.0     19114.12             1824.843333                   3.0   \n",
       "1   23.0     19114.12             3335.886667                   3.0   \n",
       "2   35.0     19114.12             3335.886667                   3.0   \n",
       "3   23.0     19114.12             3335.886667                   3.0   \n",
       "4   23.0     19114.12             1824.843333                   3.0   \n",
       "\n",
       "   qtd_cartoes_credito  taxa_juros  qtd_emprestimos  dias_atraso_pagamento  \\\n",
       "0                    4         3.0              4.0                      3   \n",
       "1                    4         3.0              4.0                      1   \n",
       "2                    4         3.0              4.0                      3   \n",
       "3                    4         3.0              4.0                      5   \n",
       "4                    4         3.0              4.0                      6   \n",
       "\n",
       "   qtd_pagamentos_atrasados  variacao_limite_credito  ...  \\\n",
       "0                       7.0                    11.27  ...   \n",
       "1                      12.0                    11.27  ...   \n",
       "2                       7.0                     9.40  ...   \n",
       "3                       4.0                     6.27  ...   \n",
       "4                      12.0                    11.27  ...   \n",
       "\n",
       "   tipos_emprestimos_Credit-Builder Loan  \\\n",
       "0                                  False   \n",
       "1                                  False   \n",
       "2                                  False   \n",
       "3                                  False   \n",
       "4                                  False   \n",
       "\n",
       "   tipos_emprestimos_Debt Consolidation Loan  \\\n",
       "0                                      False   \n",
       "1                                      False   \n",
       "2                                      False   \n",
       "3                                      False   \n",
       "4                                      False   \n",
       "\n",
       "   tipos_emprestimos_Home Equity Loan  tipos_emprestimos_Mortgage Loan  \\\n",
       "0                               False                            False   \n",
       "1                               False                            False   \n",
       "2                               False                            False   \n",
       "3                               False                            False   \n",
       "4                               False                            False   \n",
       "\n",
       "   tipos_emprestimos_Not Specified  tipos_emprestimos_Payday Loan  \\\n",
       "0                            False                          False   \n",
       "1                            False                          False   \n",
       "2                            False                          False   \n",
       "3                            False                          False   \n",
       "4                            False                          False   \n",
       "\n",
       "   tipos_emprestimos_Personal Loan  tipos_emprestimos_Student Loan  \\\n",
       "0                            False                           False   \n",
       "1                            False                           False   \n",
       "2                            False                           False   \n",
       "3                            False                           False   \n",
       "4                            False                           False   \n",
       "\n",
       "   tipos_emprestimos_Two or More Types of Loan  score_credito  \n",
       "0                                         True              2  \n",
       "1                                         True              2  \n",
       "2                                         True              2  \n",
       "3                                         True              2  \n",
       "4                                         True              2  \n",
       "\n",
       "[5 rows x 49 columns]"
      ]
     },
     "execution_count": 5,
     "metadata": {},
     "output_type": "execute_result"
    }
   ],
   "source": [
    "# Obtém os primeiros registros do datasource e extrai o URL de download\n",
    "res = ds.head()\n",
    "\n",
    "for dp in res:\n",
    "    dataset_url = dp.download_url\n",
    "\n",
    "# Carrega o dataset diretamente a partir do link de download\n",
    "df = pd.read_csv(dataset_url)\n",
    "\n",
    "# Exibe as primeiras linhas para verificação\n",
    "df.head()\n"
   ]
  },
  {
   "cell_type": "markdown",
   "id": "6ac53ac9",
   "metadata": {},
   "source": [
    "# Desenvolvimento e experimentos de modelos"
   ]
  },
  {
   "cell_type": "markdown",
   "id": "a0c9bf90",
   "metadata": {},
   "source": [
    "## Inicialização do Dagshub com MLflow"
   ]
  },
  {
   "cell_type": "code",
   "execution_count": 6,
   "id": "eb25c349",
   "metadata": {},
   "outputs": [
    {
     "data": {
      "text/html": [
       "<pre style=\"white-space:pre;overflow-x:auto;line-height:normal;font-family:Menlo,'DejaVu Sans Mono',consolas,'Courier New',monospace\">Initialized MLflow to track repo <span style=\"color: #008000; text-decoration-color: #008000\">\"estrellacouto05/quantum-finance-credit-score\"</span>\n",
       "</pre>\n"
      ],
      "text/plain": [
       "Initialized MLflow to track repo \u001b[32m\"estrellacouto05/quantum-finance-credit-score\"\u001b[0m\n"
      ]
     },
     "metadata": {},
     "output_type": "display_data"
    },
    {
     "data": {
      "text/html": [
       "<pre style=\"white-space:pre;overflow-x:auto;line-height:normal;font-family:Menlo,'DejaVu Sans Mono',consolas,'Courier New',monospace\">Repository estrellacouto05/quantum-finance-credit-score initialized!\n",
       "</pre>\n"
      ],
      "text/plain": [
       "Repository estrellacouto05/quantum-finance-credit-score initialized!\n"
      ]
     },
     "metadata": {},
     "output_type": "display_data"
    },
    {
     "name": "stdout",
     "output_type": "stream",
     "text": [
      "Dagshub inicializado e MLflow configurado.\n"
     ]
    }
   ],
   "source": [
    "# Inicializa o Dagshub com integração ao MLflow\n",
    "dagshub.init(repo_owner='estrellacouto05',\n",
    "             repo_name='quantum-finance-credit-score',\n",
    "             mlflow=True)\n",
    "\n",
    "print(\"Dagshub inicializado e MLflow configurado.\")\n"
   ]
  },
  {
   "cell_type": "code",
   "execution_count": 7,
   "id": "c0ae4d3f",
   "metadata": {},
   "outputs": [
    {
     "name": "stderr",
     "output_type": "stream",
     "text": [
      "2025/08/03 20:32:33 INFO mlflow.tracking.fluent: Autologging successfully enabled for lightgbm.\n",
      "2025/08/03 20:32:35 INFO mlflow.tracking.fluent: Autologging successfully enabled for sklearn.\n",
      "2025/08/03 20:32:35 INFO mlflow.tracking.fluent: Autologging successfully enabled for xgboost.\n"
     ]
    },
    {
     "name": "stdout",
     "output_type": "stream",
     "text": [
      "MLflow Autolog habilitado.\n"
     ]
    }
   ],
   "source": [
    "# Ativa o registro automático de experimentos com MLflow\n",
    "mlflow.autolog()\n",
    "\n",
    "print(\"MLflow Autolog habilitado.\")\n"
   ]
  },
  {
   "cell_type": "markdown",
   "id": "88414c05",
   "metadata": {},
   "source": [
    "## Separação de Features e Target\n",
    "\n"
   ]
  },
  {
   "cell_type": "markdown",
   "id": "6f572696",
   "metadata": {},
   "source": [
    "Nesta etapa, vamos separar as variáveis independentes (features) do target (`score_credito`).  \n",
    "Isso organiza o dataset para os modelos de Machine Learning, que aprenderão a prever o target com base nas features."
   ]
  },
  {
   "cell_type": "code",
   "execution_count": 8,
   "id": "82edcf5a",
   "metadata": {},
   "outputs": [
    {
     "name": "stdout",
     "output_type": "stream",
     "text": [
      "Total de features: 48\n"
     ]
    }
   ],
   "source": [
    "# Lista todas as colunas e remove o target 'score_credito' da lista de features\n",
    "features = list(df.columns)\n",
    "features.remove(\"score_credito\")\n",
    "\n",
    "# Exibe o total de features selecionadas\n",
    "print(f\"Total de features: {len(features)}\")\n"
   ]
  },
  {
   "cell_type": "code",
   "execution_count": 9,
   "id": "c06c1784",
   "metadata": {},
   "outputs": [
    {
     "name": "stdout",
     "output_type": "stream",
     "text": [
      "Dimensões de X: (100000, 48)\n",
      "Dimensões de y: (100000,)\n"
     ]
    }
   ],
   "source": [
    "# Cria os DataFrames para features (X) e target (y)\n",
    "X = df[features]\n",
    "y = df[\"score_credito\"]\n",
    "\n",
    "# Exibe informações básicas para conferência\n",
    "print(\"Dimensões de X:\", X.shape)\n",
    "print(\"Dimensões de y:\", y.shape)\n"
   ]
  },
  {
   "cell_type": "markdown",
   "id": "15a6cb89",
   "metadata": {},
   "source": [
    "## Divisão dos Dados e Escalonamento"
   ]
  },
  {
   "cell_type": "markdown",
   "id": "74b75f8d",
   "metadata": {},
   "source": [
    "Nesta etapa, dividimos os dados em conjuntos de treino e teste para avaliar o desempenho dos modelos de forma justa.  \n",
    "Utilizamos **70% para treino** e **30% para teste**.\n",
    "\n",
    "Depois aplicamos o **RobustScaler**, que é ideal para dados com outliers, pois utiliza medianas e intervalos interquartis, evitando distorções.\n"
   ]
  },
  {
   "cell_type": "code",
   "execution_count": 10,
   "id": "e7e48371",
   "metadata": {},
   "outputs": [
    {
     "name": "stdout",
     "output_type": "stream",
     "text": [
      "Conjuntos criados:\n",
      "X_train: (70000, 48), X_test: (30000, 48)\n",
      "y_train: (70000,), y_test: (30000,)\n"
     ]
    }
   ],
   "source": [
    "# Divide os dados em treino (70%) e teste (30%)\n",
    "X_train, X_test, y_train, y_test = train_test_split(X, y, test_size=0.3, random_state=42)\n",
    "\n",
    "print(\"Conjuntos criados:\")\n",
    "print(f\"X_train: {X_train.shape}, X_test: {X_test.shape}\")\n",
    "print(f\"y_train: {y_train.shape}, y_test: {y_test.shape}\")\n"
   ]
  },
  {
   "cell_type": "code",
   "execution_count": 11,
   "id": "070c9592",
   "metadata": {},
   "outputs": [
    {
     "name": "stdout",
     "output_type": "stream",
     "text": [
      "Escalonamento concluído.\n",
      "Dimensões após escalonamento: (70000, 48) (30000, 48)\n"
     ]
    }
   ],
   "source": [
    "# Inicializa o RobustScaler\n",
    "scaler = RobustScaler()\n",
    "\n",
    "# Ajusta o scaler apenas com os dados de treino e transforma\n",
    "X_train_scaled = scaler.fit_transform(X_train)\n",
    "\n",
    "# Aplica a mesma transformação nos dados de teste\n",
    "X_test_scaled = scaler.transform(X_test)\n",
    "\n",
    "print(\"Escalonamento concluído.\")\n",
    "print(\"Dimensões após escalonamento:\", X_train_scaled.shape, X_test_scaled.shape)\n"
   ]
  },
  {
   "cell_type": "markdown",
   "id": "bbb42492",
   "metadata": {},
   "source": [
    "## Função de Avaliação e Log no MLflow (Classificação)\n",
    "\n",
    "- **Métricas principais:** precision, recall e f1-score para cada classe.\n",
    "- **Destaque do recall da classe 0 (Poor)**, que é a mais importante.\n",
    "- **Matriz de confusão** gerada como gráfico e registrada no MLflow como artefato.\n",
    "- **Registro do modelo** no MLflow (CatBoost, XGBoost, LightGBM ou sklearn)."
   ]
  },
  {
   "cell_type": "code",
   "execution_count": 15,
   "id": "526afc19",
   "metadata": {},
   "outputs": [],
   "source": [
    "def evaluate_and_log_model(kind, model_name, model, X_test, y_test):\n",
    "    # Faz previsões\n",
    "    predictions = model.predict(X_test)\n",
    "\n",
    "    # Calcula métricas de classificação\n",
    "    precision, recall, f1, _ = precision_recall_fscore_support(y_test, predictions, labels=[0,1,2], zero_division=0)\n",
    "    report = classification_report(y_test, predictions, digits=3)\n",
    "\n",
    "    # Log de métricas macro (média das classes)\n",
    "    mlflow.log_metric(\"Precision_macro\", precision.mean())\n",
    "    mlflow.log_metric(\"Recall_macro\", recall.mean())\n",
    "    mlflow.log_metric(\"F1_macro\", f1.mean())\n",
    "\n",
    "    # Log detalhado de métricas por classe\n",
    "    mlflow.log_metric(\"Recall_class_0_Poor\", recall[0])\n",
    "    mlflow.log_metric(\"Precision_class_0_Poor\", precision[0])\n",
    "    mlflow.log_metric(\"F1_class_0_Poor\", f1[0])\n",
    "    mlflow.log_metric(\"Recall_class_1_Standard\", recall[1])\n",
    "    mlflow.log_metric(\"Recall_class_2_Good\", recall[2])\n",
    "\n",
    "    # Cria assinatura do modelo para salvar no MLflow\n",
    "    signature = infer_signature(X_test, predictions)\n",
    "\n",
    "    # Salva o modelo de acordo com o tipo\n",
    "    if kind == \"catboost\":\n",
    "        mlflow.catboost.log_model(model, model_name, signature=signature, input_example=X_test[:5])\n",
    "    elif kind == \"xgboost\":\n",
    "        mlflow.xgboost.log_model(model, model_name, signature=signature, input_example=X_test[:5])\n",
    "    elif kind == \"lightgbm\":\n",
    "        mlflow.lightgbm.log_model(model, model_name, signature=signature, input_example=X_test[:5])\n",
    "    else:\n",
    "        mlflow.sklearn.log_model(model, model_name, signature=signature, input_example=X_test[:5])\n",
    "\n",
    "    # Gera matriz de confusão\n",
    "    cm = confusion_matrix(y_test, predictions, labels=[0,1,2])\n",
    "    plt.figure(figsize=(6,4))\n",
    "    sns.heatmap(cm, annot=True, fmt='d', cmap='Blues', xticklabels=['Poor', 'Standard', 'Good'], yticklabels=['Poor', 'Standard', 'Good'])\n",
    "    plt.xlabel('Previsto')\n",
    "    plt.ylabel('Real')\n",
    "    plt.title(f'Matriz de Confusão - {model_name}')\n",
    "\n",
    "    # Salva a figura temporariamente e envia como artefato para o MLflow\n",
    "    with tempfile.TemporaryDirectory() as tmpdir:\n",
    "        cm_path = os.path.join(tmpdir, \"confusion_matrix.png\")\n",
    "        plt.savefig(cm_path)\n",
    "        plt.close()\n",
    "        mlflow.log_artifact(cm_path, artifact_path=\"confusion_matrix\")\n",
    "\n",
    "    # Print no console\n",
    "    print(f\"=== Avaliação do Modelo: {model_name} ===\")\n",
    "    print(report)\n",
    "    print(f\"Recall da classe 0 (Poor): {recall[0]:.3f}\")"
   ]
  },
  {
   "cell_type": "markdown",
   "id": "6108854d",
   "metadata": {},
   "source": [
    "## Etapa de Treinamento de Modelos – XGBoost\n",
    "\n",
    "A partir deste ponto, iniciamos o ciclo de **treinamento de modelos com MLflow**.  \n",
    "Começamos com o **XGBoost Classifier**, um modelo de boosting altamente eficaz em dados tabulares.\n",
    "\n",
    "- Foi usado **RandomizedSearchCV** com 30 combinações aleatórias de hiperparâmetros.\n",
    "- Todas as métricas (precision, recall, f1-score) e a matriz de confusão foram registradas no MLflow.\n",
    "- Nosso foco principal é **maximizar o recall da classe 0 (Poor)**, já que é a categoria mais crítica para o projeto.\n",
    "\n",
    "Após avaliar o XGBoost, avançaremos para **LightGBM** e **CatBoost** para comparar os resultados.\n"
   ]
  },
  {
   "cell_type": "code",
   "execution_count": 26,
   "id": "0c0fcd26",
   "metadata": {},
   "outputs": [
    {
     "name": "stderr",
     "output_type": "stream",
     "text": [
      "WARNING:urllib3.connectionpool:Retrying (Retry(total=6, connect=7, read=6, redirect=7, status=7)) after connection broken by 'RemoteDisconnected('Remote end closed connection without response')': /estrellacouto05/quantum-finance-credit-score.mlflow/api/2.0/mlflow/runs/create\n",
      "2025/08/03 22:02:56 WARNING mlflow.sklearn: Failed to log training dataset information to MLflow Tracking. Reason: 'Series' object has no attribute 'flatten'\n"
     ]
    },
    {
     "name": "stdout",
     "output_type": "stream",
     "text": [
      "Fitting 5 folds for each of 30 candidates, totalling 150 fits\n"
     ]
    },
    {
     "name": "stderr",
     "output_type": "stream",
     "text": [
      "WARNING:urllib3.connectionpool:Retrying (Retry(total=6, connect=7, read=6, redirect=7, status=7)) after connection broken by 'RemoteDisconnected('Remote end closed connection without response')': /estrellacouto05/quantum-finance-credit-score.mlflow/api/2.0/mlflow/runs/get?run_uuid=f9ec195a72dd4afb9b91f99ef5f727b2&run_id=f9ec195a72dd4afb9b91f99ef5f727b2\n",
      "2025/08/03 22:13:25 INFO mlflow.sklearn.utils: Logging the 5 best runs, 25 runs will be omitted.\n"
     ]
    },
    {
     "data": {
      "application/vnd.jupyter.widget-view+json": {
       "model_id": "71ac518ccedf4d2fb102ebc2a5c1b336",
       "version_major": 2,
       "version_minor": 0
      },
      "text/plain": [
       "Downloading artifacts:   0%|          | 0/7 [00:00<?, ?it/s]"
      ]
     },
     "metadata": {},
     "output_type": "display_data"
    },
    {
     "name": "stdout",
     "output_type": "stream",
     "text": [
      "=== Avaliação do Modelo: XGBoost Classifier RandomSearch ===\n",
      "              precision    recall  f1-score   support\n",
      "\n",
      "           0      0.767     0.727     0.747      8805\n",
      "           1      0.763     0.795     0.779     15873\n",
      "           2      0.669     0.642     0.655      5322\n",
      "\n",
      "    accuracy                          0.748     30000\n",
      "   macro avg      0.733     0.721     0.727     30000\n",
      "weighted avg      0.747     0.748     0.747     30000\n",
      "\n",
      "Recall da classe 0 (Poor): 0.727\n",
      "🏃 View run XGBoost_Classifier_RandomSearch at: https://dagshub.com/estrellacouto05/quantum-finance-credit-score.mlflow/#/experiments/0/runs/f9ec195a72dd4afb9b91f99ef5f727b2\n",
      "🧪 View experiment at: https://dagshub.com/estrellacouto05/quantum-finance-credit-score.mlflow/#/experiments/0\n"
     ]
    }
   ],
   "source": [
    "with mlflow.start_run(run_name=\"XGBoost_Classifier_RandomSearch\"):\n",
    "\n",
    "    # Definindo a grade de hiperparâmetros ampliada\n",
    "    param_distributions = {\n",
    "        'n_estimators': [50, 100, 200, 300],\n",
    "        'max_depth': [3, 5, 7, 9],\n",
    "        'learning_rate': [0.01, 0.05, 0.1],\n",
    "        'subsample': [0.7, 0.8, 1.0],\n",
    "        'colsample_bytree': [0.7, 0.8, 1.0],\n",
    "        'min_child_weight': [1, 3, 5]\n",
    "    }\n",
    "\n",
    "    # Modelo base XGBoost\n",
    "    xgb = XGBClassifier(use_label_encoder=False, eval_metric='mlogloss', random_state=42)\n",
    "\n",
    "    # RandomizedSearchCV para explorar combinações de hiperparâmetros\n",
    "    random_search = RandomizedSearchCV(\n",
    "        estimator=xgb,\n",
    "        param_distributions=param_distributions,\n",
    "        n_iter=30,                # número de combinações aleatórias a testar\n",
    "        scoring='recall_macro',   # métrica principal\n",
    "        cv=5,\n",
    "        n_jobs=-1,\n",
    "        verbose=1,\n",
    "        random_state=42\n",
    "    )\n",
    "\n",
    "    # Treina com os dados escalonados\n",
    "    random_search.fit(X_train_scaled, y_train)\n",
    "    best_model = random_search.best_estimator_\n",
    "\n",
    "    # Log dos melhores parâmetros no MLflow\n",
    "    best_params = random_search.best_params_\n",
    "    for param, value in best_params.items():\n",
    "        mlflow.log_param(param, value)\n",
    "\n",
    "    # Avalia e registra o modelo\n",
    "    evaluate_and_log_model(\"xgboost\", \"XGBoost Classifier RandomSearch\", best_model, X_test_scaled, y_test)"
   ]
  },
  {
   "cell_type": "markdown",
   "id": "c7441a62",
   "metadata": {},
   "source": [
    "## Treinamento do Modelo LightGBM com MLflow\n",
    "\n",
    "Agora vamos treinar o **LightGBM Classifier**, outro modelo de boosting eficiente e mais rápido que o XGBoost em muitos cenários.\n",
    "\n",
    "- Usaremos **RandomizedSearchCV** com 30 combinações, igual ao XGBoost, para manter o tempo de treino semelhante (~150 fits).\n",
    "- Vamos incluir parâmetros específicos do LightGBM, como **num_leaves**, que controla a complexidade das árvores.\n",
    "- Métrica de busca: **recall_macro**, priorizando melhor cobertura da classe “Poor”.\n",
    "- Tudo será registrado no **MLflow** para comparação posterior.\n"
   ]
  },
  {
   "cell_type": "code",
   "execution_count": 28,
   "id": "f00089af",
   "metadata": {},
   "outputs": [
    {
     "name": "stderr",
     "output_type": "stream",
     "text": [
      "WARNING:urllib3.connectionpool:Retrying (Retry(total=6, connect=7, read=6, redirect=7, status=7)) after connection broken by 'RemoteDisconnected('Remote end closed connection without response')': /estrellacouto05/quantum-finance-credit-score.mlflow/api/2.0/mlflow/runs/create\n",
      "2025/08/03 22:21:43 WARNING mlflow.sklearn: Failed to log training dataset information to MLflow Tracking. Reason: 'Series' object has no attribute 'flatten'\n"
     ]
    },
    {
     "name": "stdout",
     "output_type": "stream",
     "text": [
      "Fitting 5 folds for each of 30 candidates, totalling 150 fits\n",
      "[LightGBM] [Warning] Auto-choosing row-wise multi-threading, the overhead of testing was 0.010766 seconds.\n",
      "You can set `force_row_wise=true` to remove the overhead.\n",
      "And if memory is not enough, you can set `force_col_wise=true`.\n",
      "[LightGBM] [Info] Total Bins 2708\n",
      "[LightGBM] [Info] Number of data points in the train set: 70000, number of used features: 48\n",
      "[LightGBM] [Info] Start training from score -1.243159\n",
      "[LightGBM] [Info] Start training from score -0.629475\n",
      "[LightGBM] [Info] Start training from score -1.722287\n"
     ]
    },
    {
     "name": "stderr",
     "output_type": "stream",
     "text": [
      "WARNING:urllib3.connectionpool:Retrying (Retry(total=6, connect=7, read=6, redirect=7, status=7)) after connection broken by 'RemoteDisconnected('Remote end closed connection without response')': /estrellacouto05/quantum-finance-credit-score.mlflow/api/2.0/mlflow/runs/get?run_uuid=eaf41b22355a40d9a6a6b939818b364d&run_id=eaf41b22355a40d9a6a6b939818b364d\n",
      "2025/08/03 22:30:14 INFO mlflow.sklearn.utils: Logging the 5 best runs, 25 runs will be omitted.\n"
     ]
    },
    {
     "data": {
      "application/vnd.jupyter.widget-view+json": {
       "model_id": "4c1d453ad82f4afa9b495f2969e52775",
       "version_major": 2,
       "version_minor": 0
      },
      "text/plain": [
       "Downloading artifacts:   0%|          | 0/7 [00:00<?, ?it/s]"
      ]
     },
     "metadata": {},
     "output_type": "display_data"
    },
    {
     "name": "stdout",
     "output_type": "stream",
     "text": [
      "=== Avaliação do Modelo: LightGBM Classifier RandomSearch ===\n",
      "              precision    recall  f1-score   support\n",
      "\n",
      "           0      0.781     0.778     0.779      8805\n",
      "           1      0.788     0.810     0.799     15873\n",
      "           2      0.748     0.692     0.719      5322\n",
      "\n",
      "    accuracy                          0.780     30000\n",
      "   macro avg      0.773     0.760     0.766     30000\n",
      "weighted avg      0.779     0.780     0.779     30000\n",
      "\n",
      "Recall da classe 0 (Poor): 0.778\n",
      "🏃 View run LightGBM_Classifier_RandomSearch at: https://dagshub.com/estrellacouto05/quantum-finance-credit-score.mlflow/#/experiments/0/runs/eaf41b22355a40d9a6a6b939818b364d\n",
      "🧪 View experiment at: https://dagshub.com/estrellacouto05/quantum-finance-credit-score.mlflow/#/experiments/0\n"
     ]
    }
   ],
   "source": [
    "with mlflow.start_run(run_name=\"LightGBM_Classifier_RandomSearch\"):\n",
    "\n",
    "    # Definição do espaço de busca\n",
    "    param_distributions = {\n",
    "        'n_estimators': [50, 100, 200, 300],\n",
    "        'max_depth': [3, 5, 7, 9, -1],  # -1 = sem limite de profundidade\n",
    "        'learning_rate': [0.01, 0.05, 0.1],\n",
    "        'num_leaves': [15, 31, 63, 127],\n",
    "        'subsample': [0.7, 0.8, 1.0],\n",
    "        'colsample_bytree': [0.7, 0.8, 1.0]\n",
    "    }\n",
    "\n",
    "    # Modelo base LightGBM\n",
    "    lgb = LGBMClassifier(objective='multiclass', num_class=3, random_state=42)\n",
    "\n",
    "    # RandomizedSearchCV – 30 combinações x 5 folds = 150 fits\n",
    "    random_search = RandomizedSearchCV(\n",
    "        estimator=lgb,\n",
    "        param_distributions=param_distributions,\n",
    "        n_iter=30,\n",
    "        scoring='recall_macro',\n",
    "        cv=5,\n",
    "        n_jobs=-1,\n",
    "        verbose=1,\n",
    "        random_state=42\n",
    "    )\n",
    "\n",
    "    # Treina o modelo\n",
    "    random_search.fit(X_train_scaled, y_train)\n",
    "    best_model = random_search.best_estimator_\n",
    "\n",
    "    # Log dos melhores hiperparâmetros\n",
    "    best_params = random_search.best_params_\n",
    "    for param, value in best_params.items():\n",
    "        mlflow.log_param(param, value)\n",
    "\n",
    "    # Avalia e registra o modelo no MLflow\n",
    "    evaluate_and_log_model(\"lightgbm\", \"LightGBM Classifier RandomSearch\", best_model, X_test_scaled, y_test)\n"
   ]
  },
  {
   "cell_type": "markdown",
   "id": "5020f6bb",
   "metadata": {},
   "source": [
    "Melhor foi light gbm "
   ]
  },
  {
   "cell_type": "markdown",
   "id": "46ab5ea8",
   "metadata": {},
   "source": [
    "# Registro de Modelo em Produção"
   ]
  },
  {
   "cell_type": "markdown",
   "id": "4dfac46c",
   "metadata": {},
   "source": [
    "Após treinar e avaliar o modelo, podemos registrá-lo oficialmente no **Model Registry do MLflow**.  \n",
    "Isso permite versionar o modelo, promovê-lo para produção e gerenciar futuras atualizações.  \n",
    "\n",
    "- Usamos o **run_id** obtido no link do MLflow (na interface Dagshub).\n",
    "- Escolhemos um nome amigável e consistente para o modelo, neste caso: `credit-score-model`."
   ]
  },
  {
   "cell_type": "code",
   "execution_count": 30,
   "id": "ec613860",
   "metadata": {},
   "outputs": [
    {
     "name": "stderr",
     "output_type": "stream",
     "text": [
      "WARNING:urllib3.connectionpool:Retrying (Retry(total=6, connect=7, read=6, redirect=7, status=7)) after connection broken by 'RemoteDisconnected('Remote end closed connection without response')': /estrellacouto05/quantum-finance-credit-score.mlflow/api/2.0/mlflow/registered-models/create\n",
      "Successfully registered model 'credit-score-model'.\n",
      "2025/08/03 22:48:58 INFO mlflow.store.model_registry.abstract_store: Waiting up to 300 seconds for model version to finish creation. Model name: credit-score-model, version 1\n",
      "Created version '1' of model 'credit-score-model'.\n"
     ]
    },
    {
     "name": "stdout",
     "output_type": "stream",
     "text": [
      "✅ Modelo registrado como 'credit-score-model' (run_id: eaf41b22355a40d9a6a6b939818b364d)\n"
     ]
    }
   ],
   "source": [
    "# Define o run_id do experimento que você deseja registrar\n",
    "run_id = \"eaf41b22355a40d9a6a6b939818b364d\"\n",
    "\n",
    "# Registra o modelo no MLflow Model Registry\n",
    "mlflow.register_model(\n",
    "    model_uri=f\"runs:/{run_id}/model\",\n",
    "    name=\"credit-score-model\"\n",
    ")\n",
    "\n",
    "print(f\"✅ Modelo registrado como 'credit-score-model' (run_id: {run_id})\")\n"
   ]
  }
 ],
 "metadata": {
  "kernelspec": {
   "display_name": ".venv (3.11.3)",
   "language": "python",
   "name": "python3"
  },
  "language_info": {
   "codemirror_mode": {
    "name": "ipython",
    "version": 3
   },
   "file_extension": ".py",
   "mimetype": "text/x-python",
   "name": "python",
   "nbconvert_exporter": "python",
   "pygments_lexer": "ipython3",
   "version": "3.11.3"
  }
 },
 "nbformat": 4,
 "nbformat_minor": 5
}
